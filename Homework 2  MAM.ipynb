{
 "cells": [
  {
   "cell_type": "markdown",
   "id": "3c66c7e7",
   "metadata": {},
   "source": [
    "# Simple Binary Classification\n",
    "### By J. Sebastian Tenjo G.\n",
    "\n",
    "The Sonar Dataset involves the prediction of whether or not an object is a mine or a rock given the\n",
    "strength of sonar returns at different angles. It is a binary (2-class) classification problem. The\n",
    "number of observations for each class is not balanced. There are 208 observations with 60 input\n",
    "variables and 1 output variable. The variable names are as follows:\n",
    "Sonar returns at different angles\n",
    "...\n",
    "Class (M for mine and R for rock)\n",
    "The baseline performance of predicting the most prevalent class is a classification accuracy of\n",
    "approximately 53%. Top results achieve a classification accuracy of approximately 88%."
   ]
  },
  {
   "cell_type": "markdown",
   "id": "ddf3b23e",
   "metadata": {},
   "source": [
    "### 1. Split the data into training and tes (consider class imbalance)"
   ]
  },
  {
   "cell_type": "code",
   "execution_count": 279,
   "id": "2193f8df",
   "metadata": {},
   "outputs": [],
   "source": [
    "#Importing the required data analysis libraries\n",
    "using DataFrames\n",
    "using CSV\n",
    "using MLDataPattern\n",
    "using StatsBase\n",
    "using Printf\n",
    "using ScikitLearn\n",
    "using ScikitLearn: fit!, predict\n",
    "using StatsBase: sample\n",
    "using LinearAlgebra\n",
    "using Statistics\n",
    "using Plots"
   ]
  },
  {
   "cell_type": "markdown",
   "id": "c3cc4944",
   "metadata": {},
   "source": [
    "### Data pre-processing\n",
    "\n",
    "In a first implementation of the models, it is observed that there are aspects to improve in terms of data format, so the pertinent improvements in format are added, and the processing is presented below.\n",
    "\n"
   ]
  },
  {
   "cell_type": "code",
   "execution_count": 280,
   "id": "b8658140",
   "metadata": {},
   "outputs": [
    {
     "data": {
      "text/html": [
       "<div class=\"data-frame\"><p>208 rows × 61 columns (omitted printing of 52 columns)</p><table class=\"data-frame\"><thead><tr><th></th><th>Column1</th><th>Column2</th><th>Column3</th><th>Column4</th><th>Column5</th><th>Column6</th><th>Column7</th><th>Column8</th><th>Column9</th></tr><tr><th></th><th title=\"Float64\">Float64</th><th title=\"Float64\">Float64</th><th title=\"Float64\">Float64</th><th title=\"Float64\">Float64</th><th title=\"Float64\">Float64</th><th title=\"Float64\">Float64</th><th title=\"Float64\">Float64</th><th title=\"Float64\">Float64</th><th title=\"Float64\">Float64</th></tr></thead><tbody><tr><th>1</th><td>0.02</td><td>0.0371</td><td>0.0428</td><td>0.0207</td><td>0.0954</td><td>0.0986</td><td>0.1539</td><td>0.1601</td><td>0.3109</td></tr><tr><th>2</th><td>0.0453</td><td>0.0523</td><td>0.0843</td><td>0.0689</td><td>0.1183</td><td>0.2583</td><td>0.2156</td><td>0.3481</td><td>0.3337</td></tr><tr><th>3</th><td>0.0262</td><td>0.0582</td><td>0.1099</td><td>0.1083</td><td>0.0974</td><td>0.228</td><td>0.2431</td><td>0.3771</td><td>0.5598</td></tr><tr><th>4</th><td>0.01</td><td>0.0171</td><td>0.0623</td><td>0.0205</td><td>0.0205</td><td>0.0368</td><td>0.1098</td><td>0.1276</td><td>0.0598</td></tr><tr><th>5</th><td>0.0762</td><td>0.0666</td><td>0.0481</td><td>0.0394</td><td>0.059</td><td>0.0649</td><td>0.1209</td><td>0.2467</td><td>0.3564</td></tr><tr><th>6</th><td>0.0286</td><td>0.0453</td><td>0.0277</td><td>0.0174</td><td>0.0384</td><td>0.099</td><td>0.1201</td><td>0.1833</td><td>0.2105</td></tr><tr><th>7</th><td>0.0317</td><td>0.0956</td><td>0.1321</td><td>0.1408</td><td>0.1674</td><td>0.171</td><td>0.0731</td><td>0.1401</td><td>0.2083</td></tr><tr><th>8</th><td>0.0519</td><td>0.0548</td><td>0.0842</td><td>0.0319</td><td>0.1158</td><td>0.0922</td><td>0.1027</td><td>0.0613</td><td>0.1465</td></tr><tr><th>9</th><td>0.0223</td><td>0.0375</td><td>0.0484</td><td>0.0475</td><td>0.0647</td><td>0.0591</td><td>0.0753</td><td>0.0098</td><td>0.0684</td></tr><tr><th>10</th><td>0.0164</td><td>0.0173</td><td>0.0347</td><td>0.007</td><td>0.0187</td><td>0.0671</td><td>0.1056</td><td>0.0697</td><td>0.0962</td></tr><tr><th>11</th><td>0.0039</td><td>0.0063</td><td>0.0152</td><td>0.0336</td><td>0.031</td><td>0.0284</td><td>0.0396</td><td>0.0272</td><td>0.0323</td></tr><tr><th>12</th><td>0.0123</td><td>0.0309</td><td>0.0169</td><td>0.0313</td><td>0.0358</td><td>0.0102</td><td>0.0182</td><td>0.0579</td><td>0.1122</td></tr><tr><th>13</th><td>0.0079</td><td>0.0086</td><td>0.0055</td><td>0.025</td><td>0.0344</td><td>0.0546</td><td>0.0528</td><td>0.0958</td><td>0.1009</td></tr><tr><th>14</th><td>0.009</td><td>0.0062</td><td>0.0253</td><td>0.0489</td><td>0.1197</td><td>0.1589</td><td>0.1392</td><td>0.0987</td><td>0.0955</td></tr><tr><th>15</th><td>0.0124</td><td>0.0433</td><td>0.0604</td><td>0.0449</td><td>0.0597</td><td>0.0355</td><td>0.0531</td><td>0.0343</td><td>0.1052</td></tr><tr><th>16</th><td>0.0298</td><td>0.0615</td><td>0.065</td><td>0.0921</td><td>0.1615</td><td>0.2294</td><td>0.2176</td><td>0.2033</td><td>0.1459</td></tr><tr><th>17</th><td>0.0352</td><td>0.0116</td><td>0.0191</td><td>0.0469</td><td>0.0737</td><td>0.1185</td><td>0.1683</td><td>0.1541</td><td>0.1466</td></tr><tr><th>18</th><td>0.0192</td><td>0.0607</td><td>0.0378</td><td>0.0774</td><td>0.1388</td><td>0.0809</td><td>0.0568</td><td>0.0219</td><td>0.1037</td></tr><tr><th>19</th><td>0.027</td><td>0.0092</td><td>0.0145</td><td>0.0278</td><td>0.0412</td><td>0.0757</td><td>0.1026</td><td>0.1138</td><td>0.0794</td></tr><tr><th>20</th><td>0.0126</td><td>0.0149</td><td>0.0641</td><td>0.1732</td><td>0.2565</td><td>0.2559</td><td>0.2947</td><td>0.411</td><td>0.4983</td></tr><tr><th>21</th><td>0.0473</td><td>0.0509</td><td>0.0819</td><td>0.1252</td><td>0.1783</td><td>0.307</td><td>0.3008</td><td>0.2362</td><td>0.383</td></tr><tr><th>22</th><td>0.0664</td><td>0.0575</td><td>0.0842</td><td>0.0372</td><td>0.0458</td><td>0.0771</td><td>0.0771</td><td>0.113</td><td>0.2353</td></tr><tr><th>23</th><td>0.0099</td><td>0.0484</td><td>0.0299</td><td>0.0297</td><td>0.0652</td><td>0.1077</td><td>0.2363</td><td>0.2385</td><td>0.0075</td></tr><tr><th>24</th><td>0.0115</td><td>0.015</td><td>0.0136</td><td>0.0076</td><td>0.0211</td><td>0.1058</td><td>0.1023</td><td>0.044</td><td>0.0931</td></tr><tr><th>25</th><td>0.0293</td><td>0.0644</td><td>0.039</td><td>0.0173</td><td>0.0476</td><td>0.0816</td><td>0.0993</td><td>0.0315</td><td>0.0736</td></tr><tr><th>26</th><td>0.0201</td><td>0.0026</td><td>0.0138</td><td>0.0062</td><td>0.0133</td><td>0.0151</td><td>0.0541</td><td>0.021</td><td>0.0505</td></tr><tr><th>27</th><td>0.0151</td><td>0.032</td><td>0.0599</td><td>0.105</td><td>0.1163</td><td>0.1734</td><td>0.1679</td><td>0.1119</td><td>0.0889</td></tr><tr><th>28</th><td>0.0177</td><td>0.03</td><td>0.0288</td><td>0.0394</td><td>0.063</td><td>0.0526</td><td>0.0688</td><td>0.0633</td><td>0.0624</td></tr><tr><th>29</th><td>0.01</td><td>0.0275</td><td>0.019</td><td>0.0371</td><td>0.0416</td><td>0.0201</td><td>0.0314</td><td>0.0651</td><td>0.1896</td></tr><tr><th>30</th><td>0.0189</td><td>0.0308</td><td>0.0197</td><td>0.0622</td><td>0.008</td><td>0.0789</td><td>0.144</td><td>0.1451</td><td>0.1789</td></tr><tr><th>&vellip;</th><td>&vellip;</td><td>&vellip;</td><td>&vellip;</td><td>&vellip;</td><td>&vellip;</td><td>&vellip;</td><td>&vellip;</td><td>&vellip;</td><td>&vellip;</td></tr></tbody></table></div>"
      ],
      "text/latex": [
       "\\begin{tabular}{r|cccccccccc}\n",
       "\t& Column1 & Column2 & Column3 & Column4 & Column5 & Column6 & Column7 & Column8 & Column9 & \\\\\n",
       "\t\\hline\n",
       "\t& Float64 & Float64 & Float64 & Float64 & Float64 & Float64 & Float64 & Float64 & Float64 & \\\\\n",
       "\t\\hline\n",
       "\t1 & 0.02 & 0.0371 & 0.0428 & 0.0207 & 0.0954 & 0.0986 & 0.1539 & 0.1601 & 0.3109 & $\\dots$ \\\\\n",
       "\t2 & 0.0453 & 0.0523 & 0.0843 & 0.0689 & 0.1183 & 0.2583 & 0.2156 & 0.3481 & 0.3337 & $\\dots$ \\\\\n",
       "\t3 & 0.0262 & 0.0582 & 0.1099 & 0.1083 & 0.0974 & 0.228 & 0.2431 & 0.3771 & 0.5598 & $\\dots$ \\\\\n",
       "\t4 & 0.01 & 0.0171 & 0.0623 & 0.0205 & 0.0205 & 0.0368 & 0.1098 & 0.1276 & 0.0598 & $\\dots$ \\\\\n",
       "\t5 & 0.0762 & 0.0666 & 0.0481 & 0.0394 & 0.059 & 0.0649 & 0.1209 & 0.2467 & 0.3564 & $\\dots$ \\\\\n",
       "\t6 & 0.0286 & 0.0453 & 0.0277 & 0.0174 & 0.0384 & 0.099 & 0.1201 & 0.1833 & 0.2105 & $\\dots$ \\\\\n",
       "\t7 & 0.0317 & 0.0956 & 0.1321 & 0.1408 & 0.1674 & 0.171 & 0.0731 & 0.1401 & 0.2083 & $\\dots$ \\\\\n",
       "\t8 & 0.0519 & 0.0548 & 0.0842 & 0.0319 & 0.1158 & 0.0922 & 0.1027 & 0.0613 & 0.1465 & $\\dots$ \\\\\n",
       "\t9 & 0.0223 & 0.0375 & 0.0484 & 0.0475 & 0.0647 & 0.0591 & 0.0753 & 0.0098 & 0.0684 & $\\dots$ \\\\\n",
       "\t10 & 0.0164 & 0.0173 & 0.0347 & 0.007 & 0.0187 & 0.0671 & 0.1056 & 0.0697 & 0.0962 & $\\dots$ \\\\\n",
       "\t11 & 0.0039 & 0.0063 & 0.0152 & 0.0336 & 0.031 & 0.0284 & 0.0396 & 0.0272 & 0.0323 & $\\dots$ \\\\\n",
       "\t12 & 0.0123 & 0.0309 & 0.0169 & 0.0313 & 0.0358 & 0.0102 & 0.0182 & 0.0579 & 0.1122 & $\\dots$ \\\\\n",
       "\t13 & 0.0079 & 0.0086 & 0.0055 & 0.025 & 0.0344 & 0.0546 & 0.0528 & 0.0958 & 0.1009 & $\\dots$ \\\\\n",
       "\t14 & 0.009 & 0.0062 & 0.0253 & 0.0489 & 0.1197 & 0.1589 & 0.1392 & 0.0987 & 0.0955 & $\\dots$ \\\\\n",
       "\t15 & 0.0124 & 0.0433 & 0.0604 & 0.0449 & 0.0597 & 0.0355 & 0.0531 & 0.0343 & 0.1052 & $\\dots$ \\\\\n",
       "\t16 & 0.0298 & 0.0615 & 0.065 & 0.0921 & 0.1615 & 0.2294 & 0.2176 & 0.2033 & 0.1459 & $\\dots$ \\\\\n",
       "\t17 & 0.0352 & 0.0116 & 0.0191 & 0.0469 & 0.0737 & 0.1185 & 0.1683 & 0.1541 & 0.1466 & $\\dots$ \\\\\n",
       "\t18 & 0.0192 & 0.0607 & 0.0378 & 0.0774 & 0.1388 & 0.0809 & 0.0568 & 0.0219 & 0.1037 & $\\dots$ \\\\\n",
       "\t19 & 0.027 & 0.0092 & 0.0145 & 0.0278 & 0.0412 & 0.0757 & 0.1026 & 0.1138 & 0.0794 & $\\dots$ \\\\\n",
       "\t20 & 0.0126 & 0.0149 & 0.0641 & 0.1732 & 0.2565 & 0.2559 & 0.2947 & 0.411 & 0.4983 & $\\dots$ \\\\\n",
       "\t21 & 0.0473 & 0.0509 & 0.0819 & 0.1252 & 0.1783 & 0.307 & 0.3008 & 0.2362 & 0.383 & $\\dots$ \\\\\n",
       "\t22 & 0.0664 & 0.0575 & 0.0842 & 0.0372 & 0.0458 & 0.0771 & 0.0771 & 0.113 & 0.2353 & $\\dots$ \\\\\n",
       "\t23 & 0.0099 & 0.0484 & 0.0299 & 0.0297 & 0.0652 & 0.1077 & 0.2363 & 0.2385 & 0.0075 & $\\dots$ \\\\\n",
       "\t24 & 0.0115 & 0.015 & 0.0136 & 0.0076 & 0.0211 & 0.1058 & 0.1023 & 0.044 & 0.0931 & $\\dots$ \\\\\n",
       "\t25 & 0.0293 & 0.0644 & 0.039 & 0.0173 & 0.0476 & 0.0816 & 0.0993 & 0.0315 & 0.0736 & $\\dots$ \\\\\n",
       "\t26 & 0.0201 & 0.0026 & 0.0138 & 0.0062 & 0.0133 & 0.0151 & 0.0541 & 0.021 & 0.0505 & $\\dots$ \\\\\n",
       "\t27 & 0.0151 & 0.032 & 0.0599 & 0.105 & 0.1163 & 0.1734 & 0.1679 & 0.1119 & 0.0889 & $\\dots$ \\\\\n",
       "\t28 & 0.0177 & 0.03 & 0.0288 & 0.0394 & 0.063 & 0.0526 & 0.0688 & 0.0633 & 0.0624 & $\\dots$ \\\\\n",
       "\t29 & 0.01 & 0.0275 & 0.019 & 0.0371 & 0.0416 & 0.0201 & 0.0314 & 0.0651 & 0.1896 & $\\dots$ \\\\\n",
       "\t30 & 0.0189 & 0.0308 & 0.0197 & 0.0622 & 0.008 & 0.0789 & 0.144 & 0.1451 & 0.1789 & $\\dots$ \\\\\n",
       "\t$\\dots$ & $\\dots$ & $\\dots$ & $\\dots$ & $\\dots$ & $\\dots$ & $\\dots$ & $\\dots$ & $\\dots$ & $\\dots$ &  \\\\\n",
       "\\end{tabular}\n"
      ],
      "text/plain": [
       "\u001b[1m208×61 DataFrame\u001b[0m\n",
       "\u001b[1m Row \u001b[0m│\u001b[1m Column1 \u001b[0m\u001b[1m Column2 \u001b[0m\u001b[1m Column3 \u001b[0m\u001b[1m Column4 \u001b[0m\u001b[1m Column5 \u001b[0m\u001b[1m Column6 \u001b[0m\u001b[1m Column7 \u001b[0m\u001b[1m Column8 \u001b[0m\u001b[1m\u001b[0m ⋯\n",
       "\u001b[1m     \u001b[0m│\u001b[90m Float64 \u001b[0m\u001b[90m Float64 \u001b[0m\u001b[90m Float64 \u001b[0m\u001b[90m Float64 \u001b[0m\u001b[90m Float64 \u001b[0m\u001b[90m Float64 \u001b[0m\u001b[90m Float64 \u001b[0m\u001b[90m Float64 \u001b[0m\u001b[90m\u001b[0m ⋯\n",
       "─────┼──────────────────────────────────────────────────────────────────────────\n",
       "   1 │  0.02     0.0371   0.0428   0.0207   0.0954   0.0986   0.1539   0.1601  ⋯\n",
       "   2 │  0.0453   0.0523   0.0843   0.0689   0.1183   0.2583   0.2156   0.3481\n",
       "   3 │  0.0262   0.0582   0.1099   0.1083   0.0974   0.228    0.2431   0.3771\n",
       "   4 │  0.01     0.0171   0.0623   0.0205   0.0205   0.0368   0.1098   0.1276\n",
       "   5 │  0.0762   0.0666   0.0481   0.0394   0.059    0.0649   0.1209   0.2467  ⋯\n",
       "   6 │  0.0286   0.0453   0.0277   0.0174   0.0384   0.099    0.1201   0.1833\n",
       "   7 │  0.0317   0.0956   0.1321   0.1408   0.1674   0.171    0.0731   0.1401\n",
       "   8 │  0.0519   0.0548   0.0842   0.0319   0.1158   0.0922   0.1027   0.0613\n",
       "   9 │  0.0223   0.0375   0.0484   0.0475   0.0647   0.0591   0.0753   0.0098  ⋯\n",
       "  10 │  0.0164   0.0173   0.0347   0.007    0.0187   0.0671   0.1056   0.0697\n",
       "  11 │  0.0039   0.0063   0.0152   0.0336   0.031    0.0284   0.0396   0.0272\n",
       "  ⋮  │    ⋮        ⋮        ⋮        ⋮        ⋮        ⋮        ⋮        ⋮     ⋱\n",
       " 199 │  0.0238   0.0318   0.0422   0.0399   0.0788   0.0766   0.0881   0.1143\n",
       " 200 │  0.0116   0.0744   0.0367   0.0225   0.0076   0.0545   0.111    0.1069  ⋯\n",
       " 201 │  0.0131   0.0387   0.0329   0.0078   0.0721   0.1341   0.1626   0.1902\n",
       " 202 │  0.0335   0.0258   0.0398   0.057    0.0529   0.1091   0.1709   0.1684\n",
       " 203 │  0.0272   0.0378   0.0488   0.0848   0.1127   0.1103   0.1349   0.2337\n",
       " 204 │  0.0187   0.0346   0.0168   0.0177   0.0393   0.163    0.2028   0.1694  ⋯\n",
       " 205 │  0.0323   0.0101   0.0298   0.0564   0.076    0.0958   0.099    0.1018\n",
       " 206 │  0.0522   0.0437   0.018    0.0292   0.0351   0.1171   0.1257   0.1178\n",
       " 207 │  0.0303   0.0353   0.049    0.0608   0.0167   0.1354   0.1465   0.1123\n",
       " 208 │  0.026    0.0363   0.0136   0.0272   0.0214   0.0338   0.0655   0.14    ⋯\n",
       "\u001b[36m                                                 53 columns and 187 rows omitted\u001b[0m"
      ]
     },
     "execution_count": 280,
     "metadata": {},
     "output_type": "execute_result"
    }
   ],
   "source": [
    "#Reading data from the repository\n",
    "DataSet = DataFrame(CSV.File(\"Data/sonar.csv\", header=0))"
   ]
  },
  {
   "cell_type": "code",
   "execution_count": 281,
   "id": "a53ebfd9",
   "metadata": {},
   "outputs": [
    {
     "data": {
      "text/plain": [
       "Dict{String1, Int64} with 2 entries:\n",
       "  \"M\" => 111\n",
       "  \"R\" => 97"
      ]
     },
     "execution_count": 281,
     "metadata": {},
     "output_type": "execute_result"
    }
   ],
   "source": [
    "#I will now confirm that the number of observations is not balanced \n",
    "rename!(DataSet, :Column61 => :label) #data set class labels\n",
    "countmap(DataSet.label) #count amount of samples for each class"
   ]
  },
  {
   "cell_type": "code",
   "execution_count": 282,
   "id": "8b45deb7",
   "metadata": {},
   "outputs": [
    {
     "data": {
      "text/plain": [
       "(\u001b[1m146×61 SubDataFrame\u001b[0m\n",
       "\u001b[1m Row \u001b[0m│\u001b[1m Column1 \u001b[0m\u001b[1m Column2 \u001b[0m\u001b[1m Column3 \u001b[0m\u001b[1m Column4 \u001b[0m\u001b[1m Column5 \u001b[0m\u001b[1m Column6 \u001b[0m\u001b[1m Column7 \u001b[0m\u001b[1m Column8 \u001b[0m\u001b[1m\u001b[0m ⋯\n",
       "\u001b[1m     \u001b[0m│\u001b[90m Float64 \u001b[0m\u001b[90m Float64 \u001b[0m\u001b[90m Float64 \u001b[0m\u001b[90m Float64 \u001b[0m\u001b[90m Float64 \u001b[0m\u001b[90m Float64 \u001b[0m\u001b[90m Float64 \u001b[0m\u001b[90m Float64 \u001b[0m\u001b[90m\u001b[0m ⋯\n",
       "─────┼──────────────────────────────────────────────────────────────────────────\n",
       "   1 │  0.0201   0.0026   0.0138   0.0062   0.0133   0.0151   0.0541   0.021   ⋯\n",
       "   2 │  0.0368   0.0403   0.0317   0.0293   0.082    0.1342   0.1161   0.0663\n",
       "   3 │  0.0235   0.022    0.0167   0.0516   0.0746   0.1121   0.1258   0.1717\n",
       "   4 │  0.0473   0.0509   0.0819   0.1252   0.1783   0.307    0.3008   0.2362\n",
       "   5 │  0.0124   0.0433   0.0604   0.0449   0.0597   0.0355   0.0531   0.0343  ⋯\n",
       "   6 │  0.0197   0.0394   0.0384   0.0076   0.0251   0.0629   0.0747   0.0578\n",
       "   7 │  0.0093   0.0269   0.0217   0.0339   0.0305   0.1172   0.145    0.0638\n",
       "   8 │  0.0223   0.0375   0.0484   0.0475   0.0647   0.0591   0.0753   0.0098\n",
       "   9 │  0.0229   0.0369   0.004    0.0375   0.0455   0.1452   0.2211   0.1188  ⋯\n",
       "  10 │  0.026    0.0192   0.0254   0.0061   0.0352   0.0701   0.1263   0.108\n",
       "  11 │  0.02     0.0371   0.0428   0.0207   0.0954   0.0986   0.1539   0.1601\n",
       "  ⋮  │    ⋮        ⋮        ⋮        ⋮        ⋮        ⋮        ⋮        ⋮     ⋱\n",
       " 137 │  0.0202   0.0104   0.0325   0.0239   0.0807   0.1529   0.1154   0.0608\n",
       " 138 │  0.0228   0.0106   0.013    0.0842   0.1117   0.1506   0.1776   0.0997  ⋯\n",
       " 139 │  0.0135   0.0045   0.0051   0.0289   0.0561   0.0929   0.1031   0.0883\n",
       " 140 │  0.0091   0.0213   0.0206   0.0505   0.0657   0.0795   0.097    0.0872\n",
       " 141 │  0.005    0.0017   0.027    0.045    0.0958   0.083    0.0879   0.122\n",
       " 142 │  0.0712   0.0901   0.1276   0.1497   0.1284   0.1165   0.1285   0.1684  ⋯\n",
       " 143 │  0.0181   0.0146   0.0026   0.0141   0.0421   0.0473   0.0361   0.0741\n",
       " 144 │  0.0293   0.0378   0.0257   0.0062   0.013    0.0612   0.0895   0.1107\n",
       " 145 │  0.0201   0.0423   0.0554   0.0783   0.062    0.0871   0.1201   0.2707\n",
       " 146 │  0.0707   0.1252   0.1447   0.1644   0.1693   0.0844   0.0715   0.0947  ⋯\n",
       "\u001b[36m                                                 53 columns and 125 rows omitted\u001b[0m, \u001b[1m62×61 SubDataFrame\u001b[0m\n",
       "\u001b[1m Row \u001b[0m│\u001b[1m Column1 \u001b[0m\u001b[1m Column2 \u001b[0m\u001b[1m Column3 \u001b[0m\u001b[1m Column4 \u001b[0m\u001b[1m Column5 \u001b[0m\u001b[1m Column6 \u001b[0m\u001b[1m Column7 \u001b[0m\u001b[1m Column8 \u001b[0m\u001b[1m\u001b[0m ⋯\n",
       "\u001b[1m     \u001b[0m│\u001b[90m Float64 \u001b[0m\u001b[90m Float64 \u001b[0m\u001b[90m Float64 \u001b[0m\u001b[90m Float64 \u001b[0m\u001b[90m Float64 \u001b[0m\u001b[90m Float64 \u001b[0m\u001b[90m Float64 \u001b[0m\u001b[90m Float64 \u001b[0m\u001b[90m\u001b[0m ⋯\n",
       "─────┼──────────────────────────────────────────────────────────────────────────\n",
       "   1 │  0.0731   0.1249   0.1665   0.1496   0.1443   0.277    0.2555   0.1712  ⋯\n",
       "   2 │  0.0095   0.0308   0.0539   0.0411   0.0613   0.1039   0.1016   0.1394\n",
       "   3 │  0.0311   0.0491   0.0692   0.0831   0.0079   0.02     0.0981   0.1016\n",
       "   4 │  0.0526   0.0563   0.1219   0.1206   0.0246   0.1022   0.0539   0.0439\n",
       "   5 │  0.0414   0.0436   0.0447   0.0844   0.0419   0.1215   0.2002   0.1516  ⋯\n",
       "   6 │  0.0365   0.1632   0.1636   0.1421   0.113    0.1306   0.2112   0.2268\n",
       "   7 │  0.0217   0.034    0.0392   0.0236   0.1081   0.1164   0.1398   0.1009\n",
       "   8 │  0.115    0.1163   0.0866   0.0358   0.0232   0.1267   0.2417   0.2661\n",
       "   9 │  0.0654   0.0649   0.0737   0.1132   0.2482   0.1257   0.1797   0.0989  ⋯\n",
       "  10 │  0.0412   0.1135   0.0518   0.0232   0.0646   0.1124   0.1787   0.2407\n",
       "  11 │  0.0587   0.121    0.1268   0.1498   0.1436   0.0561   0.0832   0.0672\n",
       "  ⋮  │    ⋮        ⋮        ⋮        ⋮        ⋮        ⋮        ⋮        ⋮     ⋱\n",
       "  53 │  0.0087   0.0046   0.0081   0.023    0.0586   0.0682   0.0993   0.0717\n",
       "  54 │  0.031    0.0221   0.0433   0.0191   0.0964   0.1827   0.1106   0.1702  ⋯\n",
       "  55 │  0.0179   0.0136   0.0408   0.0633   0.0596   0.0808   0.209    0.3465\n",
       "  56 │  0.0453   0.0523   0.0843   0.0689   0.1183   0.2583   0.2156   0.3481\n",
       "  57 │  0.034    0.0625   0.0381   0.0257   0.0441   0.1027   0.1287   0.185\n",
       "  58 │  0.0291   0.04     0.0771   0.0809   0.0521   0.1051   0.0145   0.0674  ⋯\n",
       "  59 │  0.0428   0.0555   0.0708   0.0618   0.1215   0.1524   0.1543   0.0391\n",
       "  60 │  0.019    0.0038   0.0642   0.0452   0.0333   0.069    0.0901   0.1454\n",
       "  61 │  0.0373   0.0281   0.0232   0.0225   0.0179   0.0733   0.0841   0.1031\n",
       "  62 │  0.0257   0.0447   0.0388   0.0239   0.1315   0.1323   0.1608   0.2145  ⋯\n",
       "\u001b[36m                                                  53 columns and 41 rows omitted\u001b[0m)"
      ]
     },
     "execution_count": 282,
     "metadata": {},
     "output_type": "execute_result"
    }
   ],
   "source": [
    "using MLDataUtils\n",
    "#Randomly splitting data into two disjoint subsets (the default data distribution is 70%-30%)\n",
    "TrainSet, TestSet = splitobs(shuffleobs(DataSet))"
   ]
  },
  {
   "cell_type": "code",
   "execution_count": 283,
   "id": "d229b461",
   "metadata": {},
   "outputs": [
    {
     "data": {
      "text/plain": [
       "Dict{String1, Int64} with 2 entries:\n",
       "  \"M\" => 34\n",
       "  \"R\" => 28"
      ]
     },
     "execution_count": 283,
     "metadata": {},
     "output_type": "execute_result"
    }
   ],
   "source": [
    "TrainSetF=TrainSet[:,1:60]; #train data set features\n",
    "TestSetF=TestSet[:,1:60]; #test data set features\n",
    "countmap(TestSet.label) "
   ]
  },
  {
   "cell_type": "markdown",
   "id": "e6ba3633",
   "metadata": {},
   "source": [
    "In a first installment, it is observed that it is necessary to modify the format of the data, along with some quantity balancing issues since the models implemented without this pre-processing could generate unwanted error levels, for this the first step is a heat map and the observation of the correlation."
   ]
  },
  {
   "cell_type": "code",
   "execution_count": 284,
   "id": "854cc9d8",
   "metadata": {},
   "outputs": [],
   "source": [
    "Data_csv = CSV.read(\"Data/sonar.csv\",DataFrame,header=0);\n",
    "data = DataFrame(Data_csv);"
   ]
  },
  {
   "cell_type": "code",
   "execution_count": 285,
   "id": "3a9b95b7",
   "metadata": {},
   "outputs": [
    {
     "data": {
      "image/svg+xml": [
       "<?xml version=\"1.0\" encoding=\"utf-8\"?>\n",
       "<svg xmlns=\"http://www.w3.org/2000/svg\" xmlns:xlink=\"http://www.w3.org/1999/xlink\" width=\"600\" height=\"400\" viewBox=\"0 0 2400 1600\">\n",
       "<defs>\n",
       "  <clipPath id=\"clip660\">\n",
       "    <rect x=\"0\" y=\"0\" width=\"2400\" height=\"1600\"/>\n",
       "  </clipPath>\n",
       "</defs>\n",
       "<path clip-path=\"url(#clip660)\" d=\"\n",
       "M0 1600 L2400 1600 L2400 0 L0 0  Z\n",
       "  \" fill=\"#ffffff\" fill-rule=\"evenodd\" fill-opacity=\"1\"/>\n",
       "<defs>\n",
       "  <clipPath id=\"clip661\">\n",
       "    <rect x=\"480\" y=\"0\" width=\"1681\" height=\"1600\"/>\n",
       "  </clipPath>\n",
       "</defs>\n",
       "<path clip-path=\"url(#clip660)\" d=\"\n",
       "M141.853 1486.45 L2112.76 1486.45 L2112.76 123.472 L141.853 123.472  Z\n",
       "  \" fill=\"#ffffff\" fill-rule=\"evenodd\" fill-opacity=\"1\"/>\n",
       "<defs>\n",
       "  <clipPath id=\"clip662\">\n",
       "    <rect x=\"141\" y=\"123\" width=\"1972\" height=\"1364\"/>\n",
       "  </clipPath>\n",
       "</defs>\n",
       "<polyline clip-path=\"url(#clip662)\" style=\"stroke:#000000; stroke-linecap:butt; stroke-linejoin:round; stroke-width:2; stroke-opacity:0.1; fill:none\" points=\"\n",
       "  453.913,123.472 453.913,1486.45 \n",
       "  \"/>\n",
       "<polyline clip-path=\"url(#clip662)\" style=\"stroke:#000000; stroke-linecap:butt; stroke-linejoin:round; stroke-width:2; stroke-opacity:0.1; fill:none\" points=\"\n",
       "  782.396,123.472 782.396,1486.45 \n",
       "  \"/>\n",
       "<polyline clip-path=\"url(#clip662)\" style=\"stroke:#000000; stroke-linecap:butt; stroke-linejoin:round; stroke-width:2; stroke-opacity:0.1; fill:none\" points=\"\n",
       "  1110.88,123.472 1110.88,1486.45 \n",
       "  \"/>\n",
       "<polyline clip-path=\"url(#clip662)\" style=\"stroke:#000000; stroke-linecap:butt; stroke-linejoin:round; stroke-width:2; stroke-opacity:0.1; fill:none\" points=\"\n",
       "  1439.36,123.472 1439.36,1486.45 \n",
       "  \"/>\n",
       "<polyline clip-path=\"url(#clip662)\" style=\"stroke:#000000; stroke-linecap:butt; stroke-linejoin:round; stroke-width:2; stroke-opacity:0.1; fill:none\" points=\"\n",
       "  1767.85,123.472 1767.85,1486.45 \n",
       "  \"/>\n",
       "<polyline clip-path=\"url(#clip662)\" style=\"stroke:#000000; stroke-linecap:butt; stroke-linejoin:round; stroke-width:2; stroke-opacity:0.1; fill:none\" points=\"\n",
       "  2096.33,123.472 2096.33,1486.45 \n",
       "  \"/>\n",
       "<polyline clip-path=\"url(#clip660)\" style=\"stroke:#000000; stroke-linecap:butt; stroke-linejoin:round; stroke-width:4; stroke-opacity:1; fill:none\" points=\"\n",
       "  141.853,1486.45 2112.76,1486.45 \n",
       "  \"/>\n",
       "<polyline clip-path=\"url(#clip660)\" style=\"stroke:#000000; stroke-linecap:butt; stroke-linejoin:round; stroke-width:4; stroke-opacity:1; fill:none\" points=\"\n",
       "  453.913,1486.45 453.913,1467.55 \n",
       "  \"/>\n",
       "<polyline clip-path=\"url(#clip660)\" style=\"stroke:#000000; stroke-linecap:butt; stroke-linejoin:round; stroke-width:4; stroke-opacity:1; fill:none\" points=\"\n",
       "  782.396,1486.45 782.396,1467.55 \n",
       "  \"/>\n",
       "<polyline clip-path=\"url(#clip660)\" style=\"stroke:#000000; stroke-linecap:butt; stroke-linejoin:round; stroke-width:4; stroke-opacity:1; fill:none\" points=\"\n",
       "  1110.88,1486.45 1110.88,1467.55 \n",
       "  \"/>\n",
       "<polyline clip-path=\"url(#clip660)\" style=\"stroke:#000000; stroke-linecap:butt; stroke-linejoin:round; stroke-width:4; stroke-opacity:1; fill:none\" points=\"\n",
       "  1439.36,1486.45 1439.36,1467.55 \n",
       "  \"/>\n",
       "<polyline clip-path=\"url(#clip660)\" style=\"stroke:#000000; stroke-linecap:butt; stroke-linejoin:round; stroke-width:4; stroke-opacity:1; fill:none\" points=\"\n",
       "  1767.85,1486.45 1767.85,1467.55 \n",
       "  \"/>\n",
       "<polyline clip-path=\"url(#clip660)\" style=\"stroke:#000000; stroke-linecap:butt; stroke-linejoin:round; stroke-width:4; stroke-opacity:1; fill:none\" points=\"\n",
       "  2096.33,1486.45 2096.33,1467.55 \n",
       "  \"/>\n",
       "<path clip-path=\"url(#clip660)\" d=\"M428.6 1544.91 L436.239 1544.91 L436.239 1518.55 L427.929 1520.21 L427.929 1515.95 L436.193 1514.29 L440.869 1514.29 L440.869 1544.91 L448.508 1544.91 L448.508 1548.85 L428.6 1548.85 L428.6 1544.91 Z\" fill=\"#000000\" fill-rule=\"evenodd\" fill-opacity=\"1\" /><path clip-path=\"url(#clip660)\" d=\"M467.952 1517.37 Q464.341 1517.37 462.512 1520.93 Q460.707 1524.47 460.707 1531.6 Q460.707 1538.71 462.512 1542.27 Q464.341 1545.82 467.952 1545.82 Q471.586 1545.82 473.392 1542.27 Q475.22 1538.71 475.22 1531.6 Q475.22 1524.47 473.392 1520.93 Q471.586 1517.37 467.952 1517.37 M467.952 1513.66 Q473.762 1513.66 476.818 1518.27 Q479.896 1522.85 479.896 1531.6 Q479.896 1540.33 476.818 1544.94 Q473.762 1549.52 467.952 1549.52 Q462.142 1549.52 459.063 1544.94 Q456.007 1540.33 456.007 1531.6 Q456.007 1522.85 459.063 1518.27 Q462.142 1513.66 467.952 1513.66 Z\" fill=\"#000000\" fill-rule=\"evenodd\" fill-opacity=\"1\" /><path clip-path=\"url(#clip660)\" d=\"M761.17 1544.91 L777.489 1544.91 L777.489 1548.85 L755.545 1548.85 L755.545 1544.91 Q758.207 1542.16 762.79 1537.53 Q767.396 1532.88 768.577 1531.53 Q770.822 1529.01 771.702 1527.27 Q772.605 1525.51 772.605 1523.82 Q772.605 1521.07 770.66 1519.33 Q768.739 1517.6 765.637 1517.6 Q763.438 1517.6 760.984 1518.36 Q758.554 1519.13 755.776 1520.68 L755.776 1515.95 Q758.6 1514.82 761.054 1514.24 Q763.508 1513.66 765.545 1513.66 Q770.915 1513.66 774.109 1516.35 Q777.304 1519.03 777.304 1523.52 Q777.304 1525.65 776.494 1527.57 Q775.707 1529.47 773.6 1532.07 Q773.021 1532.74 769.92 1535.95 Q766.818 1539.15 761.17 1544.91 Z\" fill=\"#000000\" fill-rule=\"evenodd\" fill-opacity=\"1\" /><path clip-path=\"url(#clip660)\" d=\"M797.304 1517.37 Q793.693 1517.37 791.864 1520.93 Q790.058 1524.47 790.058 1531.6 Q790.058 1538.71 791.864 1542.27 Q793.693 1545.82 797.304 1545.82 Q800.938 1545.82 802.744 1542.27 Q804.572 1538.71 804.572 1531.6 Q804.572 1524.47 802.744 1520.93 Q800.938 1517.37 797.304 1517.37 M797.304 1513.66 Q803.114 1513.66 806.169 1518.27 Q809.248 1522.85 809.248 1531.6 Q809.248 1540.33 806.169 1544.94 Q803.114 1549.52 797.304 1549.52 Q791.494 1549.52 788.415 1544.94 Q785.359 1540.33 785.359 1531.6 Q785.359 1522.85 788.415 1518.27 Q791.494 1513.66 797.304 1513.66 Z\" fill=\"#000000\" fill-rule=\"evenodd\" fill-opacity=\"1\" /><path clip-path=\"url(#clip660)\" d=\"M1099.72 1530.21 Q1103.08 1530.93 1104.95 1533.2 Q1106.85 1535.47 1106.85 1538.8 Q1106.85 1543.92 1103.33 1546.72 Q1099.82 1549.52 1093.33 1549.52 Q1091.16 1549.52 1088.84 1549.08 Q1086.55 1548.66 1084.1 1547.81 L1084.1 1543.29 Q1086.04 1544.43 1088.36 1545.01 Q1090.67 1545.58 1093.2 1545.58 Q1097.59 1545.58 1099.88 1543.85 Q1102.2 1542.11 1102.2 1538.8 Q1102.2 1535.75 1100.05 1534.03 Q1097.92 1532.3 1094.1 1532.3 L1090.07 1532.3 L1090.07 1528.45 L1094.28 1528.45 Q1097.73 1528.45 1099.56 1527.09 Q1101.39 1525.7 1101.39 1523.11 Q1101.39 1520.45 1099.49 1519.03 Q1097.62 1517.6 1094.1 1517.6 Q1092.18 1517.6 1089.98 1518.01 Q1087.78 1518.43 1085.14 1519.31 L1085.14 1515.14 Q1087.8 1514.4 1090.12 1514.03 Q1092.45 1513.66 1094.51 1513.66 Q1099.84 1513.66 1102.94 1516.09 Q1106.04 1518.5 1106.04 1522.62 Q1106.04 1525.49 1104.4 1527.48 Q1102.76 1529.45 1099.72 1530.21 Z\" fill=\"#000000\" fill-rule=\"evenodd\" fill-opacity=\"1\" /><path clip-path=\"url(#clip660)\" d=\"M1125.72 1517.37 Q1122.11 1517.37 1120.28 1520.93 Q1118.47 1524.47 1118.47 1531.6 Q1118.47 1538.71 1120.28 1542.27 Q1122.11 1545.82 1125.72 1545.82 Q1129.35 1545.82 1131.16 1542.27 Q1132.99 1538.71 1132.99 1531.6 Q1132.99 1524.47 1131.16 1520.93 Q1129.35 1517.37 1125.72 1517.37 M1125.72 1513.66 Q1131.53 1513.66 1134.58 1518.27 Q1137.66 1522.85 1137.66 1531.6 Q1137.66 1540.33 1134.58 1544.94 Q1131.53 1549.52 1125.72 1549.52 Q1119.91 1549.52 1116.83 1544.94 Q1113.77 1540.33 1113.77 1531.6 Q1113.77 1522.85 1116.83 1518.27 Q1119.91 1513.66 1125.72 1513.66 Z\" fill=\"#000000\" fill-rule=\"evenodd\" fill-opacity=\"1\" /><path clip-path=\"url(#clip660)\" d=\"M1427.54 1518.36 L1415.73 1536.81 L1427.54 1536.81 L1427.54 1518.36 M1426.31 1514.29 L1432.19 1514.29 L1432.19 1536.81 L1437.12 1536.81 L1437.12 1540.7 L1432.19 1540.7 L1432.19 1548.85 L1427.54 1548.85 L1427.54 1540.7 L1411.93 1540.7 L1411.93 1536.19 L1426.31 1514.29 Z\" fill=\"#000000\" fill-rule=\"evenodd\" fill-opacity=\"1\" /><path clip-path=\"url(#clip660)\" d=\"M1454.85 1517.37 Q1451.24 1517.37 1449.41 1520.93 Q1447.6 1524.47 1447.6 1531.6 Q1447.6 1538.71 1449.41 1542.27 Q1451.24 1545.82 1454.85 1545.82 Q1458.48 1545.82 1460.29 1542.27 Q1462.12 1538.71 1462.12 1531.6 Q1462.12 1524.47 1460.29 1520.93 Q1458.48 1517.37 1454.85 1517.37 M1454.85 1513.66 Q1460.66 1513.66 1463.72 1518.27 Q1466.79 1522.85 1466.79 1531.6 Q1466.79 1540.33 1463.72 1544.94 Q1460.66 1549.52 1454.85 1549.52 Q1449.04 1549.52 1445.96 1544.94 Q1442.91 1540.33 1442.91 1531.6 Q1442.91 1522.85 1445.96 1518.27 Q1449.04 1513.66 1454.85 1513.66 Z\" fill=\"#000000\" fill-rule=\"evenodd\" fill-opacity=\"1\" /><path clip-path=\"url(#clip660)\" d=\"M1742.55 1514.29 L1760.9 1514.29 L1760.9 1518.22 L1746.83 1518.22 L1746.83 1526.7 Q1747.85 1526.35 1748.87 1526.19 Q1749.89 1526 1750.9 1526 Q1756.69 1526 1760.07 1529.17 Q1763.45 1532.34 1763.45 1537.76 Q1763.45 1543.34 1759.98 1546.44 Q1756.51 1549.52 1750.19 1549.52 Q1748.01 1549.52 1745.74 1549.15 Q1743.5 1548.78 1741.09 1548.04 L1741.09 1543.34 Q1743.17 1544.47 1745.39 1545.03 Q1747.62 1545.58 1750.09 1545.58 Q1754.1 1545.58 1756.44 1543.48 Q1758.77 1541.37 1758.77 1537.76 Q1758.77 1534.15 1756.44 1532.04 Q1754.1 1529.94 1750.09 1529.94 Q1748.22 1529.94 1746.34 1530.35 Q1744.49 1530.77 1742.55 1531.65 L1742.55 1514.29 Z\" fill=\"#000000\" fill-rule=\"evenodd\" fill-opacity=\"1\" /><path clip-path=\"url(#clip660)\" d=\"M1782.66 1517.37 Q1779.05 1517.37 1777.22 1520.93 Q1775.42 1524.47 1775.42 1531.6 Q1775.42 1538.71 1777.22 1542.27 Q1779.05 1545.82 1782.66 1545.82 Q1786.3 1545.82 1788.1 1542.27 Q1789.93 1538.71 1789.93 1531.6 Q1789.93 1524.47 1788.1 1520.93 Q1786.3 1517.37 1782.66 1517.37 M1782.66 1513.66 Q1788.47 1513.66 1791.53 1518.27 Q1794.61 1522.85 1794.61 1531.6 Q1794.61 1540.33 1791.53 1544.94 Q1788.47 1549.52 1782.66 1549.52 Q1776.85 1549.52 1773.77 1544.94 Q1770.72 1540.33 1770.72 1531.6 Q1770.72 1522.85 1773.77 1518.27 Q1776.85 1513.66 1782.66 1513.66 Z\" fill=\"#000000\" fill-rule=\"evenodd\" fill-opacity=\"1\" /><path clip-path=\"url(#clip660)\" d=\"M2081.74 1529.7 Q2078.59 1529.7 2076.74 1531.86 Q2074.91 1534.01 2074.91 1537.76 Q2074.91 1541.49 2076.74 1543.66 Q2078.59 1545.82 2081.74 1545.82 Q2084.89 1545.82 2086.71 1543.66 Q2088.57 1541.49 2088.57 1537.76 Q2088.57 1534.01 2086.71 1531.86 Q2084.89 1529.7 2081.74 1529.7 M2091.02 1515.05 L2091.02 1519.31 Q2089.26 1518.48 2087.45 1518.04 Q2085.67 1517.6 2083.91 1517.6 Q2079.28 1517.6 2076.83 1520.72 Q2074.4 1523.85 2074.05 1530.17 Q2075.42 1528.15 2077.48 1527.09 Q2079.54 1526 2082.01 1526 Q2087.22 1526 2090.23 1529.17 Q2093.26 1532.32 2093.26 1537.76 Q2093.26 1543.08 2090.12 1546.3 Q2086.97 1549.52 2081.74 1549.52 Q2075.74 1549.52 2072.57 1544.94 Q2069.4 1540.33 2069.4 1531.6 Q2069.4 1523.41 2073.29 1518.55 Q2077.18 1513.66 2083.73 1513.66 Q2085.49 1513.66 2087.27 1514.01 Q2089.07 1514.36 2091.02 1515.05 Z\" fill=\"#000000\" fill-rule=\"evenodd\" fill-opacity=\"1\" /><path clip-path=\"url(#clip660)\" d=\"M2111.32 1517.37 Q2107.71 1517.37 2105.88 1520.93 Q2104.07 1524.47 2104.07 1531.6 Q2104.07 1538.71 2105.88 1542.27 Q2107.71 1545.82 2111.32 1545.82 Q2114.95 1545.82 2116.76 1542.27 Q2118.59 1538.71 2118.59 1531.6 Q2118.59 1524.47 2116.76 1520.93 Q2114.95 1517.37 2111.32 1517.37 M2111.32 1513.66 Q2117.13 1513.66 2120.19 1518.27 Q2123.26 1522.85 2123.26 1531.6 Q2123.26 1540.33 2120.19 1544.94 Q2117.13 1549.52 2111.32 1549.52 Q2105.51 1549.52 2102.43 1544.94 Q2099.38 1540.33 2099.38 1531.6 Q2099.38 1522.85 2102.43 1518.27 Q2105.51 1513.66 2111.32 1513.66 Z\" fill=\"#000000\" fill-rule=\"evenodd\" fill-opacity=\"1\" /><polyline clip-path=\"url(#clip662)\" style=\"stroke:#000000; stroke-linecap:butt; stroke-linejoin:round; stroke-width:2; stroke-opacity:0.1; fill:none\" points=\"\n",
       "  141.853,339.277 2112.76,339.277 \n",
       "  \"/>\n",
       "<polyline clip-path=\"url(#clip662)\" style=\"stroke:#000000; stroke-linecap:butt; stroke-linejoin:round; stroke-width:2; stroke-opacity:0.1; fill:none\" points=\"\n",
       "  141.853,566.439 2112.76,566.439 \n",
       "  \"/>\n",
       "<polyline clip-path=\"url(#clip662)\" style=\"stroke:#000000; stroke-linecap:butt; stroke-linejoin:round; stroke-width:2; stroke-opacity:0.1; fill:none\" points=\"\n",
       "  141.853,793.602 2112.76,793.602 \n",
       "  \"/>\n",
       "<polyline clip-path=\"url(#clip662)\" style=\"stroke:#000000; stroke-linecap:butt; stroke-linejoin:round; stroke-width:2; stroke-opacity:0.1; fill:none\" points=\"\n",
       "  141.853,1020.76 2112.76,1020.76 \n",
       "  \"/>\n",
       "<polyline clip-path=\"url(#clip662)\" style=\"stroke:#000000; stroke-linecap:butt; stroke-linejoin:round; stroke-width:2; stroke-opacity:0.1; fill:none\" points=\"\n",
       "  141.853,1247.93 2112.76,1247.93 \n",
       "  \"/>\n",
       "<polyline clip-path=\"url(#clip662)\" style=\"stroke:#000000; stroke-linecap:butt; stroke-linejoin:round; stroke-width:2; stroke-opacity:0.1; fill:none\" points=\"\n",
       "  141.853,1475.09 2112.76,1475.09 \n",
       "  \"/>\n",
       "<polyline clip-path=\"url(#clip660)\" style=\"stroke:#000000; stroke-linecap:butt; stroke-linejoin:round; stroke-width:4; stroke-opacity:1; fill:none\" points=\"\n",
       "  141.853,123.472 141.853,1486.45 \n",
       "  \"/>\n",
       "<polyline clip-path=\"url(#clip660)\" style=\"stroke:#000000; stroke-linecap:butt; stroke-linejoin:round; stroke-width:4; stroke-opacity:1; fill:none\" points=\"\n",
       "  141.853,339.277 158.699,339.277 \n",
       "  \"/>\n",
       "<polyline clip-path=\"url(#clip660)\" style=\"stroke:#000000; stroke-linecap:butt; stroke-linejoin:round; stroke-width:4; stroke-opacity:1; fill:none\" points=\"\n",
       "  141.853,566.439 158.699,566.439 \n",
       "  \"/>\n",
       "<polyline clip-path=\"url(#clip660)\" style=\"stroke:#000000; stroke-linecap:butt; stroke-linejoin:round; stroke-width:4; stroke-opacity:1; fill:none\" points=\"\n",
       "  141.853,793.602 158.699,793.602 \n",
       "  \"/>\n",
       "<polyline clip-path=\"url(#clip660)\" style=\"stroke:#000000; stroke-linecap:butt; stroke-linejoin:round; stroke-width:4; stroke-opacity:1; fill:none\" points=\"\n",
       "  141.853,1020.76 158.699,1020.76 \n",
       "  \"/>\n",
       "<polyline clip-path=\"url(#clip660)\" style=\"stroke:#000000; stroke-linecap:butt; stroke-linejoin:round; stroke-width:4; stroke-opacity:1; fill:none\" points=\"\n",
       "  141.853,1247.93 158.699,1247.93 \n",
       "  \"/>\n",
       "<polyline clip-path=\"url(#clip660)\" style=\"stroke:#000000; stroke-linecap:butt; stroke-linejoin:round; stroke-width:4; stroke-opacity:1; fill:none\" points=\"\n",
       "  141.853,1475.09 158.699,1475.09 \n",
       "  \"/>\n",
       "<path clip-path=\"url(#clip660)\" d=\"M54.5569 352.621 L62.1958 352.621 L62.1958 326.256 L53.8856 327.923 L53.8856 323.663 L62.1495 321.997 L66.8254 321.997 L66.8254 352.621 L74.4642 352.621 L74.4642 356.557 L54.5569 356.557 L54.5569 352.621 Z\" fill=\"#000000\" fill-rule=\"evenodd\" fill-opacity=\"1\" /><path clip-path=\"url(#clip660)\" d=\"M93.9086 325.075 Q90.2975 325.075 88.4688 328.64 Q86.6632 332.182 86.6632 339.311 Q86.6632 346.418 88.4688 349.983 Q90.2975 353.524 93.9086 353.524 Q97.5428 353.524 99.3483 349.983 Q101.177 346.418 101.177 339.311 Q101.177 332.182 99.3483 328.64 Q97.5428 325.075 93.9086 325.075 M93.9086 321.372 Q99.7187 321.372 102.774 325.978 Q105.853 330.561 105.853 339.311 Q105.853 348.038 102.774 352.645 Q99.7187 357.228 93.9086 357.228 Q88.0984 357.228 85.0197 352.645 Q81.9642 348.038 81.9642 339.311 Q81.9642 330.561 85.0197 325.978 Q88.0984 321.372 93.9086 321.372 Z\" fill=\"#000000\" fill-rule=\"evenodd\" fill-opacity=\"1\" /><path clip-path=\"url(#clip660)\" d=\"M57.7745 579.784 L74.0939 579.784 L74.0939 583.719 L52.1495 583.719 L52.1495 579.784 Q54.8115 577.029 59.3949 572.4 Q64.0013 567.747 65.1819 566.405 Q67.4272 563.881 68.3068 562.145 Q69.2096 560.386 69.2096 558.696 Q69.2096 555.942 67.2652 554.206 Q65.3439 552.469 62.2421 552.469 Q60.043 552.469 57.5893 553.233 Q55.1588 553.997 52.381 555.548 L52.381 550.826 Q55.2051 549.692 57.6588 549.113 Q60.1124 548.534 62.1495 548.534 Q67.5198 548.534 70.7142 551.219 Q73.9087 553.905 73.9087 558.395 Q73.9087 560.525 73.0985 562.446 Q72.3115 564.344 70.205 566.937 Q69.6263 567.608 66.5245 570.826 Q63.4226 574.02 57.7745 579.784 Z\" fill=\"#000000\" fill-rule=\"evenodd\" fill-opacity=\"1\" /><path clip-path=\"url(#clip660)\" d=\"M93.9086 552.238 Q90.2975 552.238 88.4688 555.803 Q86.6632 559.344 86.6632 566.474 Q86.6632 573.58 88.4688 577.145 Q90.2975 580.687 93.9086 580.687 Q97.5428 580.687 99.3483 577.145 Q101.177 573.58 101.177 566.474 Q101.177 559.344 99.3483 555.803 Q97.5428 552.238 93.9086 552.238 M93.9086 548.534 Q99.7187 548.534 102.774 553.141 Q105.853 557.724 105.853 566.474 Q105.853 575.201 102.774 579.807 Q99.7187 584.391 93.9086 584.391 Q88.0984 584.391 85.0197 579.807 Q81.9642 575.201 81.9642 566.474 Q81.9642 557.724 85.0197 553.141 Q88.0984 548.534 93.9086 548.534 Z\" fill=\"#000000\" fill-rule=\"evenodd\" fill-opacity=\"1\" /><path clip-path=\"url(#clip660)\" d=\"M67.9133 792.248 Q71.2698 792.965 73.1448 795.234 Q75.0429 797.502 75.0429 800.836 Q75.0429 805.951 71.5244 808.752 Q68.0059 811.553 61.5245 811.553 Q59.3486 811.553 57.0338 811.113 Q54.7421 810.697 52.2884 809.84 L52.2884 805.326 Q54.2328 806.461 56.5477 807.039 Q58.8625 807.618 61.3856 807.618 Q65.7837 807.618 68.0754 805.882 Q70.3902 804.146 70.3902 800.836 Q70.3902 797.78 68.2374 796.067 Q66.1078 794.331 62.2884 794.331 L58.2606 794.331 L58.2606 790.488 L62.4735 790.488 Q65.9226 790.488 67.7513 789.123 Q69.58 787.734 69.58 785.141 Q69.58 782.479 67.6819 781.067 Q65.8069 779.632 62.2884 779.632 Q60.3671 779.632 58.168 780.049 Q55.969 780.465 53.3301 781.345 L53.3301 777.178 Q55.9921 776.438 58.3069 776.067 Q60.6449 775.697 62.705 775.697 Q68.0291 775.697 71.1309 778.127 Q74.2327 780.535 74.2327 784.655 Q74.2327 787.526 72.5892 789.516 Q70.9457 791.484 67.9133 792.248 Z\" fill=\"#000000\" fill-rule=\"evenodd\" fill-opacity=\"1\" /><path clip-path=\"url(#clip660)\" d=\"M93.9086 779.401 Q90.2975 779.401 88.4688 782.965 Q86.6632 786.507 86.6632 793.637 Q86.6632 800.743 88.4688 804.308 Q90.2975 807.849 93.9086 807.849 Q97.5428 807.849 99.3483 804.308 Q101.177 800.743 101.177 793.637 Q101.177 786.507 99.3483 782.965 Q97.5428 779.401 93.9086 779.401 M93.9086 775.697 Q99.7187 775.697 102.774 780.303 Q105.853 784.887 105.853 793.637 Q105.853 802.363 102.774 806.97 Q99.7187 811.553 93.9086 811.553 Q88.0984 811.553 85.0197 806.97 Q81.9642 802.363 81.9642 793.637 Q81.9642 784.887 85.0197 780.303 Q88.0984 775.697 93.9086 775.697 Z\" fill=\"#000000\" fill-rule=\"evenodd\" fill-opacity=\"1\" /><path clip-path=\"url(#clip660)\" d=\"M66.5939 1007.56 L54.7884 1026.01 L66.5939 1026.01 L66.5939 1007.56 M65.367 1003.48 L71.2466 1003.48 L71.2466 1026.01 L76.1772 1026.01 L76.1772 1029.9 L71.2466 1029.9 L71.2466 1038.04 L66.5939 1038.04 L66.5939 1029.9 L50.9921 1029.9 L50.9921 1025.38 L65.367 1003.48 Z\" fill=\"#000000\" fill-rule=\"evenodd\" fill-opacity=\"1\" /><path clip-path=\"url(#clip660)\" d=\"M93.9086 1006.56 Q90.2975 1006.56 88.4688 1010.13 Q86.6632 1013.67 86.6632 1020.8 Q86.6632 1027.91 88.4688 1031.47 Q90.2975 1035.01 93.9086 1035.01 Q97.5428 1035.01 99.3483 1031.47 Q101.177 1027.91 101.177 1020.8 Q101.177 1013.67 99.3483 1010.13 Q97.5428 1006.56 93.9086 1006.56 M93.9086 1002.86 Q99.7187 1002.86 102.774 1007.47 Q105.853 1012.05 105.853 1020.8 Q105.853 1029.53 102.774 1034.13 Q99.7187 1038.72 93.9086 1038.72 Q88.0984 1038.72 85.0197 1034.13 Q81.9642 1029.53 81.9642 1020.8 Q81.9642 1012.05 85.0197 1007.47 Q88.0984 1002.86 93.9086 1002.86 Z\" fill=\"#000000\" fill-rule=\"evenodd\" fill-opacity=\"1\" /><path clip-path=\"url(#clip660)\" d=\"M53.793 1230.65 L72.1494 1230.65 L72.1494 1234.58 L58.0754 1234.58 L58.0754 1243.05 Q59.0939 1242.71 60.1124 1242.55 Q61.131 1242.36 62.1495 1242.36 Q67.9365 1242.36 71.3161 1245.53 Q74.6957 1248.7 74.6957 1254.12 Q74.6957 1259.7 71.2235 1262.8 Q67.7513 1265.88 61.4319 1265.88 Q59.256 1265.88 56.9875 1265.51 Q54.7421 1265.14 52.3347 1264.4 L52.3347 1259.7 Q54.418 1260.83 56.6402 1261.39 Q58.8625 1261.94 61.3393 1261.94 Q65.3439 1261.94 67.6819 1259.84 Q70.0198 1257.73 70.0198 1254.12 Q70.0198 1250.51 67.6819 1248.4 Q65.3439 1246.3 61.3393 1246.3 Q59.4643 1246.3 57.5893 1246.71 Q55.7375 1247.13 53.793 1248.01 L53.793 1230.65 Z\" fill=\"#000000\" fill-rule=\"evenodd\" fill-opacity=\"1\" /><path clip-path=\"url(#clip660)\" d=\"M93.9086 1233.73 Q90.2975 1233.73 88.4688 1237.29 Q86.6632 1240.83 86.6632 1247.96 Q86.6632 1255.07 88.4688 1258.63 Q90.2975 1262.17 93.9086 1262.17 Q97.5428 1262.17 99.3483 1258.63 Q101.177 1255.07 101.177 1247.96 Q101.177 1240.83 99.3483 1237.29 Q97.5428 1233.73 93.9086 1233.73 M93.9086 1230.02 Q99.7187 1230.02 102.774 1234.63 Q105.853 1239.21 105.853 1247.96 Q105.853 1256.69 102.774 1261.3 Q99.7187 1265.88 93.9086 1265.88 Q88.0984 1265.88 85.0197 1261.3 Q81.9642 1256.69 81.9642 1247.96 Q81.9642 1239.21 85.0197 1234.63 Q88.0984 1230.02 93.9086 1230.02 Z\" fill=\"#000000\" fill-rule=\"evenodd\" fill-opacity=\"1\" /><path clip-path=\"url(#clip660)\" d=\"M64.3254 1473.23 Q61.1773 1473.23 59.3254 1475.38 Q57.4967 1477.53 57.4967 1481.28 Q57.4967 1485.01 59.3254 1487.18 Q61.1773 1489.34 64.3254 1489.34 Q67.4735 1489.34 69.3022 1487.18 Q71.1541 1485.01 71.1541 1481.28 Q71.1541 1477.53 69.3022 1475.38 Q67.4735 1473.23 64.3254 1473.23 M73.6077 1458.57 L73.6077 1462.83 Q71.8485 1462 70.0429 1461.56 Q68.2606 1461.12 66.5013 1461.12 Q61.8717 1461.12 59.418 1464.24 Q56.9875 1467.37 56.6402 1473.69 Q58.006 1471.68 60.0662 1470.61 Q62.1263 1469.52 64.6032 1469.52 Q69.8115 1469.52 72.8207 1472.69 Q75.8531 1475.84 75.8531 1481.28 Q75.8531 1486.61 72.705 1489.82 Q69.5568 1493.04 64.3254 1493.04 Q58.33 1493.04 55.1588 1488.46 Q51.9875 1483.85 51.9875 1475.12 Q51.9875 1466.93 55.8764 1462.07 Q59.7652 1457.18 66.3161 1457.18 Q68.0754 1457.18 69.8578 1457.53 Q71.6633 1457.88 73.6077 1458.57 Z\" fill=\"#000000\" fill-rule=\"evenodd\" fill-opacity=\"1\" /><path clip-path=\"url(#clip660)\" d=\"M93.9086 1460.89 Q90.2975 1460.89 88.4688 1464.45 Q86.6632 1467.99 86.6632 1475.12 Q86.6632 1482.23 88.4688 1485.8 Q90.2975 1489.34 93.9086 1489.34 Q97.5428 1489.34 99.3483 1485.8 Q101.177 1482.23 101.177 1475.12 Q101.177 1467.99 99.3483 1464.45 Q97.5428 1460.89 93.9086 1460.89 M93.9086 1457.18 Q99.7187 1457.18 102.774 1461.79 Q105.853 1466.37 105.853 1475.12 Q105.853 1483.85 102.774 1488.46 Q99.7187 1493.04 93.9086 1493.04 Q88.0984 1493.04 85.0197 1488.46 Q81.9642 1483.85 81.9642 1475.12 Q81.9642 1466.37 85.0197 1461.79 Q88.0984 1457.18 93.9086 1457.18 Z\" fill=\"#000000\" fill-rule=\"evenodd\" fill-opacity=\"1\" /><path clip-path=\"url(#clip660)\" d=\"M664.711 16.7545 L664.711 25.383 Q660.579 21.5346 655.88 19.6307 Q651.222 17.7268 645.956 17.7268 Q635.585 17.7268 630.076 24.0867 Q624.567 30.4061 624.567 42.3968 Q624.567 54.3469 630.076 60.7069 Q635.585 67.0263 645.956 67.0263 Q651.222 67.0263 655.88 65.1223 Q660.579 63.2184 664.711 59.3701 L664.711 67.9175 Q660.417 70.8341 655.597 72.2924 Q650.817 73.7508 645.47 73.7508 Q631.737 73.7508 623.838 65.3654 Q615.939 56.9395 615.939 42.3968 Q615.939 27.8135 623.838 19.4281 Q631.737 11.0023 645.47 11.0023 Q650.898 11.0023 655.678 12.4606 Q660.498 13.8784 664.711 16.7545 Z\" fill=\"#000000\" fill-rule=\"evenodd\" fill-opacity=\"1\" /><path clip-path=\"url(#clip660)\" d=\"M694.607 32.4315 Q688.612 32.4315 685.128 37.1306 Q681.644 41.7891 681.644 49.9314 Q681.644 58.0738 685.087 62.7728 Q688.571 67.4314 694.607 67.4314 Q700.562 67.4314 704.046 62.7323 Q707.529 58.0333 707.529 49.9314 Q707.529 41.8701 704.046 37.1711 Q700.562 32.4315 694.607 32.4315 M694.607 26.1121 Q704.329 26.1121 709.879 32.4315 Q715.429 38.7509 715.429 49.9314 Q715.429 61.0714 709.879 67.4314 Q704.329 73.7508 694.607 73.7508 Q684.844 73.7508 679.295 67.4314 Q673.785 61.0714 673.785 49.9314 Q673.785 38.7509 679.295 32.4315 Q684.844 26.1121 694.607 26.1121 Z\" fill=\"#000000\" fill-rule=\"evenodd\" fill-opacity=\"1\" /><path clip-path=\"url(#clip660)\" d=\"M754.074 34.1734 Q752.819 33.4443 751.32 33.1202 Q749.861 32.7556 748.079 32.7556 Q741.76 32.7556 738.357 36.8875 Q734.995 40.9789 734.995 48.6757 L734.995 72.576 L727.5 72.576 L727.5 27.2059 L734.995 27.2059 L734.995 34.2544 Q737.344 30.1225 741.111 28.1376 Q744.879 26.1121 750.267 26.1121 Q751.036 26.1121 751.968 26.2337 Q752.9 26.3147 754.034 26.5172 L754.074 34.1734 Z\" fill=\"#000000\" fill-rule=\"evenodd\" fill-opacity=\"1\" /><path clip-path=\"url(#clip660)\" d=\"M786.725 34.1734 Q785.469 33.4443 783.97 33.1202 Q782.512 32.7556 780.729 32.7556 Q774.41 32.7556 771.007 36.8875 Q767.645 40.9789 767.645 48.6757 L767.645 72.576 L760.151 72.576 L760.151 27.2059 L767.645 27.2059 L767.645 34.2544 Q769.994 30.1225 773.762 28.1376 Q777.529 26.1121 782.917 26.1121 Q783.686 26.1121 784.618 26.2337 Q785.55 26.3147 786.684 26.5172 L786.725 34.1734 Z\" fill=\"#000000\" fill-rule=\"evenodd\" fill-opacity=\"1\" /><path clip-path=\"url(#clip660)\" d=\"M831.528 48.0275 L831.528 51.6733 L797.257 51.6733 Q797.743 59.3701 801.875 63.421 Q806.047 67.4314 813.461 67.4314 Q817.755 67.4314 821.765 66.3781 Q825.816 65.3249 829.786 63.2184 L829.786 70.267 Q825.775 71.9684 821.562 72.8596 Q817.349 73.7508 813.015 73.7508 Q802.159 73.7508 795.799 67.4314 Q789.479 61.1119 789.479 50.3365 Q789.479 39.1965 795.475 32.6746 Q801.51 26.1121 811.719 26.1121 Q820.874 26.1121 826.18 32.0264 Q831.528 37.9003 831.528 48.0275 M824.074 45.84 Q823.993 39.7232 820.631 36.0774 Q817.309 32.4315 811.8 32.4315 Q805.561 32.4315 801.794 35.9558 Q798.067 39.4801 797.5 45.8805 L824.074 45.84 Z\" fill=\"#000000\" fill-rule=\"evenodd\" fill-opacity=\"1\" /><path clip-path=\"url(#clip660)\" d=\"M843.761 9.54393 L851.215 9.54393 L851.215 72.576 L843.761 72.576 L843.761 9.54393 Z\" fill=\"#000000\" fill-rule=\"evenodd\" fill-opacity=\"1\" /><path clip-path=\"url(#clip660)\" d=\"M887.43 49.7694 Q878.397 49.7694 874.913 51.8354 Q871.429 53.9013 871.429 58.8839 Q871.429 62.8538 874.022 65.2034 Q876.655 67.5124 881.151 67.5124 Q887.349 67.5124 891.076 63.1374 Q894.843 58.7219 894.843 51.4303 L894.843 49.7694 L887.43 49.7694 M902.297 46.6907 L902.297 72.576 L894.843 72.576 L894.843 65.6895 Q892.291 69.8214 888.483 71.8063 Q884.676 73.7508 879.166 73.7508 Q872.199 73.7508 868.067 69.8619 Q863.975 65.9325 863.975 59.3701 Q863.975 51.7138 869.08 47.825 Q874.224 43.9361 884.392 43.9361 L894.843 43.9361 L894.843 43.2069 Q894.843 38.0623 891.441 35.2672 Q888.078 32.4315 881.961 32.4315 Q878.073 32.4315 874.386 33.3632 Q870.7 34.295 867.297 36.1584 L867.297 29.2718 Q871.389 27.692 875.237 26.9223 Q879.085 26.1121 882.731 26.1121 Q892.575 26.1121 897.436 31.2163 Q902.297 36.3204 902.297 46.6907 Z\" fill=\"#000000\" fill-rule=\"evenodd\" fill-opacity=\"1\" /><path clip-path=\"url(#clip660)\" d=\"M925.023 14.324 L925.023 27.2059 L940.375 27.2059 L940.375 32.9987 L925.023 32.9987 L925.023 57.6282 Q925.023 63.1779 926.521 64.7578 Q928.061 66.3376 932.719 66.3376 L940.375 66.3376 L940.375 72.576 L932.719 72.576 Q924.091 72.576 920.81 69.3758 Q917.528 66.1351 917.528 57.6282 L917.528 32.9987 L912.06 32.9987 L912.06 27.2059 L917.528 27.2059 L917.528 14.324 L925.023 14.324 Z\" fill=\"#000000\" fill-rule=\"evenodd\" fill-opacity=\"1\" /><path clip-path=\"url(#clip660)\" d=\"M950.179 27.2059 L957.632 27.2059 L957.632 72.576 L950.179 72.576 L950.179 27.2059 M950.179 9.54393 L957.632 9.54393 L957.632 18.9825 L950.179 18.9825 L950.179 9.54393 Z\" fill=\"#000000\" fill-rule=\"evenodd\" fill-opacity=\"1\" /><path clip-path=\"url(#clip660)\" d=\"M990.809 32.4315 Q984.814 32.4315 981.33 37.1306 Q977.846 41.7891 977.846 49.9314 Q977.846 58.0738 981.29 62.7728 Q984.773 67.4314 990.809 67.4314 Q996.764 67.4314 1000.25 62.7323 Q1003.73 58.0333 1003.73 49.9314 Q1003.73 41.8701 1000.25 37.1711 Q996.764 32.4315 990.809 32.4315 M990.809 26.1121 Q1000.53 26.1121 1006.08 32.4315 Q1011.63 38.7509 1011.63 49.9314 Q1011.63 61.0714 1006.08 67.4314 Q1000.53 73.7508 990.809 73.7508 Q981.047 73.7508 975.497 67.4314 Q969.988 61.0714 969.988 49.9314 Q969.988 38.7509 975.497 32.4315 Q981.047 26.1121 990.809 26.1121 Z\" fill=\"#000000\" fill-rule=\"evenodd\" fill-opacity=\"1\" /><path clip-path=\"url(#clip660)\" d=\"M1061.7 45.1919 L1061.7 72.576 L1054.25 72.576 L1054.25 45.4349 Q1054.25 38.994 1051.73 35.7938 Q1049.22 32.5936 1044.2 32.5936 Q1038.16 32.5936 1034.68 36.4419 Q1031.2 40.2903 1031.2 46.9338 L1031.2 72.576 L1023.7 72.576 L1023.7 27.2059 L1031.2 27.2059 L1031.2 34.2544 Q1033.87 30.163 1037.48 28.1376 Q1041.12 26.1121 1045.86 26.1121 Q1053.68 26.1121 1057.69 30.9732 Q1061.7 35.7938 1061.7 45.1919 Z\" fill=\"#000000\" fill-rule=\"evenodd\" fill-opacity=\"1\" /><path clip-path=\"url(#clip660)\" d=\"M1120.52 32.4315 Q1114.52 32.4315 1111.04 37.1306 Q1107.56 41.7891 1107.56 49.9314 Q1107.56 58.0738 1111 62.7728 Q1114.48 67.4314 1120.52 67.4314 Q1126.47 67.4314 1129.96 62.7323 Q1133.44 58.0333 1133.44 49.9314 Q1133.44 41.8701 1129.96 37.1711 Q1126.47 32.4315 1120.52 32.4315 M1120.52 26.1121 Q1130.24 26.1121 1135.79 32.4315 Q1141.34 38.7509 1141.34 49.9314 Q1141.34 61.0714 1135.79 67.4314 Q1130.24 73.7508 1120.52 73.7508 Q1110.76 73.7508 1105.21 67.4314 Q1099.7 61.0714 1099.7 49.9314 Q1099.7 38.7509 1105.21 32.4315 Q1110.76 26.1121 1120.52 26.1121 Z\" fill=\"#000000\" fill-rule=\"evenodd\" fill-opacity=\"1\" /><path clip-path=\"url(#clip660)\" d=\"M1176.66 9.54393 L1176.66 15.7418 L1169.54 15.7418 Q1165.52 15.7418 1163.94 17.3622 Q1162.41 18.9825 1162.41 23.1955 L1162.41 27.2059 L1174.68 27.2059 L1174.68 32.9987 L1162.41 32.9987 L1162.41 72.576 L1154.91 72.576 L1154.91 32.9987 L1147.78 32.9987 L1147.78 27.2059 L1154.91 27.2059 L1154.91 24.0462 Q1154.91 16.471 1158.44 13.0277 Q1161.96 9.54393 1169.62 9.54393 L1176.66 9.54393 Z\" fill=\"#000000\" fill-rule=\"evenodd\" fill-opacity=\"1\" /><path clip-path=\"url(#clip660)\" d=\"M1238.2 28.5427 L1238.2 35.5912 Q1235.04 33.9709 1231.64 33.1607 Q1228.23 32.3505 1224.59 32.3505 Q1219.04 32.3505 1216.24 34.0519 Q1213.49 35.7533 1213.49 39.156 Q1213.49 41.7486 1215.47 43.2475 Q1217.46 44.7058 1223.45 46.0426 L1226 46.6097 Q1233.94 48.3111 1237.27 51.4303 Q1240.63 54.509 1240.63 60.0587 Q1240.63 66.3781 1235.61 70.0644 Q1230.62 73.7508 1221.87 73.7508 Q1218.23 73.7508 1214.26 73.0216 Q1210.33 72.3329 1205.95 70.9151 L1205.95 63.2184 Q1210.08 65.3654 1214.1 66.4591 Q1218.11 67.5124 1222.03 67.5124 Q1227.3 67.5124 1230.14 65.73 Q1232.97 63.9071 1232.97 60.6258 Q1232.97 57.5877 1230.91 55.9673 Q1228.88 54.3469 1221.95 52.8481 L1219.36 52.2405 Q1212.43 50.7821 1209.36 47.7845 Q1206.28 44.7463 1206.28 39.4801 Q1206.28 33.0797 1210.81 29.5959 Q1215.35 26.1121 1223.7 26.1121 Q1227.83 26.1121 1231.47 26.7198 Q1235.12 27.3274 1238.2 28.5427 Z\" fill=\"#000000\" fill-rule=\"evenodd\" fill-opacity=\"1\" /><path clip-path=\"url(#clip660)\" d=\"M1270.08 32.4315 Q1264.08 32.4315 1260.6 37.1306 Q1257.12 41.7891 1257.12 49.9314 Q1257.12 58.0738 1260.56 62.7728 Q1264.04 67.4314 1270.08 67.4314 Q1276.03 67.4314 1279.52 62.7323 Q1283 58.0333 1283 49.9314 Q1283 41.8701 1279.52 37.1711 Q1276.03 32.4315 1270.08 32.4315 M1270.08 26.1121 Q1279.8 26.1121 1285.35 32.4315 Q1290.9 38.7509 1290.9 49.9314 Q1290.9 61.0714 1285.35 67.4314 Q1279.8 73.7508 1270.08 73.7508 Q1260.32 73.7508 1254.77 67.4314 Q1249.26 61.0714 1249.26 49.9314 Q1249.26 38.7509 1254.77 32.4315 Q1260.32 26.1121 1270.08 26.1121 Z\" fill=\"#000000\" fill-rule=\"evenodd\" fill-opacity=\"1\" /><path clip-path=\"url(#clip660)\" d=\"M1340.97 45.1919 L1340.97 72.576 L1333.52 72.576 L1333.52 45.4349 Q1333.52 38.994 1331 35.7938 Q1328.49 32.5936 1323.47 32.5936 Q1317.43 32.5936 1313.95 36.4419 Q1310.47 40.2903 1310.47 46.9338 L1310.47 72.576 L1302.97 72.576 L1302.97 27.2059 L1310.47 27.2059 L1310.47 34.2544 Q1313.14 30.163 1316.74 28.1376 Q1320.39 26.1121 1325.13 26.1121 Q1332.95 26.1121 1336.96 30.9732 Q1340.97 35.7938 1340.97 45.1919 Z\" fill=\"#000000\" fill-rule=\"evenodd\" fill-opacity=\"1\" /><path clip-path=\"url(#clip660)\" d=\"M1376.46 49.7694 Q1367.42 49.7694 1363.94 51.8354 Q1360.45 53.9013 1360.45 58.8839 Q1360.45 62.8538 1363.05 65.2034 Q1365.68 67.5124 1370.18 67.5124 Q1376.37 67.5124 1380.1 63.1374 Q1383.87 58.7219 1383.87 51.4303 L1383.87 49.7694 L1376.46 49.7694 M1391.32 46.6907 L1391.32 72.576 L1383.87 72.576 L1383.87 65.6895 Q1381.32 69.8214 1377.51 71.8063 Q1373.7 73.7508 1368.19 73.7508 Q1361.22 73.7508 1357.09 69.8619 Q1353 65.9325 1353 59.3701 Q1353 51.7138 1358.1 47.825 Q1363.25 43.9361 1373.42 43.9361 L1383.87 43.9361 L1383.87 43.2069 Q1383.87 38.0623 1380.47 35.2672 Q1377.1 32.4315 1370.99 32.4315 Q1367.1 32.4315 1363.41 33.3632 Q1359.73 34.295 1356.32 36.1584 L1356.32 29.2718 Q1360.41 27.692 1364.26 26.9223 Q1368.11 26.1121 1371.76 26.1121 Q1381.6 26.1121 1386.46 31.2163 Q1391.32 36.3204 1391.32 46.6907 Z\" fill=\"#000000\" fill-rule=\"evenodd\" fill-opacity=\"1\" /><path clip-path=\"url(#clip660)\" d=\"M1432.97 34.1734 Q1431.71 33.4443 1430.21 33.1202 Q1428.75 32.7556 1426.97 32.7556 Q1420.65 32.7556 1417.25 36.8875 Q1413.89 40.9789 1413.89 48.6757 L1413.89 72.576 L1406.39 72.576 L1406.39 27.2059 L1413.89 27.2059 L1413.89 34.2544 Q1416.24 30.1225 1420 28.1376 Q1423.77 26.1121 1429.16 26.1121 Q1429.93 26.1121 1430.86 26.2337 Q1431.79 26.3147 1432.92 26.5172 L1432.97 34.1734 Z\" fill=\"#000000\" fill-rule=\"evenodd\" fill-opacity=\"1\" /><path clip-path=\"url(#clip660)\" d=\"M1497.01 34.0924 L1497.01 9.54393 L1504.46 9.54393 L1504.46 72.576 L1497.01 72.576 L1497.01 65.7705 Q1494.66 69.8214 1491.06 71.8063 Q1487.49 73.7508 1482.47 73.7508 Q1474.24 73.7508 1469.06 67.1883 Q1463.91 60.6258 1463.91 49.9314 Q1463.91 39.2371 1469.06 32.6746 Q1474.24 26.1121 1482.47 26.1121 Q1487.49 26.1121 1491.06 28.0971 Q1494.66 30.0415 1497.01 34.0924 M1471.61 49.9314 Q1471.61 58.1548 1474.97 62.8538 Q1478.38 67.5124 1484.29 67.5124 Q1490.2 67.5124 1493.61 62.8538 Q1497.01 58.1548 1497.01 49.9314 Q1497.01 41.7081 1493.61 37.0496 Q1490.2 32.3505 1484.29 32.3505 Q1478.38 32.3505 1474.97 37.0496 Q1471.61 41.7081 1471.61 49.9314 Z\" fill=\"#000000\" fill-rule=\"evenodd\" fill-opacity=\"1\" /><path clip-path=\"url(#clip660)\" d=\"M1540.44 49.7694 Q1531.4 49.7694 1527.92 51.8354 Q1524.43 53.9013 1524.43 58.8839 Q1524.43 62.8538 1527.03 65.2034 Q1529.66 67.5124 1534.16 67.5124 Q1540.35 67.5124 1544.08 63.1374 Q1547.85 58.7219 1547.85 51.4303 L1547.85 49.7694 L1540.44 49.7694 M1555.3 46.6907 L1555.3 72.576 L1547.85 72.576 L1547.85 65.6895 Q1545.3 69.8214 1541.49 71.8063 Q1537.68 73.7508 1532.17 73.7508 Q1525.2 73.7508 1521.07 69.8619 Q1516.98 65.9325 1516.98 59.3701 Q1516.98 51.7138 1522.09 47.825 Q1527.23 43.9361 1537.4 43.9361 L1547.85 43.9361 L1547.85 43.2069 Q1547.85 38.0623 1544.45 35.2672 Q1541.08 32.4315 1534.97 32.4315 Q1531.08 32.4315 1527.39 33.3632 Q1523.71 34.295 1520.3 36.1584 L1520.3 29.2718 Q1524.39 27.692 1528.24 26.9223 Q1532.09 26.1121 1535.74 26.1121 Q1545.58 26.1121 1550.44 31.2163 Q1555.3 36.3204 1555.3 46.6907 Z\" fill=\"#000000\" fill-rule=\"evenodd\" fill-opacity=\"1\" /><path clip-path=\"url(#clip660)\" d=\"M1578.03 14.324 L1578.03 27.2059 L1593.38 27.2059 L1593.38 32.9987 L1578.03 32.9987 L1578.03 57.6282 Q1578.03 63.1779 1579.53 64.7578 Q1581.07 66.3376 1585.73 66.3376 L1593.38 66.3376 L1593.38 72.576 L1585.73 72.576 Q1577.1 72.576 1573.82 69.3758 Q1570.53 66.1351 1570.53 57.6282 L1570.53 32.9987 L1565.07 32.9987 L1565.07 27.2059 L1570.53 27.2059 L1570.53 14.324 L1578.03 14.324 Z\" fill=\"#000000\" fill-rule=\"evenodd\" fill-opacity=\"1\" /><path clip-path=\"url(#clip660)\" d=\"M1623.8 49.7694 Q1614.77 49.7694 1611.29 51.8354 Q1607.8 53.9013 1607.8 58.8839 Q1607.8 62.8538 1610.4 65.2034 Q1613.03 67.5124 1617.52 67.5124 Q1623.72 67.5124 1627.45 63.1374 Q1631.22 58.7219 1631.22 51.4303 L1631.22 49.7694 L1623.8 49.7694 M1638.67 46.6907 L1638.67 72.576 L1631.22 72.576 L1631.22 65.6895 Q1628.66 69.8214 1624.86 71.8063 Q1621.05 73.7508 1615.54 73.7508 Q1608.57 73.7508 1604.44 69.8619 Q1600.35 65.9325 1600.35 59.3701 Q1600.35 51.7138 1605.45 47.825 Q1610.6 43.9361 1620.77 43.9361 L1631.22 43.9361 L1631.22 43.2069 Q1631.22 38.0623 1627.81 35.2672 Q1624.45 32.4315 1618.33 32.4315 Q1614.45 32.4315 1610.76 33.3632 Q1607.07 34.295 1603.67 36.1584 L1603.67 29.2718 Q1607.76 27.692 1611.61 26.9223 Q1615.46 26.1121 1619.1 26.1121 Q1628.95 26.1121 1633.81 31.2163 Q1638.67 36.3204 1638.67 46.6907 Z\" fill=\"#000000\" fill-rule=\"evenodd\" fill-opacity=\"1\" /><g clip-path=\"url(#clip662)\">\n",
       "<image width=\"1971\" height=\"1363\" xlink:href=\"data:image/png;base64,\n",
       "iVBORw0KGgoAAAANSUhEUgAAB7MAAAVTCAYAAACvUwxVAAAgAElEQVR4nOzbzY/kiV3f8W91PXRV\n",
       "z/TMzq6JPYAUYyMFRLBsIJHwmohgBIZYSOGA4Wb5X+CaEwpc4MqBIF85AkEOxsSgkJgQRxshDEHJ\n",
       "GpMIr5Ndr2enZ7q7nh9yQUlNu875fCVer3/gXdP9q9/TZ3rwld96fKhGXvrYq9H+O2/8Uqx9dXUV\n",
       "a5/yxle/Gmt/48mTWLuqajQaRfvHHj16lP4IMevVKv0RXjAaj2PtN998M9buZjqdRvuz2SzWvrm5\n",
       "ibVPefrO01g7fc08OzuL9o89ejl7nVgFz9VvfPWNWLuq6unT3HfgruVyGe1/8LN/EGvf7Pt8H9O+\n",
       "/JM/HO13uod+5ZVXov3ROPuzGA6H0f4Lwm8cLi4uYu179+7F2qfs97tYezKZxNpVVQ9feina7+RJ\n",
       "8H3LOPhMXVX18MHDaP/Y4bCP9hfBe8e/9y3fEmufcn6ee8eQfq7dbDfR/rH0u55R8N5pt8+eD+56\n",
       "+eWXY+30c+2w0bue9HFx9TR3fnrpUa/7tuQ9/X6Xu3+vqtof+szHfb6dAAAAAAAAAPC3jNkAAAAA\n",
       "AAAAtGPMBgAAAAAAAKAdYzYAAAAAAAAA7RizAQAAAAAAAGjHmA0AAAAAAABAO8ZsAAAAAAAAANox\n",
       "ZgMAAAAAAADQjjEbAAAAAAAAgHaM2QAAAAAAAAC0Y8wGAAAAAAAAoB1jNgAAAAAAAADtGLMBAAAA\n",
       "AAAAaMeYDQAAAAAAAEA7xmwAAAAAAAAA2jFmAwAAAAAAANCOMRsAAAAAAACAdozZAAAAAAAAALRj\n",
       "zAYAAAAAAACgHWM2AAAAAAAAAO0YswEAAAAAAABox5gNAAAAAAAAQDvGbAAAAAAAAADaMWYDAAAA\n",
       "AAAA0M7opY+9mv4ML7j6vT+O9h9+5FOx9nT6G7H2Kc+fPYu1d/t9rF1VtZjPo/1j2+022t/tdrH2\n",
       "crmMtU8ZB38Wyd9DVdXFxUW0f2w0HEb7g2B7NBoF69/sbPh39//E7cPXqWOL+SLa32w3sfZunz03\n",
       "djoOhn+Hz42rZPyE2SHX/idf/FwuXlV/823vi/aPXV3+o2h/OMp+J3fb7Pnx2GKRvU6Nxrn7pwej\n",
       "B7H2KZPhJNce59pVVYNBn4vFZpO7d6qqquB1Kv1cOZ1No/1j19fX0X70XVOj72NV9pkieY2qqppM\n",
       "xtH+selsFu3f3NzE2g8e9LpfeOmll2Ltp0+fxtpVVefn59H+scMheMGu7D38Zr2OtU/ZTYP3D9nD\n",
       "oM4Gfd799vkkAAAAAAAAAPC3jNkAAAAAAAAAtGPMBgAAAAAAAKAdYzYAAAAAAAAA7RizAQAAAAAA\n",
       "AGjHmA0AAAAAAABAO8ZsAAAAAAAAANoxZgMAAAAAAADQjjEbAAAAAAAAgHaM2QAAAAAAAAC0Y8wG\n",
       "AAAAAAAAoB1jNgAAAAAAAADtGLMBAAAAAAAAaMeYDQAAAAAAAEA7xmwAAAAAAAAA2jFmAwAAAAAA\n",
       "ANCOMRsAAAAAAACAdozZAAAAAAAAALRjzAYAAAAAAACgHWM2AAAAAAAAAO0YswEAAAAAAABoZ/TO\n",
       "G7+U/gwvePiRT0X711/4Sqx9+erPxdqnPH78a7H28+vrWLuq6urqKto/tlytov3h2TDWXq+z//a7\n",
       "Bhf3Yu3RcBRrV1WdDfr836ezYe6YrKrabLex9naTa58ym81i7cvLy1i7qmq7a/S7GGTzh/0+1p6e\n",
       "T2PtqqqXHr0U7R/bB38PVVV/+pMfjbW/77Ofj7VPmZznfhfbVfaE8Mp//Zto/9gb7/3uaP/sLHvv\n",
       "dDgcov1ji/ki2h+c5b4X6Xv4u8aTcax9MbuItauq1ut1tH8sfR+5DT7PpG02m/RH+L9urm+i/VXw\n",
       "XdM777wTa59y2OeumclrVFXVRfCZ/q7kMVlV9eabb8Xah2/rc99WVfXgwYNYe7fbxdpVVbtG18hn\n",
       "z59H++NR7r7x0cuPYu1TFovc88zLj7I/i3nw335Xn3UCAAAAAAAAAP6WMRsAAAAAAACAdozZAAAA\n",
       "AAAAALRjzAYAAAAAAACgHWM2AAAAAAAAAO0YswEAAAAAAABox5gNAAAAAAAAQDvGbAAAAAAAAADa\n",
       "MWYDAAAAAAAA0I4xGwAAAAAAAIB2jNkAAAAAAAAAtGPMBgAAAAAAAKAdYzYAAAAAAAAA7RizAQAA\n",
       "AAAAAGjHmA0AAAAAAABAO8ZsAAAAAAAAANoxZgMAAAAAAADQjjEbAAAAAAAAgHaM2QAAAAAAAAC0\n",
       "Y8wGAAAAAAAAoB1jNgAAAAAAAADtjK6urtKf4QXT6W9E+5ev/lysff3Hfx1rn/L4J34x1n79yz8T\n",
       "a1dVXVxcRPsvGkTrh8Mh1h6ORrH2KYfK/SxW61WsXVXpw/AF43H2uEh+J86Gvf4P2mg/jLXvX96P\n",
       "tauyx0E3y+Uy1t5strF2Vfa6cNftzW20Pxg0ulCErZa5c+P0Ivud2O37HAcf/sK/ifb/5Ic+Hu0P\n",
       "R7nj8K70+eHsrNf9U9J+v4+1l6vc/UJV1Xg3jvY72Ww3sfZqmX2uTfeP3c6z926L+SLW7vZcm3y2\n",
       "W6/XsXZV1eX9y2j/WPq4SB4Ht7fZ88Fd223umWIymcTaVVWr8HfyWPy9UzCffM90yjD4PJF+6zQe\n",
       "97mH7nX3AAAAAAAAAABlzAYAAAAAAACgIWM2AAAAAAAAAO0YswEAAAAAAABox5gNAAAAAAAAQDvG\n",
       "bAAAAAAAAADaMWYDAAAAAAAA0I4xGwAAAAAAAIB2jNkAAAAAAAAAtGPMBgAAAAAAAKAdYzYAAAAA\n",
       "AAAA7RizAQAAAAAAAGjHmA0AAAAAAABAO8ZsAAAAAAAAANoxZgMAAAAAAADQjjEbAAAAAAAAgHaM\n",
       "2QAAAAAAAAC0Y8wGAAAAAAAAoB1jNgAAAAAAAADtGLMBAAAAAAAAaMeYDQAAAAAAAEA7xmwAAAAA\n",
       "AAAA2jFmAwAAAAAAANDO6I2vfjX9GV7w/NmzaP/x41/LtX/iF2PtU9757L+LtT/4oV+KtauqXnvt\n",
       "tWj/2FtvvRXtbzfbWHswiKVPOhwOsfZkMom1q6oePnwY7R+7d+9etL9cLmPt2WwWa3ez2Wyi/fPz\n",
       "82j/2Hw+j/avnz+PtYdnw1i7qmryPHtuPjYejbP9ca7/V5/46Vj7lNVqlWsvc+2qqu//3Oej/WPL\n",
       "2+z5YbvL3UNXVQ2H2X//sfU2e81eLHL3bnV4mmufcDbM/T3DIPxwdzG7iPaP3buffZ5Jnh+Sz1JV\n",
       "VePxKNo/dnaW/fui5DuGQTV72ZOUe81UVVXrzTr7AY4MsrcLtd/vY+30M/1d33j7G7H2bDaNtauq\n",
       "njx5Eu0f2+/DJ4jgqfr29iYXP2E4yt0/3IbPD+t1n+uEv8wGAAAAAAAAoB1jNgAAAAAAAADtGLMB\n",
       "AAAAAAAAaMeYDQAAAAAAAEA7xmwAAAAAAAAA2jFmAwAAAAAAANCOMRsAAAAAAACAdozZAAAAAAAA\n",
       "ALRjzAYAAAAAAACgHWM2AAAAAAAAAO0YswEAAAAAAABox5gNAAAAAAAAQDvGbAAAAAAAAADaMWYD\n",
       "AAAAAAAA0I4xGwAAAAAAAIB2jNkAAAAAAAAAtGPMBgAAAAAAAKAdYzYAAAAAAAAA7RizAQAAAAAA\n",
       "AGjHmA0AAAAAAABAO8ZsAAAAAAAAANoZ/Pqv/6tD+kMce/ToUbQ/HA5j7cFgEGuf8sEPfjDW3v3p\n",
       "h2PtqqrHP/XxaP/Yn33xk9H+G1/7Wqy9Wq1i7VOm02msPTzL/t+j+5eX0f6x3W4X7W82m1g7/W+/\n",
       "6/bmNtaez3Ptqqr9oc/t026bPS7Wm3WsvVgsYu2qqsV8Hu0fW61zv4eq7PkgfRzctd1uY+3080Ty\n",
       "fHBX+mfx8OHDaH9QfZ4tnz17Fu3fv38/1p6cT2LtU5Lfi/SzXfJdz12X97PPVrPZLNbeH/axdlXV\n",
       "dpO7Rt+122fv4Ydnue9Et3PjPHhPf9hnnyuT77nuGg6z771ub3PHweNvfRxrn/LwQe4+9urZVazd\n",
       "TfL9Y1XVZDyOtRu9cquqqvPpeaydvF5XVa3WffYZf5kNAAAAAAAAQDvGbAAAAAAAAADaMWYDAAAA\n",
       "AAAA0I4xGwAAAAAAAIB2jNkAAAAAAAAAtGPMBgAAAAAAAKAdYzYAAAAAAAAA7RizAQAAAAAAAGjH\n",
       "mA0AAAAAAABAO8ZsAAAAAAAAANoxZgMAAAAAAADQjjEbAAAAAAAAgHaM2QAAAAAAAAC0Y8wGAAAA\n",
       "AAAAoB1jNgAAAAAAAADtGLMBAAAAAAAAaMeYDQAAAAAAAEA7xmwAAAAAAAAA2jFmAwAAAAAAANCO\n",
       "MRsAAAAAAACAdozZAAAAAAAAALQzGo1G6c/wgsV8Hu1fXV3F2hcXF7H2Ka+99lqs/ZP//OOxdlXV\n",
       "//6dz0T7x77no7+S/ggxi8Ui/RFesN5sYu2vv/X1WLuqatjoWjGbzaL90XAYa9+Gr5F3rVbLWHuz\n",
       "3cbaVVWDwSDaP7bf7//O9ufh70Sn69Sgssdk8jjYhs8Hdy2XuXPj7CJ8jRyNo/1jF+H7hdVqFe3v\n",
       "drto/9gweO9UVXU4HGLts7Nefz+Q/F2MhtnniXv37kX7x4bD7HExHufO1Tc3N7F2VdXNbbZ/LH3v\n",
       "9uDhg1i727vo6XQaa6d/Fp3eRU8mk2j/8kHuOzE8y94r3fXkyZNY++nV01i7qupd73pXtH8s/f1M\n",
       "Pk8Mm91DnwfPT/N59r3T+fl5tH+s11EBAAAAAAAAAGXMBgAAAAAAAKAhYzYAAAAAAAAA7RizAQAA\n",
       "AAAAAGjHmA0AAAAAAABAO8ZsAAAAAAAAANoxZgMAAAAAAADQjjEbAAAAAAAAgHaM2QAAAAAAAAC0\n",
       "Y8wGAAAAAAAAoB1jNgAAAAAAAADtGLMBAAAAAAAAaMeYDQAAAAAAAEA7xmwAAAAAAAAA2jFmAwAA\n",
       "AAAAANCOMRsAAAAAAACAdozZAAAAAAAAALRjzAYAAAAAAACgHWM2AAAAAAAAAO0YswEAAAAAAABo\n",
       "x5gNAAAAAAAAQDvGbAAAAAAAAADaMWYDAAAAAAAA0M7o0aNH6c/wgu12G+0vV6tgfRBsf7O33nor\n",
       "1v6zL34y1q6q+p6P/kq0f+ztP/iuaP/9H3l/rD08++1Y+5Rnz57F2tfX17F2VdVquYz2j43H42g/\n",
       "eaZeR69R3+wbT57E2unvRCfvec97ov3pdBprr1frWLuq6urqKto/ttlsov3bm9tY+3A4xNqnvPof\n",
       "fzfW/tKPfyLWrqo67PfR/rHkuamqar/I/iwO+z7fi+FkGO3PLma59jTXPmU6y30vRqNRrF1VdXl5\n",
       "Ge0fGw2z34ntdhdr73a5dlXVeJJ9ljx2PjmP9oej3HH48ssvx9qn3FzfxNrzxTzWrqq6d+9etH9s\n",
       "NsteM58/ex5r37+8H2ufMl7mzpWr8Huv+/f7/C4Gg+xWdH6eu07tGz1XVlWNhrn72EX4nXyn96/+\n",
       "MhsAAAAAAACAdozZAAAAAAAAALRjzAYAAAAAAACgHWM2AAAAAAAAAO0YswEAAAAAAABox5gNAAAA\n",
       "AAAAQDvGbAAAAAAAAADaMWYDAAAAAAAA0I4xGwAAAAAAAIB2jNkAAAAAAAAAtGPMBgAAAAAAAKAd\n",
       "YzYAAAAAAAAA7RizAQAAAAAAAGjHmA0AAAAAAABAO8ZsAAAAAAAAANoxZgMAAAAAAADQjjEbAAAA\n",
       "AAAAgHaM2QAAAAAAAAC0Y8wGAAAAAAAAoB1jNgAAAAAAAADtGLMBAAAAAAAAaGeU/gB37Xa7aH94\n",
       "Noy1D4dDrH3KdrONtd/42tdi7W7e/5H3R/vXX/hKrD1770di7VMeffcHY+3zP//ZWLuqarFcRvvH\n",
       "bm9uov31ZhNr397extqnrFarWHu9XsfaVVXnk/No/9i9i3vhT5C7fzkE21VV8/ki2j+2CX8nki4u\n",
       "LtIf4QVf+vFPxNoPHj6Itauq5rfzaP/YvfvZc+N2m3uWqqqaTqfR/rGzQfb/0I/H41g7/X7jruUi\n",
       "d09///J+rF3V695tt88eF7fz3DPF9c11rF2VPzcf286yn+Xbv/3bY+2HDx/G2qcsg+87ttfZ42Aw\n",
       "GET7xxaL7LPVap17v7F71ut+YTKexNrpY3ITfOd3V/qaldyqku8bTzk/z91HXj29irWr8u/djvnL\n",
       "bAAAAAAAAADaMWYDAAAAAAAA0I4xGwAAAAAAAIB2jNkAAAAAAAAAtGPMBgAAAAAAAKAdYzYAAAAA\n",
       "AAAA7RizAQAAAAAAAGjHmA0AAAAAAABAO8ZsAAAAAAAAANoxZgMAAAAAAADQjjEbAAAAAAAAgHaM\n",
       "2QAAAAAAAAC0Y8wGAAAAAAAAoB1jNgAAAAAAAADtGLMBAAAAAAAAaMeYDQAAAAAAAEA7xmwAAAAA\n",
       "AAAA2jFmAwAAAAAAANCOMRsAAAAAAACAdozZAAAAAAAAALRjzAYAAAAAAACgndF6tUp/hhcsl8to\n",
       "f73O/TyGo1GsfcpgkGuvwsflYrGI9o8Nz3472p+99yOx9uJ/Pou1Txmc/0Ws/Z7Hj2Ptqqqrp0+j\n",
       "/WO383m0f1ivY+3gafmk0TB33ZpMJrF2VdV4Mo72j+12u2h/f9jH2tPpNNauqrqYzaL9Y9fbbbR/\n",
       "CLZH41730MOzYay922bPB+l7+GPPrrL3kctV9rl2Ms5eJ4+Nx9lr5jp477bf566RpyR/F9Nt9pq9\n",
       "WPZ5xr+4uMj2Z7n+22+/HWtXVe13fb6To2bvAP9/Wq9y5+VTFvPc+WEQfso/Pz+P9l9wSD5RVM1v\n",
       "c++aDs3uF5L3sel7p3n4neOx9D308+fPY+30cXDXaJh7xl8F98qqqvNJn+uEv8wGAAAAAAAAoB1j\n",
       "NgAAAAAAAADtGLMBAAAAAAAAaMeYDQAAAAAAAEA7xmwAAAAAAAAA2jFmAwAAAAAAANCOMRsAAAAA\n",
       "AACAdozZAAAAAAAAALRjzAYAAAAAAACgHWM2AAAAAAAAAO0YswEAAAAAAABox5gNAAAAAAAAQDvG\n",
       "bAAAAAAAAADaMWYDAAAAAAAA0I4xGwAAAAAAAIB2jNkAAAAAAAAAtGPMBgAAAAAAAKAdYzYAAAAA\n",
       "AAAA7RizAQAAAAAAAGjHmA0AAAAAAABAO8ZsAAAAAAAAANoxZgMAAAAAAADQjjEbAAAAAAAAgHZG\n",
       "o/E4/RleMN7tov3Bxb1Y+1CHWPuUwyH3eabTaaxdVbXebKL9Y8+ePYv2H333B2PtwflfxNqnzP/7\n",
       "k1j7va/+fKxdVTX4jt+M9o+9/vrr0f7bb78da5+d9fo/aMmr1nKxDNarxpM+90/379+P9jebdaz9\n",
       "4PJBrF1VdfPgJto/NhqNov3kfeygBrH2KcmfxS78LJV8frjr2fPsPfR+t4/2t+NttH8s/ZybPEes\n",
       "VqtY+5TROHetSN+7XV9fR/vHXn755Wg/+bu4ucneO927l3vnd9d4lH2e2ATfe93c9rmHrqqaz+ex\n",
       "9mqdvU48f/482j92Nsi+73jyJPfO7+VXsteFuwaD3L3T/pC9h+70PHMxu4j2k9+J3T77XHvXNvic\n",
       "nX4X3Ok70eutOAAAAAAAAACUMRsAAAAAAACAhozZAAAAAAAAALRjzAYAAAAAAACgHWM2AAAAAAAA\n",
       "AO0YswEAAAAAAABox5gNAAAAAAAAQDvGbAAAAAAAAADaMWYDAAAAAAAA0I4xGwAAAAAAAIB2jNkA\n",
       "AAAAAAAAtGPMBgAAAAAAAKAdYzYAAAAAAAAA7RizAQAAAAAAAGjHmA0AAAAAAABAO8ZsAAAAAAAA\n",
       "ANoxZgMAAAAAAADQjjEbAAAAAAAAgHaM2QAAAAAAAAC0Y8wGAAAAAAAAoB1jNgAAAAAAAADtjN58\n",
       "8830Z3jBbreL9kfDUay9Wq9i7VMmk0msPTzL/j+Lr7/19Wj/2PX1dbR//uc/G2u/5/HjWPuU9776\n",
       "87H29R9/Jdauqrr3gR+L9o8NBr8a7Se/k6tVr+tE8lw9m01j7aqqYfB+4a7FchHt31zfxNrpe6fB\n",
       "2SDaPzYcDrMfIPij2Kw3ufgJ48k41j7sD7F2VdXkPPf8cNft7W20f//e/Wh/Os1eJ4/d3OauE1VV\n",
       "m+021v6+f/uvY+1TRuPcOeK1j/50rF1Vtdtn3zUdu7i4iPb3+32snT43Pbh8EO0fSx8Hyfun9DX6\n",
       "rsUi9zx1qOy929OnT6P9Y+nnmeSz5WrZ611P8tku/bNIP08dG42y752S56fke6ZT1qt1rL3d5Z5l\n",
       "qqKng2/iL7MBAAAAAAAAaMeYDQAAAAAAAEA7xmwAAAAAAAAA2jFmAwAAAAAAANCOMRsAAAAAAACA\n",
       "dozZAAAAAAAAALRjzAYAAAAAAACgHWM2AAAAAAAAAO0YswEAAAAAAABox5gNAAAAAAAAQDvGbAAA\n",
       "AAAAAADaMWYDAAAAAAAA0I4xGwAAAAAAAIB2jNkAAAAAAAAAtGPMBgAAAAAAAKAdYzYAAAAAAAAA\n",
       "7RizAQAAAAAAAGjHmA0AAAAAAABAO8ZsAAAAAAAAANoxZgMAAAAAAADQjjEbAAAAAAAAgHZG6Q9w\n",
       "18XFRbR/Ngju+4Nc+pSHDx/G2vcvL2PtqqrhqM9XY7VcRvuLYP/q6dNY+5TBd/xmrH3vAz8Wa1dV\n",
       "3X7prWj/2Hf+yC9E+5eXvxxrX19fx9qnbNbrWDt5bqrqdcleBX8PVVWHwyHW3mw2sXZV1c24z3dy\n",
       "MV9E+7vtLtfe5dqn7Ff7WHuzzn4nFovscXjsBz7/mWj/tR/9eLS/Wq+i/WO3N7fR/g/+0edi7ec3\n",
       "41j7lPNR7vz0/Z/PPUtVVf2XH/3paP/YvYt70f52t42116vsfWv63vFY/Nku+EAzGHR6mso+z6Tt\n",
       "97nrwl3Ds2G0P51OY+2HL+XewZ8yn89j7bNh9m8vHzx4EO0fe+WVV6L9Z1fPYu3kMXjKo5cfxdrp\n",
       "9x3PnuWOg7v8ZTYAAAAAAAAA7RizAQAAAAAAAGjHmA0AAAAAAABAO8ZsAAAAAAAAANoxZgMAAAAA\n",
       "AADQjjEbAAAAAAAAgHaM2QAAAAAAAAC0Y8wGAAAAAAAAoB1jNgAAAAAAAADtGLMBAAAAAAAAaMeY\n",
       "DQAAAAAAAEA7xmwAAAAAAAAA2jFmAwAAAAAAANCOMRsAAAAAAACAdozZAAAAAAAAALRjzAYAAAAA\n",
       "AACgHWM2AAAAAAAAAO0YswEAAAAAAABox5gNAAAAAAAAQDvGbAAAAAAAAADaMWYDAAAAAAAA0I4x\n",
       "GwAAAAAAAIB2jNkAAAAAAAAAtGPMBgAAAAAAAKCd0XQ6TX+GF4yGw2j/LNgfj0ex9in37t2LtXe7\n",
       "XaxdVTWbzaL9Y+PxONq/vbnJtefzWPuU119/PdYeDH411q6q+s4f+YVo/9j1H34p2n/lfZ+Itd/z\n",
       "ve+LtU/Zzz8da19dXcXaVVXz+W20f2w+X0T7h8Mh1k7fL1zfXEf7x9LHwWKR669Wq1j7lOVyGWt/\n",
       "12f+MNauqloMovkXvH2YRPv/8Hd+L9rf7vv8Mp4Psp/lreCxcFG5a+QpZ2e5z/Pvf/BjsXZV1Wy3\n",
       "j/aP3d6G7yODX8n0vdvz6+fR/rHNO5vsBwienjq9c6uq2mxyv4vBWfYame6/4DybHwTvV7bbbax9\n",
       "ymGfO0FcXl7G2lVV01mfrezi4iLa321z1+zk9/GU+/fvx9qLZfZdz2Ydvl854i+zAQAAAAAAAGjH\n",
       "mA0AAAAAAABAO8ZsAAAAAAAAANoxZgMAAAAAAADQjjEbAAAAAAAAgHaM2QAAAAAAAAC0Y8wGAAAA\n",
       "AAAAoB1jNgAAAAAAAADtGLMBAAAAAAAAaMeYDQAAAAAAAEA7xmwAAAAAAAAA2jFmAwAAAAAAANCO\n",
       "MRsAAAAAAACAdozZAAAAAAAAALRjzAYAAAAAAACgHWM2AAAAAAAAAO0YswEAAAAAAABox5gNAAAA\n",
       "AAAAQDvGbAAAAAAAAADaMWYDAAAAAAAA0M5oNpulP8MLBuH+ZruNtQ+HQ6x9ynK5jLXPzrL/z2I0\n",
       "HEb7x9LfifVmE2sf1utY+5S333471r6+vo61q6ouL3852j/2yvs+Ee0v/voq1t7d/LdY+5TpBz4V\n",
       "az88fDrWrqra7XL3C3ctl6tofzKZxNrDs+z1erfdRfvHtuFjcrnK3Tf+wB/8dqx9ytXT3HfijbPs\n",
       "88S2+jzPfMshe35Y7LPPM1fhY+HYTWXPle8OHgsvPer1PPOFVz8Wa9+7uIi1q6rOBn3+lmOxXET7\n",
       "g+DPYhh+1zOfz6P9Y+ln/EHwbdN+v4+1TzkE719Go1GsXVV1e3Mb7R877LP3LoOz3Hdiu+nzfqEq\n",
       "+53YBN9DV1UNBuk38f/Pzc1NtL9a5941nQ373LdVVa03uXv63S77LDWdTaP9Y72OCgAAAAAAAAAo\n",
       "YzYAAAAAAAAADRmzAQAAAAAAAGjHmA0AAAAAAABAO8ZsAAAAAAAAANoxZgMAAAAAAADQjjEbAAAA\n",
       "AAAAgHaM2QAAAAAAAAC0Y8wGAAAAAAAAoB1jNgAAAAAAAADtGLMBAAAAAAAAaMeYDQAAAAAAAEA7\n",
       "xmwAAAAAAAAA2jFmAwAAAAAAANCOMRsAAAAAAACAdozZAAAAAAAAALRjzAYAAAAAAACgHWM2AAAA\n",
       "AAAAAO0YswEAAAAAAABox5gNAAAAAAAAQDvGbAAAAAAAAADaGd3c3KQ/wwtGo1G0v91sY+2zYa//\n",
       "WzCbzWLt3W4Xa1dV3c7n0f6x9WoV7d/e3sbag1j5tLOz3Hd0FT4Orq+vo/1j7/ne90X7u5v/Fmuv\n",
       "v97n3FRVNfjLL8fak/f/TKxdVfXud/9WtH9svV5H+4vFeaw9u8jdq1Rl75XuGo/G0f5omL2H72Qb\n",
       "vIO5rew99PUh9yx113nwvq2q6sEheyc7DvePDQfZz5I8O/3JD/2zYP2bTce5a8V0Oo21q6oOh0O0\n",
       "fyz53qmqKvmVHITPB6t19rn62GazifbPz3P38Pv9PtY+Jfl50uemw77RuXGbPTdOJpNYe75o9q4n\n",
       "eK5OH5Pp/rH0dyJpv+t1ndgcctfsQ/ia2Zl6oysAACAASURBVOma3Ws9BQAAAAAAAIAyZgMAAAAA\n",
       "AADQkDEbAAAAAAAAgHaM2QAAAAAAAAC0Y8wGAAAAAAAAoB1jNgAAAAAAAADtGLMBAAAAAAAAaMeY\n",
       "DQAAAAAAAEA7xmwAAAAAAAAA2jFmAwAAAAAAANCOMRsAAAAAAACAdozZAAAAAAAAALRjzAYAAAAA\n",
       "AACgHWM2AAAAAAAAAO0YswEAAAAAAABox5gNAAAAAAAAQDvGbAAAAAAAAADaMWYDAAAAAAAA0I4x\n",
       "GwAAAAAAAIB2jNkAAAAAAAAAtGPMBgAAAAAAAKAdYzYAAAAAAAAA7RizAQAAAAAAAGjHmA0AAAAA\n",
       "AABAO6On7zxNf4YXnA2z+/psNou1R/thrN3N7c1ttL9aLaP9Y9948iTaX61WsfZoOIq1TzkE28Oz\n",
       "7Llxs15H+8f2809H+9MPfCrWHvzll2PtU1b/6ybW3q++FmtXVc0+9Mlo/9hg8C+j/dEod65+1yvv\n",
       "irWrqm5vs/crx5LX66qq/WEfa//nH/6pWPuU7/vcZ2Lt0TJ7v3BWg2j/2Kpyx2RV1fCQfbY7j9Zf\n",
       "tB5kj4vkPfx+nz0O70p+nsM++ZuoWjV6npnP59H+aJQ7P51PsmenzXYT7R/78B/9frT/n/7px2Lt\n",
       "59fPY+1TDofc+Wk8nsTaVVXD8Hv4Trbbba69y7VPOQu+gxyeZe+hJ5Psd/JY+rOs17l3DGfh4+Cb\n",
       "BB9ntpvs+aHTvZMrFgAAAAAAAADtGLMBAAAAAAAAaMeYDQAAAAAAAEA7xmwAAAAAAAAA2jFmAwAA\n",
       "AAAAANCOMRsAAAAAAACAdozZAAAAAAAAALRjzAYAAAAAAACgHWM2AAAAAAAAAO0YswEAAAAAAABo\n",
       "x5gNAAAAAAAAQDvGbAAAAAAAAADaMWYDAAAAAAAA0I4xGwAAAAAAAIB2jNkAAAAAAAAAtGPMBgAA\n",
       "AAAAAKAdYzYAAAAAAAAA7RizAQAAAAAAAGjHmA0AAAAAAABAO8ZsAAAAAAAAANoxZgMAAAAAAADQ\n",
       "zujq6ir9GVq5vLyMte9f3o+1T9lsNrH2fH4ba1dVbbbbaP/Y9fV1tL9er2PtyWQSa5+yXCxj7dls\n",
       "GmtXVS2WuX/7Xenr1sPDp2Ptyft/JtY+Zb/6Wqy9ebKItauqRl/5q2j/2ONvfRztj0bDWHsZPjc9\n",
       "e9bnPvrp06fR/nw+j7VH41Gs3c269umP0MZN7aL9p2fZ/zd+7zCI9o+Nw58l+Zv48Bc+G6x/sy+8\n",
       "+uOxdvpcvdtmzwnHBuGv53CYu3dbrVaxdlXVh7/wmWj/2LPbcbT/A7//+7H2at3rb6sOwevUw0e5\n",
       "d25VVf/hw7nrwl2H/SH9EWJubm/SH+EF0/PcO8jpNPv+M/lce9dqnb1mHva5Z8vNps82U1V1fp7b\n",
       "KG5usztZ8r7xrl53DwAAAAAAAABQxmwAAAAAAAAAGjJmAwAAAAAAANCOMRsAAAAAAACAdozZAAAA\n",
       "AAAAALRjzAYAAAAAAACgHWM2AAAAAAAAAO0YswEAAAAAAABox5gNAAAAAAAAQDvGbAAAAAAAAADa\n",
       "MWYDAAAAAAAA0I4xGwAAAAAAAIB2jNkAAAAAAAAAtGPMBgAAAAAAAKAdYzYAAAAAAAAA7RizAQAA\n",
       "AAAAAGjHmA0AAAAAAABAO8ZsAAAAAAAAANoxZgMAAAAAAADQjjEbAAAAAAAAgHZGZ2e99uz9fh/t\n",
       "b3fbWPtwOMTap5yfn8fa19fXsXZV1WAwiPY7OZ/kjoPxZBxrn5L8PMPhKNauqur0jZjPb6P9XfA6\n",
       "8e53/1asfcrsQ5+MtUdf+atYu6pq8T+eRfvHLiYfjfb//j/4x7H2N776L2Ltqqqvv/X1aP/YZDzJ\n",
       "foDghWI0yl4j75rMcs8zF8vsvVOnW+jsU2XV27WJ9teDPt+Ly0P2ncP5IHc0LG/6/B6qqj70u38Y\n",
       "a//pT/xIrF1VdT7NPdfedXFxEe0n3z0tF8tYu5vZbBftf/Gj/4d9e+m1NaHrPP5f1307p05VgUXR\n",
       "YAhQoUBMEARCoYCK4SK2aCXGoVETuuOgRz3sYQ8dONA30DFR09E0KvdSIyK0l2jbagc6bR9asUqq\n",
       "iqo6+77uPZBunrNdY37/xM/nDXyfvddaz/Os57f3h2Lt7Tb7s9/03i9+Jtb+4ns+EmtXVY136Tum\n",
       "b0lvFMlnft2+zySvU/OD7Pfaw8PDaH8ouVNVVc2Cm8BiuYy19zk4yL0vzs+zz8GXiz6vRa8lGwAA\n",
       "AAAAAADKmA0AAAAAAABAQ8ZsAAAAAAAAANoxZgMAAAAAAADQjjEbAAAAAAAAgHaM2QAAAAAAAAC0\n",
       "Y8wGAAAAAAAAoB1jNgAAAAAAAADtGLMBAAAAAAAAaMeYDQAAAAAAAEA7xmwAAAAAAAAA2jFmAwAA\n",
       "AAAAANCOMRsAAAAAAACAdozZAAAAAAAAALRjzAYAAAAAAACgHWM2AAAAAAAAAO0YswEAAAAAAABo\n",
       "x5gNAAAAAAAAQDvGbAAAAAAAAADaMWYDAAAAAAAA0I4xGwAAAAAAAIB2jNkAAAAAAAAAtGPMBgAA\n",
       "AAAAAKAdYzYAAAAAAAAA7Uwfevih9DHc5+ryKnsAo2y+k8vLy1h7s97E2lVV2+022h969NFHo/2T\n",
       "45NYe7PJvg9uunXrVqx9dZ09Ny6Wy2h/6DJ8nbi+XsTay0avQ1XVaPQfY+1X/qtXxtpVVcfz90f7\n",
       "Q5df+Ua0vzn9fKx967HbsXZVr3Nj+jqxWq5i7dl0Fmvv84fv/nCs/Zrf+b1Yu6rqudEu2u/kH7a5\n",
       "+4WqqgfGk2h/6Hb4bfGXH8lds7//jz4da++zXuX+n2E2z56rb9/O3jMMHR4eRvtnZ2ex9hN/8LlY\n",
       "u6pqdxDN32cyzZ4c58HP5NHRA7H2Pn/6Qz8ea2+ur2PtqqoaeRD+/8zn81i72/PP8SR3vzCZZO9h\n",
       "D4+y1+ih9D4xnU5j7aur8EZ4w65y1+zVOvespapqvV5H+0P+MxsAAAAAAACAdozZAAAAAAAAALRj\n",
       "zAYAAAAAAACgHWM2AAAAAAAAAO0YswEAAAAAAABox5gNAAAAAAAAQDvGbAAAAAAAAADaMWYDAAAA\n",
       "AAAA0I4xGwAAAAAAAIB2jNkAAAAAAAAAtGPMBgAAAAAAAKAdYzYAAAAAAAAA7RizAQAAAAAAAGjH\n",
       "mA0AAAAAAABAO8ZsAAAAAAAAANoxZgMAAAAAAADQjjEbAAAAAAAAgHaM2QAAAAAAAAC0Y8wGAAAA\n",
       "AAAAoB1jNgAAAAAAAADtGLMBAAAAAAAAaGe6WCzSx3Cf1XoV7e+221j7+vo61t7n7PQ01l6usu+D\n",
       "bfB9cNPh4WH4CHax8nbX53WoqlqtlrH2+dl5rF1Vtdvl3gc3pY9lPp/H2ldXB7H2PtPpNNiexNpV\n",
       "Va95/J3R/tDm9PPR/uKZi1h79qofibWrqh555Bej/aEXXngh2t9uNrH2bD6LtfdJXqe+Y7aOtauq\n",
       "FqvcdeGmxSh7v5C+c1rGj+BbTkfZ/juf+lysvZ70+v+B5Ner7Sb73W4VfsbQyWqZ+11sc7cLVVW1\n",
       "XoZPSANf+oEPRvu3prn7p8kk+12uk/E4e50YN7pOdbun/7bqc9tWVVWXl5ex9nqV/T7z0IMPRftD\n",
       "L734UrR/+4HbsfZymXsGv8/4KneuXFxn99vks9+b+lyxAAAAAAAAAOCbjNkAAAAAAAAAtGPMBgAA\n",
       "AAAAAKAdYzYAAAAAAAAA7RizAQAAAAAAAGjHmA0AAAAAAABAO8ZsAAAAAAAAANoxZgMAAAAAAADQ\n",
       "jjEbAAAAAAAAgHaM2QAAAAAAAAC0Y8wGAAAAAAAAoB1jNgAAAAAAAADtGLMBAAAAAAAAaMeYDQAA\n",
       "AAAAAEA7xmwAAAAAAAAA2jFmAwAAAAAAANCOMRsAAAAAAACAdozZAAAAAAAAALRjzAYAAAAAAACg\n",
       "HWM2AAAAAAAAAO0YswEAAAAAAABoZ/q1v/9a+hjus9luov3Dg8NYe7Vax9r7TMaTWHu5WsbaVVWX\n",
       "l5fR/tBykf1d7GoXax8e5j6P+zxw+4FYe7FcxNpVVavVKtof2myy14nkufHo+CjW3uflL3t5rH19\n",
       "fR1rV1U9//f/IdofuvXY7Wh/9qofibXP/yx7H/u67/75aH/o0Ud/M9r/6t27sfbTTz8da+/z9DPP\n",
       "xNp//eSTsXZV1Xd9/Dei/aFnr2fR/hvH2Wv2yXYU7Q9dhQ/la8tprD2Plfc7yH21q7d84rO5eFWt\n",
       "tn3+lyP96Tw6zD172m6yP/24z9ugppPcuSnt+ir7Xe6m5LPoo6Ps/UL6e/XQdruN9pPPvdbNNoHV\n",
       "Ove7uLq8irWrqg4OD6L9oaf/Ifs994E7uefg6T3kptll7rvlvdN7sXZV/jo11Og2DgAAAAAAAAD+\n",
       "iTEbAAAAAAAAgHaM2QAAAAAAAAC0Y8wGAAAAAAAAoB1jNgAAAAAAAADtGLMBAAAAAAAAaMeYDQAA\n",
       "AAAAAEA7xmwAAAAAAAAA2jFmAwAAAAAAANCOMRsAAAAAAACAdozZAAAAAAAAALRjzAYAAAAAAACg\n",
       "HWM2AAAAAAAAAO0YswEAAAAAAABox5gNAAAAAAAAQDvGbAAAAAAAAADaMWYDAAAAAAAA0I4xGwAA\n",
       "AAAAAIB2jNkAAAAAAAAAtGPMBgAAAAAAAKCd6Ysvvpg+hvtst9to/8GHHoy1d7WLtfeZn85j7d0u\n",
       "+z64urqK9odeeumlaP/yMve7OD46irX3OX/gPNYejUexdlXV+ews2h86O88ey2a9ibWPmn0mLi4u\n",
       "Yu1797Lnxme//my0P7RYLqP9Rx75xVj7dd/987F2VdXFX/d5Hxy/8aPR/pve9JlYezTu9fe5k8k0\n",
       "1n7xhex3uy//xE9G+0Nv+vh/jvbnh9nvM59/4kPR/tDbPvVUtP/idhLtdzILPnO4Dr8OT4+zn8mh\n",
       "aWW/2716kXstbj2wjrWrqr7w/R+I9odO5rlnblVVm23ue+3lxWWsvU/yecvB/CDWrso/hx/abbPP\n",
       "xa+Czz87vQ5V2Y1iucg+30g/hx86P889h66q2mxy14n5QfYaedNylXtfrtfZe6fzs+z7cKjXkx8A\n",
       "AAAAAAAAKGM2AAAAAAAAAA0ZswEAAAAAAABox5gNAAAAAAAAQDvGbAAAAAAAAADaMWYDAAAAAAAA\n",
       "0I4xGwAAAAAAAIB2jNkAAAAAAAAAtGPMBgAAAAAAAKAdYzYAAAAAAAAA7RizAQAAAAAAAGjHmA0A\n",
       "AAAAAABAO8ZsAAAAAAAAANoxZgMAAAAAAADQjjEbAAAAAAAAgHaM2QAAAAAAAAC0Y8wGAAAAAAAA\n",
       "oB1jNgAAAAAAAADtGLMBAAAAAAAAaMeYDQAAAAAAAEA7xmwAAAAAAAAA2jFmAwAAAAAAANCOMRsA\n",
       "AAAAAACAdozZAAAAAAAAALQzvb6+Th/DfSaTSbS/3W5j7Yvzi1h7n9l0FmtPZ9NYu6pqVKNof2i1\n",
       "WmX7y2WsfbZex9r7TKe592X63Hh1eRXtD12Gj2W9yb0vk+flfRaLRaz94osvxtpVVfPZPNofurrO\n",
       "fiZeeOGFWPvRR38z1q6qOn7jR6P9ocsvfyPaP378g7H2a1/727H2PuNR7j4y+XmsqhqP+9xD/9WP\n",
       "PhntT8P3brc2m2h/6PAkeywHp9nXopP5JPe8Y7nJ/i/FVeV+9pvSZ8rrXe577eEy/dM3Ev5VzKe5\n",
       "7zNX4z7PF6qqxuPcdWIUvG+sqprN+jxj2NUu2r93ei/WPjg4iLX3ST6L3p6fxdpVVRfhTWLosa/8\n",
       "ebR/97veEWtPpr3u30/vncba8d9F9tR8H/+ZDQAAAAAAAEA7xmwAAAAAAAAA2jFmAwAAAAAAANCO\n",
       "MRsAAAAAAACAdozZAAAAAAAAALRjzAYAAAAAAACgHWM2AAAAAAAAAO0YswEAAAAAAABox5gNAAAA\n",
       "AAAAQDvGbAAAAAAAAADaMWYDAAAAAAAA0I4xGwAAAAAAAIB2jNkAAAAAAAAAtGPMBgAAAAAAAKAd\n",
       "YzYAAAAAAAAA7RizAQAAAAAAAGjHmA0AAAAAAABAO8ZsAAAAAAAAANoxZgMAAAAAAADQjjEbAAAA\n",
       "AAAAgHaM2QAAAAAAAAC0M/2eT/1u+hjuMwr3/+JH3h9rj0bpn/5+s9ks1p5Op7F2VdV2u432hy7O\n",
       "L9KHELNLH8ANu+QRhU8Pm/UmewADV1dX0f714jrWnk6y58abtrvcufLy8jLWrqr4Z3JotVxF+9tN\n",
       "7vzw1bt3Y+2qqje96TPR/tDx4x+M9i+/8o1Y+/iNPxZr7/OGxz8da7/00r1Yu6pquVxG+0NnZ+fp\n",
       "Q4hab9bpQ/j//uQHPxLtv/m3+pyryenzDb9qEu4vg/exi+vwT9/oIcNsmnvmVlV1fHIca69W2e8v\n",
       "NyWfx6aff67Xfe4X0u+L5HOvq23uOdM+7/r9T8bak1n2RP35Jz4U7Q89fvfZaH/7ptzd03LR53tl\n",
       "VdU7nsp9n7heZO+dbt3qc53wn9kAAAAAAAAAtGPMBgAAAAAAAKAdYzYAAAAAAAAA7RizAQAAAAAA\n",
       "AGjHmA0AAAAAAABAO8ZsAAAAAAAAANoxZgMAAAAAAADQjjEbAAAAAAAAgHaM2QAAAAAAAAC0Y8wG\n",
       "AAAAAAAAoB1jNgAAAAAAAADtGLMBAAAAAAAAaMeYDQAAAAAAAEA7xmwAAAAAAAAA2jFmAwAAAAAA\n",
       "ANCOMRsAAAAAAACAdozZAAAAAAAAALRjzAYAAAAAAACgHWM2AAAAAAAAAO0YswEAAAAAAABox5gN\n",
       "AAAAAAAAQDvT822vPXsxyvbf9qmnsgfQyP/6qSdj7elkGmtXVa3X62h/aLfbRfvHx8ex9nSWfR/c\n",
       "NKrcCWq1XMXaVVWbzSbaH1osFtH+23/3v0T7nfzJD/xYrJ0+P0ynfc5Ps+ks25/n+k8//XSsXVU1\n",
       "Gve5j37ta3872j9+Y+58cPnl52PtfY7f8IFY+3Wv/9VYu6rq3um9aH8ofSyXl5fR/nKxjPaHkteJ\n",
       "qqrZdBtrbzZ9rhNVVeNx7rvlwSj3OlRVfcemz73bYbh/u3Lvg/Uu+9BvNAo/dBw4PMq+E46Pcs96\n",
       "Oj1fqKrarHPHs95knz9OJpNofyj9uxgHv9t1OjdVVSUfRW/W2d/FOz/3uWh/6PlVeB9Z5T6T73jq\n",
       "E7H2PheL3GvxbPr8cN7nHrrXNysAAAAAAAAAKGM2AAAAAAAAAA0ZswEAAAAAAABox5gNAAAAAAAA\n",
       "QDvGbAAAAAAAAADaMWYDAAAAAAAA0I4xGwAAAAAAAIB2jNkAAAAAAAAAtGPMBgAAAAAAAKAdYzYA\n",
       "AAAAAAAA7RizAQAAAAAAAGjHmA0AAAAAAABAO8ZsAAAAAAAAANoxZgMAAAAAAADQjjEbAAAAAAAA\n",
       "gHaM2QAAAAAAAAC0Y8wGAAAAAAAAoB1jNgAAAAAAAADtGLMBAAAAAAAAaMeYDQAAAAAAAEA7xmwA\n",
       "AAAAAAAA2jFmAwAAAAAAANCOMRsAAAAAAACAdqbpA7jpaJftzw+2sfbiehJr77NYLHLxeS5dVXV9\n",
       "fZ09gIHv++Ino/3//sGfirUn416fiV3lTlCz+SzWrqraLnLnxpvSn8+XXsydoNY1irX3edtnfid9\n",
       "CDHzoz6fiT9894ej/d0ud258+plnYu2qqsmkz630eJQ9P7zh8U/H2sdv+ECsvc/l/3wh1n7kXR+L\n",
       "tauqHnv9L0T7QxfnF9H+2dlZtH96dhrtDz33/PPR/nqd+xv+8Tj8gOOGWfB5xxfflz1Xv+3Tvxvt\n",
       "D+222Wv2aJR7X47C32fS36uHDg8Oo/35PPe99uDgINbe53qXe8YwH2cfgG4mm2h/aLzK/s/der2O\n",
       "tdPng5v+9P0fibXf8dQnYu2qXvduwct1VVW96/c/G2tvd72ef652ufNT+op5dJg7N97kP7MBAAAA\n",
       "AAAAaMeYDQAAAAAAAEA7xmwAAAAAAAAA2jFmAwAAAAAAANCOMRsAAAAAAACAdozZAAAAAAAAALRj\n",
       "zAYAAAAAAACgHWM2AAAAAAAAAO0YswEAAAAAAABox5gNAAAAAAAAQDvGbAAAAAAAAADaMWYDAAAA\n",
       "AAAA0I4xGwAAAAAAAIB2jNkAAAAAAAAAtGPMBgAAAAAAAKAdYzYAAAAAAAAA7RizAQAAAAAAAGjH\n",
       "mA0AAAAAAABAO8ZsAAAAAAAAANoxZgMAAAAAAADQjjEbAAAAAAAAgHZGP/7Rj+7SBzH03j/+TLS/\n",
       "Xoyi/U6+9L4Pxtp37tyJtauqqtPbIPwJfeDOA7H2Zr2JtffZbHLHMx5n//bo4uIi2h961a9+PNp/\n",
       "ZryNtS8q195nGjxZLsO/i+OaRPtDL9tlzw/fMVvH2l9+8slYu6rqVa96VbQ/9OpXv/pfbP91r39d\n",
       "rL3PIy//WKx9/l//T6xdVXXrra+M9oeev/hP0f5X796N9p999rlof+hv//ffRvtf//rXY+3VahVr\n",
       "77Pbtnr882213fW5j97tsq/DxXnuu136e+3DDz8c7Q+98pXZa+bJrZNYe7lcxtr7rILHkz4r77Z9\n",
       "zo1XV9fR/vn5eax9cHgQa++T/IyenZ3F2lVVl5eX0f7Qu37vs9H+n/7wh2Pt0ajTOFP19qc+GWtv\n",
       "VtnfxZ9/+EPR/pD/zAYAAAAAAACgHWM2AAAAAAAAAO0YswEAAAAAAABox5gNAAAAAAAAQDvGbAAA\n",
       "AAAAAADaMWYDAAAAAAAA0I4xGwAAAAAAAIB2jNkAAAAAAAAAtGPMBgAAAAAAAKAdYzYAAAAAAAAA\n",
       "7RizAQAAAAAAAGjHmA0AAAAAAABAO8ZsAAAAAAAAANoxZgMAAAAAAADQjjEbAAAAAAAAgHaM2QAA\n",
       "AAAAAAC0Y8wGAAAAAAAAoB1jNgAAAAAAAADtGLMBAAAAAAAAaMeYDQAAAAAAAEA7xmwAAAAAAAAA\n",
       "2plOp9P0Mdzn7171umj/ZX/zd7H2ZjuKtff53s88FWv/j5/417F2VdV0Oov2h3bbbbR/eXEZay8W\n",
       "i1h7n91uF2vPD+axdlXV1dVVtD90FT5Vriv3PjjbrWPtfcbV67r17TRq9KM/N8q9J6uqFqvcveR3\n",
       "ffw3Yu2qqi//xE9G+0PjcfZNuVwuY+17p/di7X0ee/0vxNqvf+u/i7Wrqs7/4plof+jlb/vpaH/y\n",
       "2K9E++v1JtofSl8zb9++HWs///zzsfY+yXv65HWiKvtd7qZR+EMxHuf+r2U+y36vvXPnTrQ/dHB4\n",
       "EO13ex6cdHCQey3Sr8NquYr2h9Jn6eUqd52aNXoOXVW1XueePU0mk1i7quo9X/x0tD+0Db8t1pvc\n",
       "++DVT9+NtffZBeeZ+VF2G9pt02fnb/Gf2QAAAAAAAAC0Y8wGAAAAAAAAoB1jNgAAAAAAAADtGLMB\n",
       "AAAAAAAAaMeYDQAAAAAAAEA7xmwAAAAAAAAA2jFmAwAAAAAAANCOMRsAAAAAAACAdozZAAAAAAAA\n",
       "ALRjzAYAAAAAAACgHWM2AAAAAAAAAO0YswEAAAAAAABox5gNAAAAAAAAQDvGbAAAAAAAAADaMWYD\n",
       "AAAAAAAA0I4xGwAAAAAAAIB2jNkAAAAAAAAAtGPMBgAAAAAAAKAdYzYAAAAAAAAA7RizAQAAAAAA\n",
       "AGjHmA0AAAAAAABAO8ZsAAAAAAAAANoxZgMAAAAAAADQzujffOxju/RBDC2Wi2j//Ow81n73Fz4R\n",
       "a+9zfTGJtf/mox+Ntauqbt+6He0PHR4eRvsnt05i7Xsv3Yu197l3mjue5XIZa1dVfe9nfzvaH3ru\n",
       "fB7tb4Lt03GrS3Ytahtrn0dfiapxjaL9oaPw3yYeBPt3dtnX4RXHq2h/6K9+9Mlo/+GHHsq1X/Zw\n",
       "rL3PKx55Raz93ve9N9auqnr5rZ+O9ofO//zpaP/2E6+N9p9+5pei/aHT09No/+vPPhtrv/DCC7H2\n",
       "PsnXYrnIfp+ZzWbR/tDF5UW0v16vY+0HH3ww1q6qGo/7/E/PUfhZz3x+EGsfHuba+4yC74v0s550\n",
       "f+jevewzwPUqd248Oz+Ltbs5P89tM1W97t2mk2m0f3R8FGvvdr2ef15eXsba41H23iW9TQ31uYsD\n",
       "AAAAAAAAgG8yZgMAAAAAAADQjjEbAAAAAAAAgHaM2QAAAAAAAAC0Y8wGAAAAAAAAoB1jNgAAAAAA\n",
       "AADtGLMBAAAAAAAAaMeYDQAAAAAAAEA7xmwAAAAAAAAA2jFmAwAAAAAAANCOMRsAAAAAAACAdozZ\n",
       "AAAAAAAAALRjzAYAAAAAAACgHWM2AAAAAAAAAO0YswEAAAAAAABox5gNAAAAAAAAQDvGbAAAAAAA\n",
       "AADaMWYDAAAAAAAA0I4xGwAAAAAAAIB2jNkAAAAAAAAAtGPMBgAAAAAAAKCd6XQ2TR/DfSbTSbQ/\n",
       "Huf2/S+950dj7X3Wm3Ws/co7d2LtqqrFYhHtD22vttH+ep17H1wvrmPtfbab3Gtx6+RWrF1V9Wc/\n",
       "3Of89N2/9elo/2qbu048sBvF2vtMdrlr9ovB63VV1XO1ivaH/mGbvWbtgu03jo+C9ar5YfYaPTSd\n",
       "ZO+hky4vL9OHcJ+zs7NY+6t378baVVWTx34l2h96+Imfi/bPvpR9LR59S/bnHzo5+bVo/zT4mTw+\n",
       "Po6191kul7H2dpu9Zu52fa7Z89k82k9+t3zFI4/E2lVV680m2h+azWbRfvL5Z/p8cNMk+Ls4SV8n\n",
       "kl/mbjg8OIz2V+Pcd/yLi4tYe5/5Qe46lT4/vPjCi9H+0MHhQfYAgueHo8Pss56b5vPcZ2K3bXSi\n",
       "DvOf2QAAAAAAAAC0Y8wGAAAAAAAAoB1jNgAAAAAAAADtGLMBAAAAAAAAaMeYDQAAAAAAAEA7xmwA\n",
       "AAAAAAAA2jFmAwAAAAAAANCOMRsAAAAAAACAdozZAAAAAAAAALRjzAYAAAAAAACgHWM2AAAAAAAA\n",
       "AO0YswEAAAAAAABox5gNAAAAAAAAQDvGbAAAAAAAAADaMWYDAAAAAAAA0I4xGwAAAAAAAIB2jNkA\n",
       "AAAAAAAAtGPMBgAAAAAAAKAdYzYAHEBq6gAAIABJREFUAAAAAAAA7RizAQAAAAAAAGjHmA0AAAAA\n",
       "AABAO9PJZJI+hvts1ptof7fbxdqTaa/XIvneGNUo1q6q2myy78Oh3Tb3nqyqOjw8jLXns3msvc96\n",
       "to61k69DVdViuYj2h9bb7PnhpXHuMznbZX/2mw6C7ZPw72I5mkb7Qw+Ms/cPy8p9Jk7C54PPP/Gh\n",
       "aH/oVvjeZb3JXSOXi2Wsvc/p2Wms/eyzz8XaVVXr8He5ode85pei/Uff8nPR/sVf/mO0P3Tn3T8T\n",
       "7X/nq3851u5151Y1Huf+n+HgIHnnmP3Zb0p/x6/gvdvR8XGsXVW1Wq2i/aFJ+D1558EHY+3r6+tY\n",
       "e5/1Oncfe3V5GWtXVa3WfT4Tu+C5qapqOst9xx+Pe90xJJ/Lp6+Rh0fZ569DJ8cn0f5sNou1t7tt\n",
       "rL3PfJzbKJJ7ZVWv5y197uYBAAAAAAAA4JuM2QAAAAAAAAC0Y8wGAAAAAAAAoB1jNgAAAAAAAADt\n",
       "GLMBAAAAAAAAaMeYDQAAAAAAAEA7xmwAAAAAAAAA2jFmAwAAAAAAANCOMRsAAAAAAACAdozZAAAA\n",
       "AAAAALRjzAYAAAAAAACgHWM2AAAAAAAAAO0YswEAAAAAAABox5gNAAAAAAAAQDvGbAAAAAAAAADa\n",
       "MWYDAAAAAAAA0I4xGwAAAAAAAIB2jNkAAAAAAAAAtGPMBgAAAAAAAKAdYzYAAAAAAAAA7RizAQAA\n",
       "AAAAAGjHmA0AAAAAAABAO8ZsAAAAAAAAANqZ1i59CPe7urrK9i9z/dFoFGvvs1yvYu179+7F2lVV\n",
       "k8kk2h+azLPHMh7l/uZlNpvF2vvsgifM84vzWLuq6uL8ItofOg2fK89rE2tPul0ngscz22V/F7d3\n",
       "ff4e8Hb4Xu40+FJchT8Sb/vUU9kDGDg8yZ2bqqr+5Ac/EmvP5r3uF557/vn0IcR0ukw99NCD0f7J\n",
       "ya9F+3fe/TPR/tDZF+9G+6/4np+NtY9Pfj3W3uf5556LtV8Kf8fvZLlcRvvz+TzWHlX2QnF5dRnt\n",
       "D11fX0f7Z6ensfb1YhFr77O4zh3PvdPsuXE6mUb7Q+nnXsnfxcVln3NTVdVolNtHptPse/Lo8Cja\n",
       "HxqPs8+dxuPcNXs6yd2r7LMIXrcODw9j7aqq1Sq3Ed7U50ksAAAAAAAAAHyTMRsAAAAAAACAdozZ\n",
       "AAAAAAAAALRjzAYAAAAAAACgHWM2AAAAAAAAAO0YswEAAAAAAABox5gNAAAAAAAAQDvGbAAAAAAA\n",
       "AADaMWYDAAAAAAAA0I4xGwAAAAAAAIB2jNkAAAAAAAAAtGPMBgAAAAAAAKAdYzYAAAAAAAAA7Riz\n",
       "AQAAAAAAAGjHmA0AAAAAAABAO8ZsAAAAAAAAANoxZgMAAAAAAADQjjEbAAAAAAAAgHaM2QAAAAAA\n",
       "AAC0Y8wGAAAAAAAAoB1jNgAAAAAAAADtTI+Pj9PHcJ/pbBrtj8ajWHs87vW3BVdX17H2rZOTWLuq\n",
       "arfbRftDR8dH0f5sNou1l8tlrL3PqHLnh9V6HWtXVT3xB5+J9oe+vptH+6/YTWLt7BXyn0ueKdNX\n",
       "zIPRNnwE3/KXH3l/tP/Opz4Xa39tmf1UvLjNnQ9uOjjNHsubfyt3nZhN+3weq6rW69wZ6ms//VOx\n",
       "dlXV7du3o/2hk1u3ov3Ts7No/ztf/cvR/tArvudno/2L//aPsfatx5+Mtfd55M1fiLXv3r0ba1dV\n",
       "bTabaH/o/Pw82p9OcvcM14tFrF1VtTnLfq8e2obfk5erVazd7VnPOvi8JX0+WK/6fCbS74uHHn4o\n",
       "1h6Ncs8b90k+/zwJbwIH84Nof2g6zT7vmEyDzxj6TDNVlX1fHB1lt6H0+3Ao/SwYAAAAAAAAAP4Z\n",
       "YzYAAAAAAAAA7RizAQAAAAAAAGjHmA0AAAAAAABAO8ZsAAAAAAAAANoxZgMAAAAAAADQjjEbAAAA\n",
       "AAAAgHaM2QAAAAAAAAC0Y8wGAAAAAAAAoB1jNgAAAAAAAADtGLMBAAAAAAAAaMeYDQAAAAAAAEA7\n",
       "xmwAAAAAAAAA2jFmAwAAAAAAANCOMRsAAAAAAACAdozZAAAAAAAAALRjzAYAAAAAAACgHWM2AAAA\n",
       "AAAAAO0YswEAAAAAAABox5gNAAAAAAAAQDvGbAAAAAAAAADamZ6cnKSP4T4PTB+I9qeTabTfyu7F\n",
       "WHp+MI+1q6rG4z5/53F0eBTtbzabWHu73cba+ywWi1j7bZ/7eKxdVXV6Pov2h45rF+0/+NAy1v7S\n",
       "ez4Sa++T/Iy++wufirWrqq7P+9wvfP8ffTraX09y18zs3QJdbDZ97tuqqsbj3HVqtVrF2lVVzz//\n",
       "fLQ/9OCDD0b7x8fH0f4oWr/f8cmvR/u3Hn8y1r78yjdi7X12yydi7cce++NYu6rX+en87Cza3wTv\n",
       "4afT7D108mfvZjTKXSk6XaOqss8Ad9vs843lKvd846bNNvf8sSr7mZhMJrH2PrNZ7hlgsl1VdXhw\n",
       "GO0PrdbZ73bJa/Z81utpz3q9jrXv3MnupUdH2W1qqNeTHwAAAAAAAAAoYzYAAAAAAAAADRmzAQAA\n",
       "AAAAAGjHmA0AAAAAAABAO8ZsAAAAAAAAANoxZgMAAAAAAADQjjEbAAAAAAAAgHaM2QAAAAAAAAC0\n",
       "Y8wGAAAAAAAAoB1jNgAAAAAAAADtGLMBAAAAAAAAaMeYDQAAAAAAAEA7xmwAAAAAAAAA2jFmAwAA\n",
       "AAAAANCOMRsAAAAAAACAdozZAAAAAAAAALRjzAYAAAAAAACgHWM2AAAAAAAAAO0YswEAAAAAAABo\n",
       "x5gNAAAAAAAAQDvGbAAAAAAAAADaMWYDAAAAAAAA0I4xGwAAAAAAAIB2ptvtJn0M95lP5tH+bD6L\n",
       "tbfbbay9z3iS+1uH0WgUa1dVTSaTaH/o8Ogw2r++uo61Z7Pc53Gf6WwabO9i7aqqg2mf89N4nP1d\n",
       "fOH7PhRrHzb7TCSvW1/4vg/G2lVVb/3k70X7Q+tV9m8Td8HTw0H2dFCzCh/AwHzS5zz97Za+Ltw0\n",
       "O8i9Frtt9ndxdXUV7Q+dnp5G+8vlMtofj/v83frzzz0X7T/y5i/E2rvlE7H2Pld3X4q1d+u3x9pV\n",
       "VY+89X3R/tCLL/zbaD/5vOVe+NycftY0NJ2Gv9sFfxXpa+RNlxeXsfZqtYq1q6pOjk+i/aH0c/HF\n",
       "9SLW3m56fZdb1zrWTj6Hrqo6OenzmVgusufKxSL3mTh++VGsvc/lZe46sd1lv+Onz81Dfb7hAgAA\n",
       "AAAAAMA3GbMBAAAAAAAAaMeYDQAAAAAAAEA7xmwAAAAAAAAA2jFmAwAAAAAAANCOMRsAAAAAAACA\n",
       "dozZAAAAAAAAALRjzAYAAAAAAACgHWM2AAAAAAAAAO0YswEAAAAAAABox5gNAAAAAAAAQDvGbAAA\n",
       "AAAAAADaMWYDAAAAAAAA0I4xGwAAAAAAAIB2jNkAAAAAAAAAtGPMBgAAAAAAAKAdYzYAAAAAAAAA\n",
       "7RizAQAAAAAAAGjHmA0AAAAAAABAO8ZsAAAAAAAAANoxZgMAAAAAAADQznQ+n6eP4T7zWfZ4jo+O\n",
       "Y+3rxXWsvc9oNIq1F4tFrF1VNZ1Mo/2h6TR7LLdu34q1D9eHsfY+11e5z+ifvf/JWLuq6nuf+s1o\n",
       "f+jzT3wo2j85zl0nDg97fSZ2212sPZ1lz41/8eEfivaHZvNZtL/dbGPtt3zis7F2VdX1dhLtDy03\n",
       "/3L/RvVglHsP7vPF930g1r4TK/+T5XIZPoJvWS6yx7LdZt+XBwcH0f7QS/fuRft3796NtR977I9j\n",
       "7X1267fH2td/fxZrV1WdPtDntbh1+99H+5eXV7H2erWKtauqVstsf2i5yl6nZsFnTeNxs/vW3OPP\n",
       "mkyz3ycODvvcL6TvnZL3senzwU2zyj1jGI2DH8iq2u1yz7luGk+y58rZLPc+2DZ6Haoqep24vLzM\n",
       "xZtpdvcAAAAAAAAAAMZsAAAAAAAAABoyZgMAwP9l315+JF/M+g6/da/qnu6ZMz4+x8IH4aCYgNk4\n",
       "IUFgmSRcg2ADSFECm2wjIbHKHon/gBUbNqAsgBVICQITkjgxBIIcEaQgmaDE8Q04Z+bMTF+qq+ua\n",
       "BY5T09Sa7yvxPP/A5zfdVb/btwcAAAAAaMeYDQAAAAAAAEA7xmwAAAAAAAAA2jFmAwAAAAAAANCO\n",
       "MRsAAAAAAACAdozZAAAAAAAAALRjzAYAAAAAAACgHWM2AAAAAAAAAO0YswEAAAAAAABox5gNAAAA\n",
       "AAAAQDvGbAAAAAAAAADaMWYDAAAAAAAA0I4xGwAAAAAAAIB2jNkAAAAAAAAAtGPMBgAAAAAAAKAd\n",
       "YzYAAAAAAAAA7RizAQAAAAAAAGjHmA0AAAAAAABAO8ZsAAAAAAAAANoZP37yJH0MrxkMBtH+er2O\n",
       "tSe7Sax9ytniLNa+X9/H2lVV5+fn0f6xi4uLaH82ncXad6u7WPuU6+vrWHu338XaVVWf/b4fi/aP\n",
       "LXb7aH84yP0d2OFwiLVPuQ9eM3fb7HdiNs+dGx9KXyc2m02uvc/+XeZXhtnz0bG7yh5Lsv7B3ThY\n",
       "/6v+3m/8dqz9P//pj8TaVb2uU5NJ9tnqcAjfrwz93fr/s9vl7hmePXsWa5/y1t/9R7H21eXvx9pV\n",
       "Vbf/471o/9jlx3882j9789di7atXr2Ltql738ONJ9v5lPp/H2rPpNNY+ZTbLfS4O++y903yR+xw8\n",
       "lL6PnM9yP4v0HvJQ8jsxDZ8fku/BH3r69I1ofxu8h14ul7H2KWdnuZ0sfc0ch5+rj3nCBQAAAAAA\n",
       "AKAdYzYAAAAAAAAA7RizAQAAAAAAAGjHmA0AAAAAAABAO8ZsAAAAAAAAANoxZgMAAAAAAADQjjEb\n",
       "AAAAAAAAgHaM2QAAAAAAAAC0Y8wGAAAAAAAAoB1jNgAAAAAAAADtGLMBAAAAAAAAaMeYDQAAAAAA\n",
       "AEA7xmwAAAAAAAAA2jFmAwAAAAAAANCOMRsAAAAAAACAdozZAAAAAAAAALRjzAYAAAAAAACgHWM2\n",
       "AAAAAAAAAO0YswEAAAAAAABox5gNAAAAAAAAQDvGbAAAAAAAAADaMWYDAAAAAAAA0I4xGwAAAAAA\n",
       "AIB2jNkAAAAAAAAAtDNOH8BDm80m2t/uttF+J+ePzmPt6Xoaa1dVjUZ9/s5jPBpF+7v9LtY+OzuL\n",
       "tU95+vRprJ3+WZyf5c4HD93e3kb7d6u7WHu76XWNWi6XsfZgEEtXVf47eWw+n6cPISb8Mahx/Aj+\n",
       "v/SRJO9Wun0DDvvcb+NwOMTaVVWD9Mn5yO0ye78wnWSfZw777Gfh2Hq9jvZvbm5y7evrWPuUF+//\n",
       "y1j70cW/irWrqi4//uPR/rGbP/yzaP/Rt/1orD0a/2ysXVU1mUyi/WOPHj2K9pM/i/G41+voafA6\n",
       "sThbxNpVVRePLqL9Y+nbyMEg9y6407mpqmq7zb17it9Dh5+njp2dZ9/FJu9j97vcHnFK8h3gKLwN\n",
       "7ff7aP9Yn8UOAAAAAAAAAL7KmA0AAAAAAABAO8ZsAAAAAAAAANoxZgMAAAAAAADQjjEbAAAAAAAA\n",
       "gHaM2QAAAAAAAAC0Y8wGAAAAAAAAoB1jNgAAAAAAAADtGLMBAAAAAAAAaMeYDQAAAAAAAEA7xmwA\n",
       "AAAAAAAA2jFmAwAAAAAAANCOMRsAAAAAAACAdozZAAAAAAAAALRjzAYAAAAAAACgHWM2AAAAAAAA\n",
       "AO0YswEAAAAAAABox5gNAAAAAAAAQDvGbAAAAAAAAADaMWYDAAAAAAAA0M74+fPn6WN43SGb3263\n",
       "sfZmu4m1TxmNRrH2YrGItauqJpNJtH9su91F+7fL21j7bHEWa5+yulvF2vv9PtauqtrucufGv2IQ\n",
       "zg9yfwc2CP/bHxqPc9eJ5DWqqupwCN+wHLm+vo72N+vc/ctinj03vXOf/RweWx3G0f46eH66SD9A\n",
       "PDAY5I7n9iZ331ZVNRz2+Vvp5HNdVdWj80fRfvzB+sh0Oo32x8F7hl34Hv6hQfBmcrm8i7Wrqs7e\n",
       "/LVo/9ijb/vRaP/ms1+Otb/1h34u1q6qmv7RT0X7x+7ust+Ju1Xu/cYq2D4lea4+Pz+PtauqFot5\n",
       "tH9sGH7GTz5X34WvkQ8l76PT73o6nZ9W99ljSb73WgffM51yEzw/zObZ83T6O3msz9sGAAAAAAAA\n",
       "APgqYzYAAAAAAAAA7RizAQAAAAAAAGjHmA0AAAAAAABAO8ZsAAAAAAAAANoxZgMAAAAAAADQjjEb\n",
       "AAAAAAAAgHaM2QAAAAAAAAC0Y8wGAAAAAAAAoB1jNgAAAAAAAADtGLMBAAAAAAAAaMeYDQAAAAAA\n",
       "AEA7xmwAAAAAAAAA2jFmAwAAAAAAANCOMRsAAAAAAACAdozZAAAAAAAAALRjzAYAAAAAAACgHWM2\n",
       "AAAAAAAAAO0YswEAAAAAAABox5gNAAAAAAAAQDvGbAAAAAAAAADaGU8mk/QxvObs7Cx9CDH3q/v0\n",
       "IbxmtVrF2tvdNtauqrq5uYn2j+12u2j/+uY61n7vvfdi7VOSn4v5fB5rV1Wt79fR/rH0d2I0zP0d\n",
       "2GAwiLVPmU1nsfb9ffaaubrLXSMf+s5P/1a0vw9+Jfe77Hfi0WX2fuXYfJ39WdyvRrH29tDr3Dio\n",
       "3PEMg9eoqqrpZBrtH3vy5Em0//Zbb0X7i0bP1cnvRFXVKnjPMB6PY+1TXl1dxdrbzSbWrqq6evUq\n",
       "2j82Gv9stP+tP/RzsfazX//tWLuq6us//sfR/rGb/a9E+5///Odj7YuLi1j7lA996O1Ye7PJPk/c\n",
       "3t5G+8eG4fcdi8Ui2u9ku+3znPvX7fo69x78rzhk87NZ7p1fsn1K8uz0gTffDNZ7nQ/8z2wAAAAA\n",
       "AAAA2jFmAwAAAAAAANCOMRsAAAAAAACAdozZAAAAAAAAALRjzAYAAAAAAACgHWM2AAAAAAAAAO0Y\n",
       "swEAAAAAAABox5gNAAAAAAAAQDvGbAAAAAAAAADaMWYDAAAAAAAA0I4xGwAAAAAAAIB2jNkAAAAA\n",
       "AAAAtGPMBgAAAAAAAKAdYzYAAAAAAAAA7RizAQAAAAAAAGjHmA0AAAAAAABAO8ZsAAAAAAAAANox\n",
       "ZgMAAAAAAADQjjEbAAAAAAAAgHaM2QAAAAAAAAC0Y8wGAAAAAAAAoJ3x48vH6WN4zXwxj/Y3m02s\n",
       "fb+6j7VPmUzGsfZqtYq1q6pubm+i/WOT6STa3263sfZ+t4+1Tzk/P4+1Ly8uY+2q7Lnxoavrq2h/\n",
       "uVzG2vfrXteJzTb3ufjEZ/5NrN3NYZbtb9eDWHsY/rPMz3zyB7IH0Mkhlx4Mcp/BU5L3bk/Dz3aP\n",
       "H/d5thyGTxDb3S7a73TvtrzL3TtVVe2uc88zu32v55nk+XKzzn4mZ/PwDdORyST7jD/9o5+Ktb/+\n",
       "438ca1dV3fzhn0X7xx59+09E+2+99fOx9rzR97Eq+51cp8+Nsz6/i/V99n3HbfBdzzvvvBNrn3J9\n",
       "fR1rX11l3/lNJ9No/1j6HeDt8jba72Q+z22W6ee65W32We6Y/5kNAAAAAAAAQDvGbAAAAAAAAADa\n",
       "MWYDAAAAAAAA0I4xGwAAAAAAAIB2jNkAAAAAAAAAtGPMBgAAAAAAAKAdYzYAAAAAAAAA7RizAQAA\n",
       "AAAAAGjHmA0AAAAAAABAO8ZsAAAAAAAAANoxZgMAAAAAAADQjjEbAAAAAAAAgHaM2QAAAAAAAAC0\n",
       "Y8wGAAAAAAAAoB1jNgAAAAAAAADtGLMBAAAAAAAAaMeYDQAAAAAAAEA7xmwAAAAAAAAA2jFmAwAA\n",
       "AAAAANCOMRsAAAAAAACAdozZAAAAAAAAALRjzAYAAAAAAACgHWM2AAAAAAAAAO0YswEAAAAAAABo\n",
       "Z3w47NPH8Jrr6+to/+b6Jta+Xd7G2qcMh7m/ddjtd7F2VdWgBtH+sdl0Fu1vF9tYezwex9qnTMaT\n",
       "WPvs7CzWrsqfm49t3t9E+8mfxWaT/bc/9IlPfyrWfnWb+z5WVS0W2evUsdH4EO3/l3/8T2Lt8Sh7\n",
       "nTifTqP914RvXZLXyPliHmufMp/ljufy8jLWrqqazbP3rccW8+znYjLJXqdGwWe5h1arVbS/3/W5\n",
       "ZqeNg+fq9WYda1dVjSd9ni0fPXoU7d/d3cXaN/tfibWrqh59+09E+8du/usXo/23P/mTsfZ49Kux\n",
       "9ilXV1exdvoauWt0jUy/A5wGn+3W6+w18qHl7TLWTr/3Wt7l/u0PJX8PVdl7p07npqqqxWIRayev\n",
       "UVVV6/s+56c+T7gAAAAAAAAA8FXGbAAAAAAAAADaMWYDAAAAAAAA0I4xGwAAAAAAAIB2jNkAAAAA\n",
       "AAAAtGPMBgAAAAAAAKAdYzYAAAAAAAAA7RizAQAAAAAAAGjHmA0AAAAAAABAO8ZsAAAAAAAAANox\n",
       "ZgMAAAAAAADQjjEbAAAAAAAAgHaM2QAAAAAAAAC0Y8wGAAAAAAAAoB1jNgAAAAAAAADtGLMBAAAA\n",
       "AAAAaMeYDQAAAAAAAEA7xmwAAAAAAAAA2jFmAwAAAAAAANCOMRsAAAAAAACAdsZ3q1X6GF6z3W6j\n",
       "/fv7+1j7bnkXa58ynU5j7dFoFGtXVV0+voz2j43G2Z/FO++8E+13stlscu11rl1VVYNs/jWHbH4Q\n",
       "/GHMZrNY+5Tf++4fjLX//qc+FWtXVf3+9+b+7Q9Np5No/9E420/a7XfpQ/ia6Th331ZVdXZ+lmsv\n",
       "cu1TkvfQ54/OY+2qqvF4HO0fm06z18zhMPt344+fPIn2j11fXUX7y+A9/GDQ6Sa6ovf0k/D5YT6f\n",
       "R/vHJpPsvVPyPeDnP//5WLuq6q23fj7aP/b2J38y2r/+zJ/G2ucf++5Y+5TFk9+MtV++fBlrV1Xt\n",
       "dn2eZ1bhjeLdd9+NtdP3jQ+9fJX7XF5fX8faVfnP4bHk+8eq7Odyv9/H2qe8ePEi1p7Psvewq/s+\n",
       "34leZ0oAAAAAAAAAKGM2AAAAAAAAAA0ZswEAAAAAAABox5gNAAAAAAAAQDvGbAAAAAAAAADaMWYD\n",
       "AAAAAAAA0I4xGwAAAAAAAIB2jNkAAAAAAAAAtGPMBgAAAAAAAKAdYzYAAAAAAAAA7RizAQAAAAAA\n",
       "AGjHmA0AAAAAAABAO8ZsAAAAAAAAANoxZgMAAAAAAADQjjEbAAAAAAAAgHaM2QAAAAAAAAC0Y8wG\n",
       "AAAAAAAAoB1jNgAAAAAAAADtGLMBAAAAAAAAaMeYDQAAAAAAAEA7xmwAAAAAAAAA2hm/9cEPpo/h\n",
       "dYNBNP/+++/H2sNRr78tGFTud3GoQ6xdVTUej6P9Y0+fPo32Hz9+HGuv79ex9ik3tzex9u3tbaxd\n",
       "VTUIn5uPLRaLaH+/3/+NbJ9ydX0Va9+vs9fM/X4X7R9bLC6j/dFoFGuv7laxdlXV8nYZ7R+7G95F\n",
       "+5vNJtbe7fp8H6uqZrNZrL04y14jO5nPc7+Hqvw1e7XKnh+Pre7vo/31OvdM0ecO+i8lfxbDYfbe\n",
       "bTadRvvH0u8bkueHi4uLWLsqf204Nh79arR//rHvjrVv//i9WPuUxTd+T6z9TR/76Vi7qurls09G\n",
       "+8fuw+8Ap8HrxNVV7t3KKclrZvJepSp/jT52Gb5mXt/k3oMPB712suTnIr0ZzgfzaP9Yr08FAAAA\n",
       "AAAAAJQxGwAAAAAAAICGjNkAAAAAAAAAtGPMBgAAAAAAAKAdYzYAAAAAAAAA7RizAQAAAAAAAGjH\n",
       "mA0AAAAAAABAO8ZsAAAAAAAAANoxZgMAAAAAAADQjjEbAAAAAAAAgHaM2QAAAAAAAAC0Y8wGAAAA\n",
       "AAAAoB1jNgAAAAAAAADtGLMBAAAAAAAAaMeYDQAAAAAAAEA7xmwAAAAAAAAA2jFmAwAAAAAAANCO\n",
       "MRsAAAAAAACAdozZAAAAAAAAALRjzAYAAAAAAACgHWM2AAAAAAAAAO0YswEAAAAAAABox5gNAAAA\n",
       "AAAAQDvGbAAAAAAAAADaGc9m8/QxvGa330X7h/0h1z7k2t0s75bR/nze53txc30T7a9Wq1j7bnkX\n",
       "a5+yXOY+l3d32Z9Fp/PTZrOJ9g+V+1ns9/tY+5Tk5+JwGMTaVVX/8Hd/M9o/9gff8yPpQ4hJ3zcO\n",
       "htnP4bHhcBTtDwa5n8Vum/0cPLQ65O6dNut1rF1VNZvNov1jg2H277ZH4f52u432j92v7qP95M9i\n",
       "GP4cPLS8DT5nhy+Znc5P05vsM/4u+EzxoQ+9HWtXVU0mk2j/2NXVVbS/eJJ7nll84/fE2qfc/a+X\n",
       "ufjwZ3Ltqpp93aej/WPDQfaa+ZGPfEOs/aUvfinWPiV5/3K2OIu1q6ruVn3eRaevWcnPwWiUfb/x\n",
       "0KOLR7F2+hm/k15PVgAAAAAAAABQxmwAAAAAAAAAGjJmAwAAAAAAANCOMRsAAAAAAACAdozZAAAA\n",
       "AAAAALRjzAYAAAAAAACgHWM2AAAAAAAAAO0YswEAAAAAAABox5gNAAAAAAAAQDvGbAAAAAAAAADa\n",
       "MWYDAAAAAAAA0I4xGwAAAAAAAIB2jNkAAAAAAAAAtGPMBgAAAAAAAKAdYzYAAAAAAAAA7RizAQAA\n",
       "AAAAAGjHmA0AAAAAAABAO8ZsAAAAAAAAANoxZgMAAAAAAADQjjEbAAAAAAAAgHaM2QAAAAAAAAC0\n",
       "M3758mX6GF4znoyj/cFwEGuv1+tY+6RDML0PxqtqPM5+Do8t75bR/vZ6G2sPKvd9POV+fR9rH5Jf\n",
       "yGaS5+mq7PnhcOj1OZhMprH24zey18zf/a4fjvaP7VaraH84zP1t5GKxiLWrqmbTWbR/bDD4m3tu\n",
       "3O5y9yqnTIe5c2P6KtHpHjr9bHV+dhbt3y2zzxDHXl29ivZvbm5i7fRz7UObzSbWHo1HsXZVr9/F\n",
       "4ix7/3J+fh5rbzbZa/Z6nfsOPLQK38Mn3wd/08d+OtY+afgzsfTdn76ItauqhmffH+0fG37w7ewB\n",
       "rH4xlr64vIi1T3nvvfdi7eS9SlXVNtw/dnV9He2v73PPU8OR/4P7NeF3Pff3uT3kIZ8KAAAAAAAA\n",
       "ANoxZgMAAAAAAADQjjEbAAA07wxqAAAbW0lEQVQAAAAAgHaM2QAAAAAAAAC0Y8wGAAAAAAAAoB1j\n",
       "NgAAAAAAAADtGLMBAAAAAAAAaMeYDQAAAAAAAEA7xmwAAAAAAAAA2jFmAwAAAAAAANCOMRsAAAAA\n",
       "AACAdozZAAAAAAAAALRjzAYAAAAAAACgHWM2AAAAAAAAAO0YswEAAAAAAABox5gNAAAAAAAAQDvG\n",
       "bAAAAAAAAADaMWYDAAAAAAAA0I4xGwAAAAAAAIB2jNkAAAAAAAAAtDPebDfpY3jNdDqJ9s8Wi1j7\n",
       "4tFFrH3KerOOtcfbcaxdVXV2dhbtHzs/P4/2B4NBrD2bzWLtU66urmLtFy9exNpVVfv9Pto/Nhjm\n",
       "PpNVVbc3t7H2YX+ItU8ZjXJ/E/efP/FPYu2qquGhz3eigufpqqph8HOwWq1i7ape58bJJHsPvd1u\n",
       "Y+3RaBRrn7Ib7WLtQ/gzuVn3ebZcr3PPMlVVFb5kd3rOH4+yz3bbTe78lHymPuX8LPdsOZtnn+3m\n",
       "i3m0fyz97mcR/Fnc3uaepap6vWPY7XL3C+n+y2efjLVPmX3dp2Pt4dn3x9pVVbd/9BfR/rHZh7Pn\n",
       "h5vL92Ptbs8z9+n76KB5cBvq5tHFo1h7t81eIx+aTqax9t/k+4WH/M9sAAAAAAAAANoxZgMAAAAA\n",
       "AADQjjEbAAAAAAAAgHaM2QAAAAAAAAC0Y8wGAAAAAAAAoB1jNgAAAAAAAADtGLMBAAAAAAAAaMeY\n",
       "DQAAAAAAAEA7xmwAAAAAAAAA2jFmAwAAAAAAANCOMRsAAAAAAACAdozZAAAAAAAAALRjzAYAAAAA\n",
       "AACgHWM2AAAAAAAAAO0YswEAAAAAAABox5gNAAAAAAAAQDvGbAAAAAAAAADaMWYDAAAAAAAA0I4x\n",
       "GwAAAAAAAIB2jNkAAAAAAAAAtGPMBgAAAAAAAKAdYzYAAAAAAAAA7RizAQAAAAAAAGjHmA0AAAAA\n",
       "AABAO+P5fJ4+htfMF4to//7+PtYejnr9bcFgk2uPwj+L6XQa7R9bhL8Td3d3ufjhkGufMBzkPpej\n",
       "0SjWrqoaDbP918yy+cM+97ncbrexdjfJ30NV1XDY65qdNJlOYu39fh9rV+U/h8cOlT2WzSZ347jd\n",
       "9To3Dje588Pd3SrWrqrwp/B1g+Eg2p/Pss/Z6XPCsZvbm2h/vV7H2rv9LtY+JXndjF+zGz1bDrKn\n",
       "pxoGny2H4X/8OvjO76HxeBztr1a5e4b7+9x5+ZTku57hB9+OtauqZh++jfaP3X85e7/w9kdzv4sv\n",
       "fuELsfYpq+AzxfJuGWtXVc1m4ZeOR2bT7LFc31zH2q3eQ1fV2flZrH27zJ6nN+vgSPiAN7EAAAAA\n",
       "AAAAtGPMBgAAAAAAAKAdYzYAAAAAAAAA7RizAQAAAAAAAGjHmA0AAAAAAABAO8ZsAAAAAAAAANox\n",
       "ZgMAAAAAAADQjjEbAAAAAAAAgHaM2QAAAAAAAAC0Y8wGAAAAAAAAoB1jNgAAAAAAAADtGLMBAAAA\n",
       "AAAAaMeYDQAAAAAAAEA7xmwAAAAAAAAA2jFmAwAAAAAAANCOMRsAAAAAAACAdozZAAAAAAAAALRj\n",
       "zAYAAAAAAACgHWM2AAAAAAAAAO0YswEAAAAAAABox5gNAAAAAAAAQDvj8WiUPobX3NzcRPt//ud/\n",
       "EWsfDodY+5T9fh9rr1arWLuq6uLyMto/dvXqKtq/X9/H2svbZax9yvPnz2Pt5O+hqmo+n0f7xwaD\n",
       "QbY/zPWn02msfcp2u00fQsxkOkkfwtd0+1z8ddpsNtH+3fIu2j/26upVtL/b7mLt4bDX3+cmz43p\n",
       "Z6n1Zh3tHzs/O4/2N8Ps+Wk8GUf7x8aj7LG88fSNWDt93/rQ/Sr3TLFeZ88P81mn55nsdev6+jrW\n",
       "XiwWsXZV1e2yzzuG9D38u+++G2un/+0PfeQj35CLr34x166qm8v3o/1jb3/07Wj//f/4rbH2yw/8\n",
       "Uqx9ynic24vefuutWPsv9bl3S99HJvPr8Lueh0bBDTX93mu+6HMP3evNDwAAAAAAAACUMRsAAAAA\n",
       "AACAhozZAAAAAAAAALRjzAYAAAAAAACgHWM2AAAAAAAAAO0YswEAAAAAAABox5gNAAAAAAAAQDvG\n",
       "bAAAAAAAAADaMWYDAAAAAAAA0I4xGwAAAAAAAIB2jNkAAAAAAAAAtGPMBgAAAAAAAKAdYzYAAAAA\n",
       "AAAA7RizAQAAAAAAAGjHmA0AAAAAAABAO8ZsAAAAAAAAANoxZgMAAAAAAADQjjEbAAAAAAAAgHaM\n",
       "2QAAAAAAAAC0Y8wGAAAAAAAAoB1jNgAAAAAAAADtjHf7ffoYXnN5eRntHz58iLVvb29j7VOWy2Ws\n",
       "/cbTN2LtqqrRcBTtH3t08Sja373axdqHZuenpx94Gmvfr+5j7aqqx08eR/vHtttttr/J9Zd3ufPy\n",
       "Kdtd7mdxc3sTa1dVjcfjaP/Ybpc7T1dVVe7WKfp9rKraN7pOzWazaP9uv4q1B4NBrH3KfDaPtWfz\n",
       "7OdgMp5E+8eub66j/fSz3XDY53txG3yurMqeI0ajPs+VVVX7Xe66td6sY+2qXteKySR7rrxb3kX7\n",
       "Se+88076EL5mvc5+J4bD3P9vurq6irVP+dIXvxRrX1xexNpVva5TX/zCF6L9lx/4pVj7w8//eax9\n",
       "ykc/8dlY+3c+85lYu6rq7Pw82j/27NmzaH8TfP+avGc9Jfne7UMf+lCsXVV1c519/3rM/8wGAAAA\n",
       "AAAAoB1jNgAAAAAAAADtGLMBAAAAAAAAaMeYDQAAAAAAAEA7xmwAAAAAAAAA2jFmAwAAAAAAANCO\n",
       "MRsAAAAAAACAdozZAAAAAAAAALRjzAYAAAAAAACgHWM2AAAAAAAAAO0YswEAAAAAAABox5gNAAAA\n",
       "AAAAQDvGbAAAAAAAAADaMWYDAAAAAAAA0I4xGwAAAAAAAIB2jNkAAAAAAAAAtGPMBgAAAAAAAKAd\n",
       "YzYAAAAAAAAA7RizAQAAAAAAAGjHmA0AAAAAAABAO8ZsAAAAAAAAANoxZgMAAAAAAADQjjEbAAAA\n",
       "AAAAgHbGT58+TR/Da548eRLtX15extrb7TbWPuXZe89i7f1+H2tXVT1//jzaPzZZTaL96WQaa6/u\n",
       "V7H2KYPBIBjPpauqlstl9gCOHPaHbL9y/ehn8IThMPc3cfPZPNauqjo7O4v2jw1H2b9NTJ4fNttN\n",
       "rF2VPR88tNlkfxbf8R9+PdY+9Pk1VFXVH3zvD8fa6/U61q7q9TwzneXuYTv0B+mbxyODwV22H/xZ\n",
       "TCbZZ7mHtpX7jk4q+7OYzWbR/rH0uTLZT//br6+vo/1jy9vsM/bLVy9j7dk0e418KPlc+95778Xa\n",
       "VVX34XvHY6u77DvA8XgUa3/0E5+NtU9Z/t63xdrf8rFPxdpVVZ/73J9E+8fOz86j/U7XzLTddhdr\n",
       "7w/ZnWx512cT8D+zAQAAAAAAAGjHmA0AAAAAAABAO8ZsAAAAAAAAANoxZgMAAAAAAADQjjEbAAAA\n",
       "AAAAgHaM2QAAAAAAAAC0Y8wGAAAAAAAAoB1jNgAAAAAAAADtGLMBAAAAAAAAaMeYDQAAAAAAAEA7\n",
       "xmwAAAAAAAAA2jFmAwAAAAAAANCOMRsAAAAAAACAdozZAAAAAAAAALRjzAYAAAAAAACgHWM2AAAA\n",
       "AAAAAO0YswEAAAAAAABox5gNAAAAAAAAQDvGbAAAAAAAAADaMWYDAAAAAAAA0I4xGwAAAAAAAIB2\n",
       "xqvVKn0Mr3nx4kW0v9vtYu3pdBprn7JYzGPtL3/lK7F2VdWLl9nP4bH7+/tofzAYxNr7/T7WPmV/\n",
       "yB3P/Sr7ORiO+vzt08XFRbS/2Wxi7cP+EGufMhqOYu35PHeNqqqazvpcs0ej3O+hqmq72cbad8u7\n",
       "WLuqan2/jvaP7W+uo/3RJHd+2m1z9yqn/IN/929j7f/+wz8aa1flz0fH0seSvo/tdM8wHo+j/fPz\n",
       "81h7MpnE2qes7nLvfwbD7Lm60/uW6SR7LOnzY9LV1VX6EL4m+VxZVXV9nbt3XK/73ENXVZ0tzmLt\n",
       "9Oegk+XdMtp/+623Yu3f+cxnYu1TvuVjn4q153/yA7F2VdXlxS9E+8eeP38/2v/mb/7mWPu9d9+N\n",
       "tU959Cj3PLHZ5t65VVU9efwk2j/WZ50AAAAAAAAAgK8yZgMAAAAAAADQjjEbAAAAAAAAgHaM2QAA\n",
       "AAAAAAC0Y8wGAAAAAAAAoB1jNgAAAAAAAADtGLMBAAAAAAAAaMeYDQAAAAAAAEA7xmwAAAAAAAAA\n",
       "2jFmAwAAAAAAANCOMRsAAAAAAACAdozZAAAAAAAAALRjzAYAAAAAAACgHWM2AAAAAAAAAO0YswEA\n",
       "AAAAAABox5gNAAAAAAAAQDvGbAAAAAAAAADaMWYDAAAAAAAA0I4xGwAAAAAAAIB2jNkAAAAAAAAA\n",
       "tGPMBgAAAAAAAKCd8WjYa8+ezWbR/m67jbXv1+tY+5Tnz5+nDyHmzTffTB/C1zx69Cja32w2sfZy\n",
       "uYy1TzkcDrn2Pteuqrq8vIz2j80X82h/MBjE2unPwUPT6TTWTp8f5vPs5/BY+jvxxpM3Yu3ZPHvf\n",
       "+PLly2j/2O1kHO3/p+/8wVj723/rt2LtU4bD3Lk6fW78rt/9jWj/2Ge/78ei/Rfvv4j209eGY4v5\n",
       "ItqfTXPXivmsz++hqur8/DzWTj5LVWU/Bw+lfxar1SrWvr6+jrWrqqaT3PPLQ8u77DU7+TkYj7P3\n",
       "rQ/dre5i7W3wnVtV1XyRvUYfS28CVbl3PWfB6/Mpn/vcn8Talxe/EGtXVf2tm38R7R+bffiXo/3b\n",
       "29tYe3F2FmufMgm+/7x8/DjWrqq6ubmJ9o/1WrIBAAAAAAAAoIzZAAAAAAAAADRkzAYAAAAAAACg\n",
       "HWM2AAAAAAAAAO0YswEAAAAAAABox5gNAAAAAAAAQDvGbAAAAAAAAADaMWYDAAAAAAAA0I4xGwAA\n",
       "AAAAAIB2jNkAAAAAAAAAtGPMBgAAAAAAAKAdYzYAAAAAAAAA7RizAQAAAAAAAGjHmA0AAAAAAABA\n",
       "O8ZsAAAAAAAAANoxZgMAAAAAAADQjjEbAAAAAAAAgHaM2QAAAAAAAAC0Y8wGAAAAAAAAoB1jNgAA\n",
       "AAAAAADtGLMBAAAAAAAAaMeYDQAAAAAAAEA7xmwAAAAAAAAA2hnv9vv0MbzmcDhE+6+urmLt9L/9\n",
       "of0+dzybzSbWrqo6OzuL9o8NBoNof7vdxtqTySTWPuVskftcjMfjWLuq6gMf+EC0fyz9/by5uYm1\n",
       "k9/HU6bTaax9v76Ptauqtrs+v4t9+F7u5YuXsfZXvvyVWLsqez546G9/7r9F+3/nf78baz/bZK+R\n",
       "Dw2Ct/Tf8e8/lYtX1b7Rrdt4lP1czOazaP/87DzaPzYcZv+GPnkfvdlmn2sfWt+vY+3hKPs5ePr0\n",
       "jWj/2Nl59vu5ul/l4uHXXulniGPL22W0P6jcu6bLi4tY+5Tku6er6+tYu5vZNHvvlHz/+uzZs1j7\n",
       "lOR95PPn78faVVWzD/9ytH/s6579s2j//zz+17F2t53szTffjLWXy+z9wq7Ru2j/MxsAAAAAAACA\n",
       "dozZAAAAAAAAALRjzAYAAAAAAACgHWM2AAAAAAAAAO0YswEAAAAAAABox5gNAAAAAAAAQDvGbAAA\n",
       "AAAAAADaMWYDAAAAAAAA0I4xGwAAAAAAAIB2jNkAAAAAAAAAtGPM5v+2b/86jt1lGIC/sT1je3Z2\n",
       "ZzeslBRIbJdAgSiIRJU0EVIEl8DlcQkJEmglKioo0lBQBRqKsKvdmfHY4/8UFJxdXPN+Up7nBt5j\n",
       "n3N+/14bAAAAAAAAoB1lNgAAAAAAAADtKLMBAAAAAAAAaEeZDQAAAAAAAEA7ymwAAAAAAAAA2lFm\n",
       "AwAAAAAAANCOMhsAAAAAAACAdpTZAAAAAAAAALSjzAYAAAAAAACgHWU2AAAAAAAAAO0oswEAAAAA\n",
       "AABoZ/L2zdv0NbxjtVpF888n57nwYy76pLNc9MV58D5U1X6/j+YPTafTaP7xmHswb29vY9mnvH79\n",
       "OpZ9DA8QN29vovlD+132/Vxv1tH8TjbB7+J4OMSyq6rOL7Jj89BkMonmP37yOJb95PpJLLuq13rh\n",
       "2598Gs0//Dj3Tu62u1j2Kb/44x9i2X/+4stYdlXVbt/nXnx0Oc9eQHhvdx7eTw2NRsGNZVWNJ+NY\n",
       "dnqOft96nVu7pZ/JXaM5e3F3F81P7vHT5xv3y/to/tDkPDs+jEa5/zfdLRax7FOS38VmvYllV1Vd\n",
       "Pb6K5g/dLbJj41lwubLd9VlDV1XdBeepTz75JJZdVXV/32ee+Mf1b6P5P7r5TSz77sXXsexTlstl\n",
       "LHu33cayq6qunz6N5g/5ZzYAAAAAAAAA7SizAQAAAAAAAGhHmQ0AAAAAAABAO8psAAAAAAAAANpR\n",
       "ZgMAAAAAAADQjjIbAAAAAAAAgHaU2QAAAAAAAAC0o8wGAAAAAAAAoB1lNgAAAAAAAADtKLMBAAAA\n",
       "AAAAaEeZDQAAAAAAAEA7ymwAAAAAAAAA2lFmAwAAAAAAANCOMhsAAAAAAACAdpTZAAAAAAAAALSj\n",
       "zAYAAAAAAACgHWU2AAAAAAAAAO0oswEAAAAAAABoR5kNAAAAAAAAQDvKbAAAAAAAAADaUWYDAAAA\n",
       "AAAA0M7k6bOn6Wt4x3azieY/++BZLPvh4SGWfcr9/SKWvTnGoquqajzq8zuPw+EQzV+v17Hs9Gd/\n",
       "3/6wj2Uv7nLvY1XVcrmM5g+dnZ1F80fj3Phw2Pd6J0ajcSx7u93Fsquq1uH1ytBqtYrmb4LfxWad\n",
       "vQ8X04to/tB4knsfq7L34tOXX8eyTzkcc/NUeo784T+/jeYPbT/8MJo/n82j+YdjnzXDZBweK4N7\n",
       "y4vzPvNEVdXl89xzeThmN/md9jOHfW5fWVW12Wxj2dPpNJbdzT78HCTPW0Znfc7cqqrG49w6Onm+\n",
       "UFW132Wfw6Fx8HyhqmqzzY2N3c56kv713XfR/PnlZTR/6BheO929yO2zH//9V7HsU44vvoplp88f\n",
       "7xfZTmKo1+oBAAAAAAAAAEqZDQAAAAAAAEBDymwAAAAAAAAA2lFmAwAAAAAAANCOMhsAAAAAAACA\n",
       "dpTZAAAAAAAAALSjzAYAAAAAAACgHWU2AAAAAAAAAO0oswEAAAAAAABoR5kNAAAAAAAAQDvKbAAA\n",
       "AAAAAADaUWYDAAAAAAAA0I4yGwAAAAAAAIB2lNkAAAAAAAAAtKPMBgAAAAAAAKAdZTYAAAAAAAAA\n",
       "7SizAQAAAAAAAGhHmQ0AAAAAAABAO8psAAAAAAAAANpRZgMAAAAAAADQjjIbAAAAAAAAgHaU2QAA\n",
       "AAAAAAC0o8wGAAAAAAAAoJ3Jo0eP0tfwjv1sFs1frVax7PGo128LxpNJLHs6m8ayq6qmFxfR/KHJ\n",
       "OHcfqqqm09y9mIzHsexTdvt9LHuz3sSyq6qeffAsmj90dXUVzd9sc/die9zGsk86y0VPp9lxejrN\n",
       "rleGjnWM5o9WufXL+fI8ll2VHQ/ed3tzG83/9OXvY9n36+xa6X3bY+6d+PnL38Wyq6qOh2j8O/76\n",
       "8U+j+Rfh/cTFqM9+Zr1eR/OnF7n9zG63i2Wfslwuc+HBdWNV1eXlZfYCBtLXsri7i2WHH4Oahc8c\n",
       "h+bzeTT/zZs3sexJ8LzxlKvH2TOGpIvzPuuFy0fZsXEcPIPcB88bT9nvctdzdZXtqs4bdQLPnz+P\n",
       "5ifXjccXX8WyT3ny91/Hsmcfv4xlV1W9fvUqmj/Uqz0FAAAAAAAAgFJmAwAAAAAAANCQMhsAAAAA\n",
       "AACAdpTZAAAAAAAAALSjzAYAAAAAAACgHWU2AAAAAAAAAO0oswEAAAAAAABoR5kNAAAAAAAAQDvK\n",
       "bAAAAAAAAADaUWYDAAAAAAAA0I4yGwAAAAAAAIB2lNkAAAAAAAAAtKPMBgAAAAAAAKAdZTYAAAAA\n",
       "AAAA7SizAQAAAAAAAGhHmQ0AAAAAAABAO8psAAAAAAAAANpRZgMAAAAAAADQjjIbAAAAAAAAgHaU\n",
       "2QAAAAAAAAC0o8wGAAAAAAAAoJ3JYb9PX8O7jtn4D549i2WHP/r/uF8uY9n7Xfa5XC5X0fyh1cND\n",
       "NP/tm7ex7PVmHcs+ZTTK/f5nt9/Fsquq9o3mitVD9v1MfhfHwyGWfcpum3suF/f3seyqqsUimz+0\n",
       "3W2j+euH3Fh9c3sTy66q2u2yY/PQeDKO5j+sc/nfnZ3Fsk+ZBrOvttnv4mLeZ54anWV/t308ZHd3\n",
       "x2Of3eVsNovmz+fzWPb19ZNY9imH4HOxDJ4vVFVNLy6i+UPjcXbOngbfyR88fx7LrqrabrPr5qHb\n",
       "29to/myaew5G417/rdpuNrnw8Dq201nP/TK7x06ODx999FEs+5TDMbem34b32E+ur6P5Q+m10y74\n",
       "TqyT4/IJs49fxrIv/vZFLLuq6rPPv4nmD/VaPQAAAAAAAABAKbMBAAAAAAAAaEiZDQAAAAAAAEA7\n",
       "ymwAAAAAAAAA2lFmAwAAAAAAANCOMhsAAAAAAACAdpTZAAAAAAAAALSjzAYAAAAAAACgHWU2AAAA\n",
       "AAAAAO0oswEAAAAAAABoR5kNAAAAAAAAQDvKbAAAAAAAAADaUWYDAAAAAAAA0I4yGwAAAAAAAIB2\n",
       "lNkAAAAAAAAAtKPMBgAAAAAAAKAdZTYAAAAAAAAA7SizAQAAAAAAAGhHmQ0AAAAAAABAO8psAAAA\n",
       "AAAAANpRZgMAAAAAAADQzuRwPKav4R2js2y/vlytYtnn5+ex7FM2m00se71Zx7KrqqbTaTR/6O7u\n",
       "Lpp/rNwYMb3ocx+qqo7B8fIslvwfNzc34Sv4r+1mG82fzWex7MPhEMs+ZbvL3YvxeBzLrqrarHNz\n",
       "5Pt2u100fzKZxLLn83ksu6pqcbeI5r8jvKS/ugo+h4vcM3jKfJb7Lv7yyy9j2VVVx0OfveXzWW6+\n",
       "7qDTPLXdZtdu3+d56n3d1pL/T5NG5y3p+5BcR6fXrcv7ZTR/KD1OP6wfYtmzs+/3HD20XmfPP/f7\n",
       "fTR/6Pt81tNqX1lVy1VurHx6/TSWXVW1WPS5F/vwnHn9NHcv7hvdh6qq169exbI/+/ybWHZV1d2f\n",
       "fhbNH/LPbAAAAAAAAADaUWYDAAAAAAAA0I4yGwAAAAAAAIB2lNkAAAAAAAAAtKPMBgAAAAAAAKAd\n",
       "ZTYAAAAAAAAA7SizAQAAAAAAAGhHmQ0AAAAAAABAO8psAAAAAAAAANpRZgMAAAAAAADQjjIbAAAA\n",
       "AAAAgHaU2QAAAAAAAAC0o8wGAAAAAAAAoB1lNgAAAAAAAADtKLMBAAAAAAAAaEeZDQAAAAAAAEA7\n",
       "ymwAAAAAAAAA2lFmAwAAAAAAANCOMhsAAAAAAACAdpTZAAAAAAAAALSjzAYAAAAAAACgHWU2AAAA\n",
       "AAAAAO0oswEAAAAAAABo598fXPxvgS+c1AAAAABJRU5ErkJggg==\n",
       "\" transform=\"translate(142, 123)\"/>\n",
       "</g>\n",
       "<defs>\n",
       "  <clipPath id=\"clip663\">\n",
       "    <rect x=\"2160\" y=\"123\" width=\"73\" height=\"1364\"/>\n",
       "  </clipPath>\n",
       "</defs>\n",
       "<g clip-path=\"url(#clip663)\">\n",
       "<image width=\"72\" height=\"1363\" xlink:href=\"data:image/png;base64,\n",
       "iVBORw0KGgoAAAANSUhEUgAAAEgAAAVTCAYAAABuxG64AAAL7ElEQVR4nO3dwbHjVBRFUcl9oVOA\n",
       "pAmFiIiC6qn1iIC7h/ZgrQh+7TolW0+2//3P33+ei//1+vQf8O0ECgIFgYJAYSTayRMECgIFgcLc\n",
       "9/3pv+GrWVAQKAgUBApzuUavLCgIFAQKAgWBwtw/NNqoEwQKAgWBgluNYEFBoCBQECg4tA8WFAQK\n",
       "AgWBgkDBrUawoCBQECgIFOb+4Sq9saAgUBAoCBTmch60sqAgUBAoCBQECuNFbGdBQaAgUBAozPVy\n",
       "ld5YUBAoCBQECnO7SK8sKAgUBAoCBYGCpxrBgoJAQaAgUPAjb0GeIFAQKAgUfF8sWFAQKAgUBAoC\n",
       "hbl8FWFlQUGgIFAQKLjVCBYUBAoCBYGCX14IFhQECgIFgYJAwVcRggUFgYJAQaDgqwjBgoJAQaAg\n",
       "UPBJ+2BBQaAgUBAoCBTcagQLCgIFgYJAwaPnYEFBoCBQECjM5T/1rtQJAgWBgkBBoOCrCMGCgkBB\n",
       "oCBQcB4ULCgIFAQKAgWftA8WFAQKAgWBgkBhbk81VuoEgYJAQaDgqwjBgoJAQaAgUHCRDhYUBAoC\n",
       "BYGCQMFTjWBBQaAgUBAozP3SaKNOECgIFAQK3kkHCwoCBYGCQEGg4KlGsKAgUBAoCBTmch60UicI\n",
       "FAQKAgUX6aBOECgIFAQKLtJBnSBQECgIFAQKc90abdQJAgWBgkDBhziDOkGgIFAQKMz1+u3Tf8NX\n",
       "s6AgUBAoCBQECnO9fnz6b/hqFhQECgIFgcLct4v0xoKCQEGgIFCYy0V6ZUFBoCBQECgIFOb1+v3T\n",
       "f8NXs6AgUBAoCBScBwULCgIFgYJAwUU6WFAQKAgUBAoChXn5vthKnSBQECgIFOblqwgrCwoCBYGC\n",
       "QMF5ULCgIFAQKAgUBArOg4I6QaAgUBAozO0ivVInCBQECgKF+9evf8+n/4hvZkFBoCBQECgIFOYc\n",
       "L2IbCwoCBYGCQMFFOlhQECgIFAQK87yfT/8NX82CgkBBoCBQECi41QgWFAQKAgWBwjwu0isLCgIF\n",
       "gYJAwTvpYEFBoCBQECgIFOZ5PNXYWFAQKAgUBApuNYIFBYGCQEGg4CIdLCgIFAQKAgWBglexYEFB\n",
       "oCBQECg4tA8WFAQKAgWBgnfSwYKCQEGgIFAQKHgVCxYUBAoCBYHCnOM8aGNBQaAgUBAoOLQPFhQE\n",
       "CgIFgYJAwXlQsKAgUBAoCBRcpIMFBYGCQEGg4CIdLCgIFAQKAgWBgqcawYKCQEGgIFBwqxEsKAgU\n",
       "BAoCBRfpYEFBoCBQECi4SAcLCgIFgYJAQaDg0D5YUBAoCBQECm41ggUFgYJAQaDgIh0sKAgUBAoC\n",
       "BYGCV7FgQUGgIFAQKDi0DxYUBAoCBYGCd9LBgoJAQaAgUBAojBexnQUFgYJAQaDgViNYUBAoCBQE\n",
       "Cg7tgwUFgYJAQaAgUHCrESwoCBQECgIFF+lgQUGgIFAQKLhIBwsKAgWBgkBBoOCpRrCgIFAQKAgU\n",
       "3GoECwoCBYGCQMFFOlhQECgIFAQKAgWvYsGCgkBBoCBQcGgfLCgIFAQKAoW5vJNeWVAQKAgUBAoC\n",
       "BedBwYKCQEGgIFBwkQ4WFAQKAgWBgkP7YEFBoCBQECgIFMaNxs6CgkBBoCBQcB4ULCgIFAQKAgUX\n",
       "6WBBQaAgUBAoCBQ81QgWFAQKAgWBgluNYEFBoCBQECi4SAcLCgIFgYJAQaDgVSxYUBAoCBQECnMc\n",
       "2q8sKAgUBAoCBe+kgwUFgYJAQaAgUBgvYjsLCgIFgYJAYZ7jPGhjQUGgIFAQKDgPChYUBAoCBYGC\n",
       "QMGrWLCgIFAQKAgUXKSDBQWBgkBBoOBDnMGCgkBBoCBQ8E46WFAQKAgUBAoCBR/iDBYUBAoCBYHC\n",
       "nMtVemNBQaAgUBAo+LnkYEFBoCBQECgIFDzVCBYUBAoCBYGCi3SwoCBQECgIFFykgwUFgYJAQaAg\n",
       "UJjzeBXbWFAQKAgUBAo+HxQsKAgUBAoCBedBwYKCQEGgIFAQKHgVCxYUBAoCBYGCryIECwoCBYGC\n",
       "QGEu76RXFhQECgIFgYJAwe8HBQsKAgWBgkDBoX2woCBQECgIFPyn3mBBQaAgUBAoCBTcagQLCgIF\n",
       "gYJAwUU6WFAQKAgUBAo+HxQsKAgUBAoCBYHCPF7FVhYUBAoCBYGC86BgQUGgIFAQKLhIBwsKAgWB\n",
       "gkBBoOBVLFhQECgIFAQKfvQ/WFAQKAgUBAp+9D9YUBAoCBQECgIF50HBgoJAQaAgUHCRDhYUBAoC\n",
       "BYGCQ/tgQUGgIFAQKAgU3GoECwoCBYGCQMGj52BBQaAgUBAoeCcdLCgIFAQKAgWBwhz/ynhlQUGg\n",
       "IFAQKPgnkMGCgkBBoCBQcB4ULCgIFAQKAgWBgkfPwYKCQEGgIFCYx6H9yoKCQEGgIFAYb6R3FhQE\n",
       "CgIFgYJD+2BBQaAgUBAoCBQc2gcLCgIFgYJAwaF9sKAgUBAoCBQc2gcLCgIFgYJAQaDgqUawoCBQ\n",
       "ECgIFBzaBwsKAgWBgkDBoX2woCBQECgIFAQKnmoECwoCBYGCQMGhfbCgIFAQKAgU5jnOgzYWFAQK\n",
       "AgWBgkBhLrcaKwsKAgWBgkDBj/4HCwoCBYGCQMGhfbCgIFAQKAgUBAqeagQLCgIFgYJAwYc4gwUF\n",
       "gYJAQaDgPChYUBAoCBQECgIFP00RLCgIFAQKAgU/TREsKAgUBAoCBYf2wYKCQEGgIFAQKHiqESwo\n",
       "CBQECgIFh/bBgoJAQaAgUJjzuEhvLCgIFAQKAgWBgvOgYEFBoCBQECg4DwoWFAQKAgWBgnfSwYKC\n",
       "QEGgIFAQKHiqESwoCBQECgIFtxrBgoJAQaAgUHBoHywoCBQECgIFgYJbjWBBQaAgUBAoOLQPFhQE\n",
       "CgIFgYLzoGBBQaAgUBAoCBScBwULCgIFgYJAwU+VBgsKAgWBgkDBf+oNFhQECgIFgYJAwXlQsKAg\n",
       "UBAoCBScBwULCgIFgYJAwTvpYEFBoCBQECg4tA8WFAQKAgWBgkDBeVCwoCBQECgIFJwHBQsKAgWB\n",
       "gkDBl3qDBQWBgkBBoCBQ8PtBwYKCQEGgIFBwHhQsKAgUBAoCBedBwYKCQEGgIFAQKLjVCBYUBAoC\n",
       "BYGCQ/tgQUGgIFAQKDgPChYUBAoCBYGCQMF5ULCgIFAQKAgUfKk3WFAQKAgUBAp+PyhYUBAoCBQE\n",
       "CgIF50HBgoJAQaAgUHAeFCwoCBQECgIF76SDBQWBgkBBoCBQmMer2MqCgkBBoCBQmMtFemVBQaAg\n",
       "UBAoOA8KFhQECgIFgYJAwbeegwUFgYJAQaBw//XHT1fphQUFgYJAQaAwvi62s6AgUBAoCBQECnPO\n",
       "/em/4atZUBAoCBQECnPen/4TvpsFBYGCQEGg4J10sKAgUBAoCBQECp5qBAsKAgWBgkBhfBNhZ0FB\n",
       "oCBQECjM83YetLGgIFAQKAgUBAqeagQLCgIFgYJAwaF9sKAgUBAoCBS8kw4WFAQKAgWBgkBh3l7F\n",
       "VhYUBAoCBYGCzwcFCwoCBYGCQGFco3cWFAQKAgWBgkBhnst50MaCgkBBoCBQmMe9xsqCgkBBoCBQ\n",
       "GJ/h3FlQECgIFAQK49MvOwsKAgWBgkBBoDDHof3KgoJAQaAgUBi/+b+zoCBQECgIFHyIM1hQECgI\n",
       "FAQKAgWPnoMFBYGCQEGg4FYjWFAQKAgUBArzvl2mNxYUBAoCBYGCQMGtRrCgIFAQKAgUHNoHCwoC\n",
       "BYGCQME76WBBQaAgUBAoCBTmfXkd21hQECgIFAQKbjWCBQWBgkBBoODQPlhQECgIFAQKAgW/ghcs\n",
       "KAgUBAoCBYf2wYKCQEGgIFBwaB8sKAgUBAoCBYGCV7FgQUGgIFAQKMzjPGhlQUGgIFAQKPh8ULCg\n",
       "IFAQKAgUBApuNYIFBYGCQEGg4NA+WFAQKAgUBArOg4IFBYGCQEGgIFCY57jZ2FhQECgIFAQKbjWC\n",
       "BQWBgkBBoDDHk9WVBQWBgkBBoCBQ8Og5WFAQKAgUBAp+PyhYUBAoCBQECt5JBwsKAgWBgkBBoOD7\n",
       "YsGCgkBBoCBQcKsRLCgIFAQKAoV5+6T9yoKCQEGgIFAQKLjVCBYUBAoCBYGCi3SwoCBQECgIFHyp\n",
       "N1hQECgIFAQK/wG4UPU82fkSZwAAAABJRU5ErkJggg==\n",
       "\" transform=\"translate(2161, 123)\"/>\n",
       "</g>\n",
       "<path clip-path=\"url(#clip660)\" d=\"M2268.76 1455 L2298.43 1455 L2298.43 1458.93 L2268.76 1458.93 L2268.76 1455 Z\" fill=\"#000000\" fill-rule=\"evenodd\" fill-opacity=\"1\" /><path clip-path=\"url(#clip660)\" d=\"M2318.52 1440.34 Q2314.91 1440.34 2313.08 1443.91 Q2311.28 1447.45 2311.28 1454.58 Q2311.28 1461.69 2313.08 1465.25 Q2314.91 1468.79 2318.52 1468.79 Q2322.16 1468.79 2323.96 1465.25 Q2325.79 1461.69 2325.79 1454.58 Q2325.79 1447.45 2323.96 1443.91 Q2322.16 1440.34 2318.52 1440.34 M2318.52 1436.64 Q2324.33 1436.64 2327.39 1441.25 Q2330.47 1445.83 2330.47 1454.58 Q2330.47 1463.31 2327.39 1467.91 Q2324.33 1472.5 2318.52 1472.5 Q2312.71 1472.5 2309.64 1467.91 Q2306.58 1463.31 2306.58 1454.58 Q2306.58 1445.83 2309.64 1441.25 Q2312.71 1436.64 2318.52 1436.64 Z\" fill=\"#000000\" fill-rule=\"evenodd\" fill-opacity=\"1\" /><path clip-path=\"url(#clip660)\" d=\"M2338.69 1465.94 L2343.57 1465.94 L2343.57 1471.82 L2338.69 1471.82 L2338.69 1465.94 Z\" fill=\"#000000\" fill-rule=\"evenodd\" fill-opacity=\"1\" /><path clip-path=\"url(#clip660)\" d=\"M2353.8 1437.26 L2372.16 1437.26 L2372.16 1441.2 L2358.08 1441.2 L2358.08 1449.67 Q2359.1 1449.32 2360.12 1449.16 Q2361.14 1448.98 2362.16 1448.98 Q2367.95 1448.98 2371.32 1452.15 Q2374.7 1455.32 2374.7 1460.74 Q2374.7 1466.31 2371.23 1469.42 Q2367.76 1472.5 2361.44 1472.5 Q2359.26 1472.5 2357 1472.12 Q2354.75 1471.75 2352.34 1471.01 L2352.34 1466.31 Q2354.43 1467.45 2356.65 1468 Q2358.87 1468.56 2361.35 1468.56 Q2365.35 1468.56 2367.69 1466.45 Q2370.03 1464.35 2370.03 1460.74 Q2370.03 1457.12 2367.69 1455.02 Q2365.35 1452.91 2361.35 1452.91 Q2359.47 1452.91 2357.6 1453.33 Q2355.75 1453.75 2353.8 1454.62 L2353.8 1437.26 Z\" fill=\"#000000\" fill-rule=\"evenodd\" fill-opacity=\"1\" /><path clip-path=\"url(#clip660)\" d=\"M2393.92 1440.34 Q2390.31 1440.34 2388.48 1443.91 Q2386.67 1447.45 2386.67 1454.58 Q2386.67 1461.69 2388.48 1465.25 Q2390.31 1468.79 2393.92 1468.79 Q2397.55 1468.79 2399.36 1465.25 Q2401.19 1461.69 2401.19 1454.58 Q2401.19 1447.45 2399.36 1443.91 Q2397.55 1440.34 2393.92 1440.34 M2393.92 1436.64 Q2399.73 1436.64 2402.78 1441.25 Q2405.86 1445.83 2405.86 1454.58 Q2405.86 1463.31 2402.78 1467.91 Q2399.73 1472.5 2393.92 1472.5 Q2388.11 1472.5 2385.03 1467.91 Q2381.97 1463.31 2381.97 1454.58 Q2381.97 1445.83 2385.03 1441.25 Q2388.11 1436.64 2393.92 1436.64 Z\" fill=\"#000000\" fill-rule=\"evenodd\" fill-opacity=\"1\" /><path clip-path=\"url(#clip660)\" d=\"M2268.76 1232.55 L2298.43 1232.55 L2298.43 1236.48 L2268.76 1236.48 L2268.76 1232.55 Z\" fill=\"#000000\" fill-rule=\"evenodd\" fill-opacity=\"1\" /><path clip-path=\"url(#clip660)\" d=\"M2318.52 1217.89 Q2314.91 1217.89 2313.08 1221.46 Q2311.28 1225 2311.28 1232.13 Q2311.28 1239.23 2313.08 1242.8 Q2314.91 1246.34 2318.52 1246.34 Q2322.16 1246.34 2323.96 1242.8 Q2325.79 1239.23 2325.79 1232.13 Q2325.79 1225 2323.96 1221.46 Q2322.16 1217.89 2318.52 1217.89 M2318.52 1214.19 Q2324.33 1214.19 2327.39 1218.8 Q2330.47 1223.38 2330.47 1232.13 Q2330.47 1240.86 2327.39 1245.46 Q2324.33 1250.05 2318.52 1250.05 Q2312.71 1250.05 2309.64 1245.46 Q2306.58 1240.86 2306.58 1232.13 Q2306.58 1223.38 2309.64 1218.8 Q2312.71 1214.19 2318.52 1214.19 Z\" fill=\"#000000\" fill-rule=\"evenodd\" fill-opacity=\"1\" /><path clip-path=\"url(#clip660)\" d=\"M2338.69 1243.49 L2343.57 1243.49 L2343.57 1249.37 L2338.69 1249.37 L2338.69 1243.49 Z\" fill=\"#000000\" fill-rule=\"evenodd\" fill-opacity=\"1\" /><path clip-path=\"url(#clip660)\" d=\"M2357.78 1245.44 L2374.1 1245.44 L2374.1 1249.37 L2352.16 1249.37 L2352.16 1245.44 Q2354.82 1242.68 2359.4 1238.05 Q2364.01 1233.4 2365.19 1232.06 Q2367.44 1229.54 2368.32 1227.8 Q2369.22 1226.04 2369.22 1224.35 Q2369.22 1221.6 2367.27 1219.86 Q2365.35 1218.12 2362.25 1218.12 Q2360.05 1218.12 2357.6 1218.89 Q2355.17 1219.65 2352.39 1221.2 L2352.39 1216.48 Q2355.21 1215.35 2357.67 1214.77 Q2360.12 1214.19 2362.16 1214.19 Q2367.53 1214.19 2370.72 1216.87 Q2373.92 1219.56 2373.92 1224.05 Q2373.92 1226.18 2373.11 1228.1 Q2372.32 1230 2370.21 1232.59 Q2369.63 1233.26 2366.53 1236.48 Q2363.43 1239.67 2357.78 1245.44 Z\" fill=\"#000000\" fill-rule=\"evenodd\" fill-opacity=\"1\" /><path clip-path=\"url(#clip660)\" d=\"M2383.96 1214.81 L2402.32 1214.81 L2402.32 1218.75 L2388.25 1218.75 L2388.25 1227.22 Q2389.26 1226.87 2390.28 1226.71 Q2391.3 1226.53 2392.32 1226.53 Q2398.11 1226.53 2401.49 1229.7 Q2404.87 1232.87 2404.87 1238.29 Q2404.87 1243.86 2401.39 1246.97 Q2397.92 1250.05 2391.6 1250.05 Q2389.43 1250.05 2387.16 1249.67 Q2384.91 1249.3 2382.51 1248.56 L2382.51 1243.86 Q2384.59 1245 2386.81 1245.55 Q2389.03 1246.11 2391.51 1246.11 Q2395.51 1246.11 2397.85 1244 Q2400.19 1241.9 2400.19 1238.29 Q2400.19 1234.67 2397.85 1232.57 Q2395.51 1230.46 2391.51 1230.46 Q2389.63 1230.46 2387.76 1230.88 Q2385.91 1231.3 2383.96 1232.17 L2383.96 1214.81 Z\" fill=\"#000000\" fill-rule=\"evenodd\" fill-opacity=\"1\" /><path clip-path=\"url(#clip660)\" d=\"M2280.7 995.442 Q2277.09 995.442 2275.26 999.007 Q2273.45 1002.55 2273.45 1009.68 Q2273.45 1016.78 2275.26 1020.35 Q2277.09 1023.89 2280.7 1023.89 Q2284.33 1023.89 2286.14 1020.35 Q2287.97 1016.78 2287.97 1009.68 Q2287.97 1002.55 2286.14 999.007 Q2284.33 995.442 2280.7 995.442 M2280.7 991.739 Q2286.51 991.739 2289.57 996.345 Q2292.64 1000.93 2292.64 1009.68 Q2292.64 1018.41 2289.57 1023.01 Q2286.51 1027.59 2280.7 1027.59 Q2274.89 1027.59 2271.81 1023.01 Q2268.76 1018.41 2268.76 1009.68 Q2268.76 1000.93 2271.81 996.345 Q2274.89 991.739 2280.7 991.739 Z\" fill=\"#000000\" fill-rule=\"evenodd\" fill-opacity=\"1\" /><path clip-path=\"url(#clip660)\" d=\"M2280.7 772.992 Q2277.09 772.992 2275.26 776.557 Q2273.45 780.099 2273.45 787.228 Q2273.45 794.335 2275.26 797.9 Q2277.09 801.441 2280.7 801.441 Q2284.33 801.441 2286.14 797.9 Q2287.97 794.335 2287.97 787.228 Q2287.97 780.099 2286.14 776.557 Q2284.33 772.992 2280.7 772.992 M2280.7 769.289 Q2286.51 769.289 2289.57 773.895 Q2292.64 778.478 2292.64 787.228 Q2292.64 795.955 2289.57 800.562 Q2286.51 805.145 2280.7 805.145 Q2274.89 805.145 2271.81 800.562 Q2268.76 795.955 2268.76 787.228 Q2268.76 778.478 2271.81 773.895 Q2274.89 769.289 2280.7 769.289 Z\" fill=\"#000000\" fill-rule=\"evenodd\" fill-opacity=\"1\" /><path clip-path=\"url(#clip660)\" d=\"M2300.86 798.594 L2305.75 798.594 L2305.75 804.474 L2300.86 804.474 L2300.86 798.594 Z\" fill=\"#000000\" fill-rule=\"evenodd\" fill-opacity=\"1\" /><path clip-path=\"url(#clip660)\" d=\"M2319.96 800.538 L2336.28 800.538 L2336.28 804.474 L2314.33 804.474 L2314.33 800.538 Q2317 797.784 2321.58 793.154 Q2326.19 788.501 2327.37 787.159 Q2329.61 784.636 2330.49 782.9 Q2331.39 781.14 2331.39 779.451 Q2331.39 776.696 2329.45 774.96 Q2327.53 773.224 2324.43 773.224 Q2322.23 773.224 2319.77 773.988 Q2317.34 774.752 2314.57 776.302 L2314.57 771.58 Q2317.39 770.446 2319.84 769.867 Q2322.3 769.289 2324.33 769.289 Q2329.7 769.289 2332.9 771.974 Q2336.09 774.659 2336.09 779.15 Q2336.09 781.279 2335.28 783.201 Q2334.5 785.099 2332.39 787.691 Q2331.81 788.363 2328.71 791.58 Q2325.61 794.775 2319.96 800.538 Z\" fill=\"#000000\" fill-rule=\"evenodd\" fill-opacity=\"1\" /><path clip-path=\"url(#clip660)\" d=\"M2346.14 769.914 L2364.5 769.914 L2364.5 773.849 L2350.42 773.849 L2350.42 782.321 Q2351.44 781.974 2352.46 781.812 Q2353.48 781.626 2354.5 781.626 Q2360.28 781.626 2363.66 784.798 Q2367.04 787.969 2367.04 793.386 Q2367.04 798.964 2363.57 802.066 Q2360.1 805.145 2353.78 805.145 Q2351.6 805.145 2349.33 804.775 Q2347.09 804.404 2344.68 803.663 L2344.68 798.964 Q2346.76 800.099 2348.99 800.654 Q2351.21 801.21 2353.69 801.21 Q2357.69 801.21 2360.03 799.103 Q2362.37 796.997 2362.37 793.386 Q2362.37 789.775 2360.03 787.668 Q2357.69 785.562 2353.69 785.562 Q2351.81 785.562 2349.94 785.978 Q2348.08 786.395 2346.14 787.275 L2346.14 769.914 Z\" fill=\"#000000\" fill-rule=\"evenodd\" fill-opacity=\"1\" /><path clip-path=\"url(#clip660)\" d=\"M2280.7 550.542 Q2277.09 550.542 2275.26 554.107 Q2273.45 557.649 2273.45 564.778 Q2273.45 571.885 2275.26 575.449 Q2277.09 578.991 2280.7 578.991 Q2284.33 578.991 2286.14 575.449 Q2287.97 571.885 2287.97 564.778 Q2287.97 557.649 2286.14 554.107 Q2284.33 550.542 2280.7 550.542 M2280.7 546.839 Q2286.51 546.839 2289.57 551.445 Q2292.64 556.028 2292.64 564.778 Q2292.64 573.505 2289.57 578.111 Q2286.51 582.695 2280.7 582.695 Q2274.89 582.695 2271.81 578.111 Q2268.76 573.505 2268.76 564.778 Q2268.76 556.028 2271.81 551.445 Q2274.89 546.839 2280.7 546.839 Z\" fill=\"#000000\" fill-rule=\"evenodd\" fill-opacity=\"1\" /><path clip-path=\"url(#clip660)\" d=\"M2300.86 576.144 L2305.75 576.144 L2305.75 582.024 L2300.86 582.024 L2300.86 576.144 Z\" fill=\"#000000\" fill-rule=\"evenodd\" fill-opacity=\"1\" /><path clip-path=\"url(#clip660)\" d=\"M2315.98 547.464 L2334.33 547.464 L2334.33 551.399 L2320.26 551.399 L2320.26 559.871 Q2321.28 559.524 2322.3 559.362 Q2323.32 559.176 2324.33 559.176 Q2330.12 559.176 2333.5 562.348 Q2336.88 565.519 2336.88 570.936 Q2336.88 576.514 2333.41 579.616 Q2329.94 582.695 2323.62 582.695 Q2321.44 582.695 2319.17 582.324 Q2316.93 581.954 2314.52 581.213 L2314.52 576.514 Q2316.6 577.649 2318.83 578.204 Q2321.05 578.76 2323.52 578.76 Q2327.53 578.76 2329.87 576.653 Q2332.2 574.547 2332.2 570.936 Q2332.2 567.325 2329.87 565.218 Q2327.53 563.112 2323.52 563.112 Q2321.65 563.112 2319.77 563.528 Q2317.92 563.945 2315.98 564.825 L2315.98 547.464 Z\" fill=\"#000000\" fill-rule=\"evenodd\" fill-opacity=\"1\" /><path clip-path=\"url(#clip660)\" d=\"M2356.09 550.542 Q2352.48 550.542 2350.65 554.107 Q2348.85 557.649 2348.85 564.778 Q2348.85 571.885 2350.65 575.449 Q2352.48 578.991 2356.09 578.991 Q2359.73 578.991 2361.53 575.449 Q2363.36 571.885 2363.36 564.778 Q2363.36 557.649 2361.53 554.107 Q2359.73 550.542 2356.09 550.542 M2356.09 546.839 Q2361.9 546.839 2364.96 551.445 Q2368.04 556.028 2368.04 564.778 Q2368.04 573.505 2364.96 578.111 Q2361.9 582.695 2356.09 582.695 Q2350.28 582.695 2347.2 578.111 Q2344.15 573.505 2344.15 564.778 Q2344.15 556.028 2347.2 551.445 Q2350.28 546.839 2356.09 546.839 Z\" fill=\"#000000\" fill-rule=\"evenodd\" fill-opacity=\"1\" /><path clip-path=\"url(#clip660)\" d=\"M2280.7 328.092 Q2277.09 328.092 2275.26 331.657 Q2273.45 335.199 2273.45 342.328 Q2273.45 349.435 2275.26 352.999 Q2277.09 356.541 2280.7 356.541 Q2284.33 356.541 2286.14 352.999 Q2287.97 349.435 2287.97 342.328 Q2287.97 335.199 2286.14 331.657 Q2284.33 328.092 2280.7 328.092 M2280.7 324.388 Q2286.51 324.388 2289.57 328.995 Q2292.64 333.578 2292.64 342.328 Q2292.64 351.055 2289.57 355.661 Q2286.51 360.245 2280.7 360.245 Q2274.89 360.245 2271.81 355.661 Q2268.76 351.055 2268.76 342.328 Q2268.76 333.578 2271.81 328.995 Q2274.89 324.388 2280.7 324.388 Z\" fill=\"#000000\" fill-rule=\"evenodd\" fill-opacity=\"1\" /><path clip-path=\"url(#clip660)\" d=\"M2300.86 353.694 L2305.75 353.694 L2305.75 359.573 L2300.86 359.573 L2300.86 353.694 Z\" fill=\"#000000\" fill-rule=\"evenodd\" fill-opacity=\"1\" /><path clip-path=\"url(#clip660)\" d=\"M2314.75 325.013 L2336.97 325.013 L2336.97 327.004 L2324.43 359.573 L2319.54 359.573 L2331.35 328.949 L2314.75 328.949 L2314.75 325.013 Z\" fill=\"#000000\" fill-rule=\"evenodd\" fill-opacity=\"1\" /><path clip-path=\"url(#clip660)\" d=\"M2346.14 325.013 L2364.5 325.013 L2364.5 328.949 L2350.42 328.949 L2350.42 337.421 Q2351.44 337.074 2352.46 336.911 Q2353.48 336.726 2354.5 336.726 Q2360.28 336.726 2363.66 339.898 Q2367.04 343.069 2367.04 348.486 Q2367.04 354.064 2363.57 357.166 Q2360.1 360.245 2353.78 360.245 Q2351.6 360.245 2349.33 359.874 Q2347.09 359.504 2344.68 358.763 L2344.68 354.064 Q2346.76 355.198 2348.99 355.754 Q2351.21 356.31 2353.69 356.31 Q2357.69 356.31 2360.03 354.203 Q2362.37 352.097 2362.37 348.486 Q2362.37 344.874 2360.03 342.768 Q2357.69 340.661 2353.69 340.661 Q2351.81 340.661 2349.94 341.078 Q2348.08 341.495 2346.14 342.374 L2346.14 325.013 Z\" fill=\"#000000\" fill-rule=\"evenodd\" fill-opacity=\"1\" /><path clip-path=\"url(#clip660)\" d=\"M2269.43 133.188 L2277.07 133.188 L2277.07 106.823 L2268.76 108.489 L2268.76 104.23 L2277.02 102.563 L2281.7 102.563 L2281.7 133.188 L2289.33 133.188 L2289.33 137.123 L2269.43 137.123 L2269.43 133.188 Z\" fill=\"#000000\" fill-rule=\"evenodd\" fill-opacity=\"1\" /><path clip-path=\"url(#clip660)\" d=\"M2298.78 131.244 L2303.66 131.244 L2303.66 137.123 L2298.78 137.123 L2298.78 131.244 Z\" fill=\"#000000\" fill-rule=\"evenodd\" fill-opacity=\"1\" /><path clip-path=\"url(#clip660)\" d=\"M2323.85 105.642 Q2320.24 105.642 2318.41 109.207 Q2316.6 112.748 2316.6 119.878 Q2316.6 126.984 2318.41 130.549 Q2320.24 134.091 2323.85 134.091 Q2327.48 134.091 2329.29 130.549 Q2331.12 126.984 2331.12 119.878 Q2331.12 112.748 2329.29 109.207 Q2327.48 105.642 2323.85 105.642 M2323.85 101.938 Q2329.66 101.938 2332.71 106.545 Q2335.79 111.128 2335.79 119.878 Q2335.79 128.605 2332.71 133.211 Q2329.66 137.795 2323.85 137.795 Q2318.04 137.795 2314.96 133.211 Q2311.9 128.605 2311.9 119.878 Q2311.9 111.128 2314.96 106.545 Q2318.04 101.938 2323.85 101.938 Z\" fill=\"#000000\" fill-rule=\"evenodd\" fill-opacity=\"1\" /><path clip-path=\"url(#clip660)\" d=\"M2354.01 105.642 Q2350.4 105.642 2348.57 109.207 Q2346.76 112.748 2346.76 119.878 Q2346.76 126.984 2348.57 130.549 Q2350.4 134.091 2354.01 134.091 Q2357.64 134.091 2359.45 130.549 Q2361.28 126.984 2361.28 119.878 Q2361.28 112.748 2359.45 109.207 Q2357.64 105.642 2354.01 105.642 M2354.01 101.938 Q2359.82 101.938 2362.88 106.545 Q2365.95 111.128 2365.95 119.878 Q2365.95 128.605 2362.88 133.211 Q2359.82 137.795 2354.01 137.795 Q2348.2 137.795 2345.12 133.211 Q2342.07 128.605 2342.07 119.878 Q2342.07 111.128 2345.12 106.545 Q2348.2 101.938 2354.01 101.938 Z\" fill=\"#000000\" fill-rule=\"evenodd\" fill-opacity=\"1\" /><polyline clip-path=\"url(#clip660)\" style=\"stroke:#000000; stroke-linecap:butt; stroke-linejoin:round; stroke-width:4; stroke-opacity:1; fill:none\" points=\"\n",
       "  2232.76,1486.45 2232.76,1458.17 2256.76,1458.17 2232.76,1458.17 2232.76,1235.72 2256.76,1235.72 2232.76,1235.72 2232.76,1013.27 2256.76,1013.27 2232.76,1013.27 \n",
       "  2232.76,790.822 2256.76,790.822 2232.76,790.822 2232.76,568.372 2256.76,568.372 2232.76,568.372 2232.76,345.922 2256.76,345.922 2232.76,345.922 2232.76,123.472 \n",
       "  2256.76,123.472 2232.76,123.472 \n",
       "  \"/>\n",
       "</svg>\n"
      ]
     },
     "execution_count": 285,
     "metadata": {},
     "output_type": "execute_result"
    }
   ],
   "source": [
    "using Statistics\n",
    "data_num = select(data, Not(:Column61));\n",
    "matrix_data = Matrix(data_num);\n",
    "correlation = cor(matrix_data);\n",
    "using Plots\n",
    "heatmap(correlation, yflip=true, type=\"heatmap\",color=:oxy,title= \"Correlation of sonar data\")"
   ]
  },
  {
   "cell_type": "markdown",
   "id": "54c2414f",
   "metadata": {},
   "source": [
    "It is found that the data in general are independent and most of them present a correlation index higher than 0.75. There is also a set of outlier data that have been plotted in red. The exercise is now to work correctly with this data."
   ]
  },
  {
   "cell_type": "markdown",
   "id": "3b405d40",
   "metadata": {},
   "source": [
    "### 2. Choose a performance function suitable for the problem.\n"
   ]
  },
  {
   "cell_type": "markdown",
   "id": "c298fc08",
   "metadata": {},
   "source": [
    "### Confusion Matrix and metrics\n",
    "The matrix will allow to see the labels versus the predictions. It relates rows of predictions to columns of observations, throughout this paper you will work with this matrix to measure the level of prediction.\n",
    "\n",
    "In statistics it is also important to measure false positives {PF), false negatives (NF), true positives (PT) and true negatives (NT), which measures for example if a person can fall on a mine that was marked as non-existent but in practice was there. Or for example if a mine that was marked in the prediction was not actually present. Particularly one can theorize this fact and give more weight to a human life over a mine clearance operation cost. But since there is no information on this, the Accuracy performance metric is chosen.\n",
    "\n",
    "$$ A = \\frac{NT +PT}{NT + PT + PF + NF}$$\n",
    "\n",
    "#### The D^2 score (Dummy estimators)\n",
    "\n",
    "The D² score computes the fraction of deviance explained. It is a generalization of R², where the squared error is generalized and replaced by a deviance of choice $dev(y,\\overline{y})$ (e.g., Tweedie, pinball or mean absolute error). D² is a form of a skill score. It is calculated as\n",
    "\n",
    "$$ D^{2}(y,\\overline{y}) = 1 - \\frac{dev(y,\\overline{y})}{dev(y,y_{null})}$$\n",
    "\n",
    "In summary, two measures will be handled, on the one hand the precision and on the other hand a dummy estimator that will measure the precision of the confusion matrix from the command \"score\".\n",
    "\n",
    "\n"
   ]
  },
  {
   "cell_type": "markdown",
   "id": "a7be8699",
   "metadata": {},
   "source": [
    "###  Data selection and processing\n",
    "First, data with a correlation greater than 0.8 and 0.85 are filtered to improve the accuracy of the classification. Also I will drop the database of atypical data.\n"
   ]
  },
  {
   "cell_type": "code",
   "execution_count": 286,
   "id": "c3da400f",
   "metadata": {},
   "outputs": [],
   "source": [
    "Filter = findall(x -> abs(x) > 0.8, corr);\n",
    "Listcor = [[names(data_num, idx.I[1]); names(data_num, idx.I[2])] for idx in Filter];\n",
    "Listcorfilter = [[x[1];x[2]] for x in Listcor if x[1] != x[2]];\n",
    "Datadrop = unique([x[1] for x in Listcorfilter]);\n",
    "atypicaldata = select(data, Not(Datadrop)); "
   ]
  },
  {
   "cell_type": "markdown",
   "id": "6ef8fd19",
   "metadata": {},
   "source": [
    "#### Functions for format processing\n",
    "as observed in the pre-processing, it is necessary to generate a better format, for this the split function is constructed below, the target column is also important, then a column for rocks and another for mines will be interpreted in a binary way with the function encode"
   ]
  },
  {
   "cell_type": "code",
   "execution_count": 287,
   "id": "1f4076ee",
   "metadata": {},
   "outputs": [
    {
     "data": {
      "text/plain": [
       "encode (generic function with 1 method)"
      ]
     },
     "execution_count": 287,
     "metadata": {},
     "output_type": "execute_result"
    }
   ],
   "source": [
    "function encode(x::Array)\n",
    "    uniques = unique(x)\n",
    "    return [convert(Array, uniques .== n) for n in x]\n",
    "end"
   ]
  },
  {
   "cell_type": "code",
   "execution_count": 288,
   "id": "e8dd056c",
   "metadata": {},
   "outputs": [
    {
     "data": {
      "text/plain": [
       "splitfun (generic function with 1 method)"
      ]
     },
     "execution_count": 288,
     "metadata": {},
     "output_type": "execute_result"
    }
   ],
   "source": [
    "function splitfun(df, pct)\n",
    "    @assert 0 <= pct <= 1\n",
    "    ids = collect(axes(df, 1))\n",
    "    sel = ids .<= nrow(df) .* pct\n",
    "    return view(df, sel, :), view(df, .!sel, :)\n",
    "end"
   ]
  },
  {
   "cell_type": "markdown",
   "id": "3db3b918",
   "metadata": {},
   "source": [
    "### Improved processing\n",
    "\n",
    "After several experiments I found a good way to be able to use the training and test data in such a way that the models present a good comparison between them, then I generate the databases cleaned and removing those outliers previously mentioned."
   ]
  },
  {
   "cell_type": "code",
   "execution_count": 289,
   "id": "58c321f4",
   "metadata": {},
   "outputs": [],
   "source": [
    "rocks = filter(:Column61 => ==(\"R\"), atypicaldata);\n",
    "mines = filter(:Column61 => ==(\"M\"), atypicaldata);\n",
    "metric_mine_rock = mines[1:length(rocks.Column61),:];\n",
    "rocktrain,rocktest = splitfun(rocks ,0.8);\n",
    "minetrain,minetest = splitfun(metric_mine_rock,0.8); \n",
    "Datatrain = [rocktrain;minetrain];\n",
    "Datatest = [rocktest;minetest];\n",
    "TrainC = names(Datatrain);\n",
    "TrainCinput = [x for x in TrainC if  !occursin(\"Column61\",x) ];\n",
    "Datatrainput = Datatrain[!,TrainCinput];\n",
    "Datatrainput[!,:cols_sum]= sum(eachcol(Datatrainput));\n",
    "TestC = names(Datatest);\n",
    "TestCinput = [x for x in TestC if  !occursin(\"Column61\",x) ];\n",
    "Datatestinput = Datatest[!,TestCinput]; \n",
    "Datatestinput[!,:cols_sum]= sum(eachcol(Datatestinput));"
   ]
  },
  {
   "cell_type": "markdown",
   "id": "b9507720",
   "metadata": {},
   "source": [
    "It is necessary to create a filter so that the data can be classified according to the categories, and thus be able to run the models, once the data are ready we proceed to the next section of models."
   ]
  },
  {
   "cell_type": "code",
   "execution_count": 290,
   "id": "3021fd75",
   "metadata": {},
   "outputs": [],
   "source": [
    "filtercategory = encode(Datatrain.Column61);\n",
    "Datatrainput[!,:Column61_R] = [x[1] for x in filtercategory];\n",
    "Datatrainput[!,:Column61_M] = [x[2] for x in filtercategory];\n",
    "fctest = encode(Datatest.Column61);\n",
    "Datatestinput[!,:Column61_R] = [x[1] for x in fctest];\n",
    "Datatestinput[!,:Column61_M] = [x[2] for x in fctest];\n",
    "d = describe(Datatrainput);"
   ]
  },
  {
   "cell_type": "markdown",
   "id": "6c5ff181",
   "metadata": {},
   "source": [
    "### 3. Adjust the following algorithms to the data using the default parameters: Linear Regression, Logistic Regression, SVM, KNN, Decision trees."
   ]
  },
  {
   "cell_type": "code",
   "execution_count": 291,
   "id": "e6a59eae",
   "metadata": {},
   "outputs": [
    {
     "name": "stderr",
     "output_type": "stream",
     "text": [
      "WARNING: redefinition of constant LogisticRegression. This may fail, cause incorrect answers, or produce other errors.\n",
      "WARNING: redefinition of constant LinearRegression. This may fail, cause incorrect answers, or produce other errors.\n",
      "WARNING: redefinition of constant SVC. This may fail, cause incorrect answers, or produce other errors.\n",
      "WARNING: redefinition of constant KNeighborsClassifier. This may fail, cause incorrect answers, or produce other errors.\n",
      "WARNING: redefinition of constant DecisionTreeClassifier. This may fail, cause incorrect answers, or produce other errors.\n"
     ]
    }
   ],
   "source": [
    "using ScikitLearn\n",
    "@sk_import linear_model: LogisticRegression\n",
    "@sk_import linear_model: LinearRegression\n",
    "@sk_import svm: SVC;  \n",
    "@sk_import neighbors: KNeighborsClassifier;\n",
    "@sk_import tree: DecisionTreeClassifier;"
   ]
  },
  {
   "cell_type": "code",
   "execution_count": 292,
   "id": "8e167248",
   "metadata": {},
   "outputs": [],
   "source": [
    "#I import all the Scikitlearn models so that we can run them in the format I handled in point 3.\n",
    "logistic_model = LogisticRegression(penalty=\"l2\")\n",
    "linear_model = LinearRegression()\n",
    "neighbors_model = KNeighborsClassifier(2);\n",
    "svm_model = SVC(gamma=2, C=1);\n",
    "tree_model = DecisionTreeClassifier();\n",
    "X_train = Array(select(Datatrainput, Not([:Column61_R,:Column61_M]))); \n",
    "y_train = Datatrainput.Column61_R;\n",
    "X_test = Array(select(Datatestinput, Not([:Column61_R,:Column61_M])));\n",
    "y_test = Datatestinput.Column61_R;"
   ]
  },
  {
   "cell_type": "markdown",
   "id": "ee625d13",
   "metadata": {},
   "source": [
    "I now run the models using the fit! function, then in section 4 we will compare the performance measures."
   ]
  },
  {
   "cell_type": "code",
   "execution_count": 293,
   "id": "5332dbdb",
   "metadata": {},
   "outputs": [],
   "source": [
    "using ScikitLearn: fit!,score,predict\n",
    "fit!(linear_model,X_train,y_train);\n",
    "fit!(logistic_model,X_train,y_train);\n",
    "fit!(tree_model,X_train,y_train);\n",
    "fit!(svm_model,X_train,y_train);\n",
    "fit!(neighbors_model,X_train,y_train);\n",
    "# confusion_matrix(y_train, y_linear)\n",
    "y_linear = predict(linear_model, X_test);\n",
    "y_logistic = predict(logistic_model, X_test);\n",
    "y_tree = predict(tree_model, X_test);\n",
    "y_smv = predict(svm_model, X_test);\n",
    "y_knn = predict(neighbors_model, X_test);\n"
   ]
  },
  {
   "cell_type": "markdown",
   "id": "3c1a326e",
   "metadata": {},
   "source": [
    "### 4. Select the algorithm with the highest performance measure."
   ]
  },
  {
   "cell_type": "code",
   "execution_count": 299,
   "id": "4c38c8cf",
   "metadata": {},
   "outputs": [
    {
     "data": {
      "text/plain": [
       "-0.07690129017734648"
      ]
     },
     "execution_count": 299,
     "metadata": {},
     "output_type": "execute_result"
    }
   ],
   "source": [
    "score(linear_model, X_test, y_test)\n"
   ]
  },
  {
   "cell_type": "code",
   "execution_count": 301,
   "id": "7c404e91",
   "metadata": {},
   "outputs": [
    {
     "data": {
      "text/plain": [
       "0.55"
      ]
     },
     "execution_count": 301,
     "metadata": {},
     "output_type": "execute_result"
    }
   ],
   "source": [
    "score(logistic_model, X_test, y_test)"
   ]
  },
  {
   "cell_type": "code",
   "execution_count": 300,
   "id": "dd1db96e",
   "metadata": {},
   "outputs": [
    {
     "data": {
      "text/plain": [
       "0.525"
      ]
     },
     "execution_count": 300,
     "metadata": {},
     "output_type": "execute_result"
    }
   ],
   "source": [
    "score(svm_model, X_test, y_test)"
   ]
  },
  {
   "cell_type": "code",
   "execution_count": 302,
   "id": "2f3a21c2",
   "metadata": {},
   "outputs": [
    {
     "data": {
      "text/plain": [
       "0.475"
      ]
     },
     "execution_count": 302,
     "metadata": {},
     "output_type": "execute_result"
    }
   ],
   "source": [
    "score(neighbors_model, X_test, y_test)"
   ]
  },
  {
   "cell_type": "code",
   "execution_count": 303,
   "id": "32777dca",
   "metadata": {},
   "outputs": [
    {
     "data": {
      "text/plain": [
       "0.55"
      ]
     },
     "execution_count": 303,
     "metadata": {},
     "output_type": "execute_result"
    }
   ],
   "source": [
    "score(tree_model, X_test, y_test)"
   ]
  },
  {
   "cell_type": "markdown",
   "id": "7dc8d06a",
   "metadata": {},
   "source": [
    "###  Results: \n",
    "\n",
    "- It is observed that the linear model has a metric of -0.0769, \n",
    "\n",
    "- The SVM model has a score of 0.525.\n",
    "\n",
    "- The logistic regression model 0.55 \n",
    "\n",
    "- The KNN model a score of 0.475\n",
    "\n",
    "- The decision tree model 0.55\n",
    "\n",
    "#### Accordingly, using the dummy estimator, it is concluded that the best models are the logistic regression model and the decision tree. However, we will proceed to evaluate the model with acurracy"
   ]
  },
  {
   "cell_type": "markdown",
   "id": "193188d8",
   "metadata": {},
   "source": [
    "## Code for implementing accuracy\n",
    "\n",
    "Because false positives and true positives and negatives have to be calculated, the following is the code for the measurement."
   ]
  },
  {
   "cell_type": "code",
   "execution_count": 304,
   "id": "34a9b441",
   "metadata": {},
   "outputs": [
    {
     "name": "stdout",
     "output_type": "stream",
     "text": [
      "[0.0491, 0.1313, 0.0201, 0.0335, 0.0307, 0.0116, 0.0331, 0.0264, 0.0454, 0.0114, 0.0363, 0.0162, 0.0374, 0.0443, 0.0968, 0.079, 0.1083, 0.0094, 0.0164, 0.0412, 0.0707, 0.0526, 0.0516, 0.0299, 0.0721, 0.0231, 0.0131, 0.0233, 0.0117, 0.0211, 0.0107, 0.0235, 0.0305, 0.0217, 0.0163, 0.0015, 0.013, 0.0179, 0.0197, 0.0394, 0.0269, 0.034, 0.0209, 0.0368, 0.0158, 0.0156, 0.0392, 0.0238, 0.0323, 0.0522, 0.026, 0.0262, 0.0762, 0.0519, 0.0164, 0.0123, 0.0079, 0.0124, 0.0352, 0.027, 0.0664, 0.0293, 0.0201, 0.0189, 0.024, 0.0084, 0.0311, 0.0206, 0.0091, 0.0093, 0.0408, 0.019, 0.0216, 0.0225, 0.0125, 0.0071, 0.0176, 0.0368, 0.0216, 0.0208, 0.0231, 0.0108, 0.01, 0.0409, 0.0378, 0.0365, 0.0126, 0.0181]"
     ]
    }
   ],
   "source": [
    "trainingPath = \"Data/sonar1.csv\"\n",
    "function trainingSelection(n, path=trainingPath)\n",
    "    sonarRaw = CSV.read(path, DataFrame)\n",
    "    sonar = sort!(sonarRaw, [:61])\n",
    "    k = size(sonar,1)\n",
    "    m = findfirst(isequal(\"R\"), sonar[!,:61])\n",
    "    if (n > (k-m) || n > (m-1))\n",
    "        print(\"No enought data for balance \")\n",
    "        return nothing\n",
    "    end\n",
    "    \n",
    "    RowsMine = sample(1:(m-1), n, replace=false, ordered=true)\n",
    "    sonarMine = sonar[RowsMine, :] \n",
    "    RowsRock = sample(m:k, n, replace=false, ordered=true) \n",
    "    sonarRock = sonar[RowsRock, :] \n",
    "    testData = sonar[Not(union(RowsMine, RowsRock)),:] # Dataframe con las filas que no estan ni en RowsMine ni RowsRock\n",
    "    trainingData = vcat(sonarMine, sonarRock); # Union de sonarMine con sonarRock (Conjunto de entrenamiento)\n",
    "    return trainingData, testData\n",
    "end\n",
    "out = trainingSelection(60) \n",
    "training = out[1] \n",
    "testing = out[2] \n",
    "training.\"f61\" .= replace.(training.\"f61\", \"M\" => \"1\") \n",
    "training.\"f61\" .= replace.(training.\"f61\", \"R\" => \"0\")\n",
    "training.\"f61\" = parse.(Float64, training.\"f61\")\n",
    "training[training.\"f61\" .< 0.5,:f61] .= -1.0;\n",
    "testing.\"f61\" .= replace.(testing.\"f61\", \"M\" => \"1\")\n",
    "testing.\"f61\" .= replace.(testing.\"f61\", \"R\" => \"0\")\n",
    "testing.\"f61\" = parse.(Float64, testing.\"f61\")\n",
    "testing[testing.\"f61\" .< 0.5,:f61] .= -1.0;\n",
    "print(testing.\"f1\")\n",
    "CSV.write(\"Data/training.csv\", training)\n",
    "CSV.write(\"Data/test.csv\", testing);\n",
    "x_train = Array(training)[:, 1:60] # Separación de variables de caracteristica y etiquetas\n",
    "y_train = Array(training)[:,61]\n",
    "x_test = Array(testing)[:, 1:60]\n",
    "y_test = Array(testing)[:, 61];"
   ]
  },
  {
   "cell_type": "markdown",
   "id": "5d611ac7",
   "metadata": {},
   "source": [
    "### Linear Regression Model"
   ]
  },
  {
   "cell_type": "code",
   "execution_count": 311,
   "id": "4032a8ab",
   "metadata": {},
   "outputs": [
    {
     "name": "stdout",
     "output_type": "stream",
     "text": [
      "Accuracy: 56.818%\n"
     ]
    }
   ],
   "source": [
    "linReg_model = LinearRegression()\n",
    "fit!(linReg_model, x_train, y_train)\n",
    "prediction = predict(linReg_model, x_test)\n",
    "prediction_class = [if x < 0 -1 else 1 end for x in prediction]\n",
    "@printf \"Accuracy: %.3f%%\\n\" mean((prediction_class .== y_test))*100"
   ]
  },
  {
   "cell_type": "markdown",
   "id": "e50f5752",
   "metadata": {},
   "source": [
    "### Results of Linear Regression\n",
    "#### Dummy Score: -0.0769 vs Acuraccy 56.818 %"
   ]
  },
  {
   "cell_type": "markdown",
   "id": "650a2fe5",
   "metadata": {},
   "source": [
    "### Logistic Regression Model"
   ]
  },
  {
   "cell_type": "code",
   "execution_count": 310,
   "id": "082e1270",
   "metadata": {},
   "outputs": [
    {
     "name": "stdout",
     "output_type": "stream",
     "text": [
      "Accuracy: 57.955%\n"
     ]
    }
   ],
   "source": [
    "logReg_model = LogisticRegression()\n",
    "fit!(logReg_model, x_train, y_train)\n",
    "prediction = predict(logReg_model, x_test)\n",
    "prediction_class = [if x < 0 -1 else 1 end for x in prediction]\n",
    "@printf \"Accuracy: %.3f%%\\n\" mean((prediction_class .== y_test))*100"
   ]
  },
  {
   "cell_type": "markdown",
   "id": "85fc4b0c",
   "metadata": {},
   "source": [
    "### Results of Logistic Regression \n",
    "#### Dummy Score: 0.55 vs Accuracy 57.955 %"
   ]
  },
  {
   "cell_type": "markdown",
   "id": "9f8ca176",
   "metadata": {},
   "source": [
    "## Support Vector Machine Model"
   ]
  },
  {
   "cell_type": "code",
   "execution_count": 309,
   "id": "1ccce956",
   "metadata": {},
   "outputs": [
    {
     "name": "stdout",
     "output_type": "stream",
     "text": [
      "Accuracy: 81.818%\n"
     ]
    }
   ],
   "source": [
    "aciertos_c = []\n",
    "for i in 0.1:0.1:100 # Busqueda del hiperparametro entre 0.1 y 100\n",
    "    svm = SVC( C = i)\n",
    "    fit!(svm, x_htrain, y_htrain)\n",
    "    svm_prediccion = predict(svm, x_test)\n",
    "    svm_point = mean((svm_prediccion .== y_test))*100\n",
    "    push!(aciertos_c, svm_point)\n",
    "end\n",
    "Cop = 0.1*(1 + argmax(aciertos_c)) # Valor óptimo del hiperparametro en la metrica escogida\n",
    "svm = SVC( C = Cop) \n",
    "fit!(svm, x_train, y_train) \n",
    "svm_prediction = predict(svm, x_test)\n",
    "@printf \"Accuracy: %.3f%%\\n\" mean((svm_prediction .== y_test))*100"
   ]
  },
  {
   "cell_type": "markdown",
   "id": "fec9eb8e",
   "metadata": {},
   "source": [
    "### Results of SVM Model  \n",
    "#### Dummy Score: 0.525 vs Accuracy 81.818 %"
   ]
  },
  {
   "cell_type": "markdown",
   "id": "5bbe3a75",
   "metadata": {},
   "source": [
    "### KNN Model"
   ]
  },
  {
   "cell_type": "code",
   "execution_count": 312,
   "id": "5199f3af",
   "metadata": {},
   "outputs": [
    {
     "name": "stdout",
     "output_type": "stream",
     "text": [
      "Accuracy: 76.136%\n"
     ]
    }
   ],
   "source": [
    "aciertos_c = []\n",
    "for i in 1:10 \n",
    "    knn = KNeighborsClassifier(n_neighbors = i)\n",
    "    fit!(knn,x_htrain, y_htrain)\n",
    "    knn_prediccion = predict(knn, x_test)\n",
    "\n",
    "    knn_point = mean((knn_prediccion .== y_test))*100\n",
    "    push!(aciertos_c, knn_point)\n",
    "end\n",
    "knn = KNeighborsClassifier(n_neighbors = argmax(aciertos_c))\n",
    "fit!(knn, x_train, y_train)\n",
    "knn_prediction = predict(knn, x_test)\n",
    "@printf \"Accuracy: %.3f%%\\n\" mean((knn_prediction .== y_test))*100"
   ]
  },
  {
   "cell_type": "markdown",
   "id": "840b2659",
   "metadata": {},
   "source": [
    "### Results of KNN Model\n",
    "#### Dummy Score: 0.475 vs Accuracy 76.136 %"
   ]
  },
  {
   "cell_type": "markdown",
   "id": "bcb0aaf7",
   "metadata": {},
   "source": [
    "### Decision Tree Model"
   ]
  },
  {
   "cell_type": "code",
   "execution_count": 313,
   "id": "8406816c",
   "metadata": {},
   "outputs": [
    {
     "name": "stdout",
     "output_type": "stream",
     "text": [
      "Accuracy: 70.455%\n"
     ]
    }
   ],
   "source": [
    "tree_model = DecisionTreeClassifier()\n",
    "fit!(tree_model, x_train, y_train) \n",
    "tree_predic = predict(tree_model, x_test);\n",
    "@printf \"Accuracy: %.3f%%\\n\" mean((tree_predic .== testing.\"f61\"))*100"
   ]
  },
  {
   "cell_type": "markdown",
   "id": "7a243cf8",
   "metadata": {},
   "source": [
    "### Results of Decision Tree\n",
    "#### Dummy Score: 0.55 vs Accuracy 70.455 %"
   ]
  },
  {
   "cell_type": "markdown",
   "id": "88831364",
   "metadata": {},
   "source": [
    "## Conclusions"
   ]
  },
  {
   "cell_type": "markdown",
   "id": "96e14af1",
   "metadata": {},
   "source": [
    "- Linear regression model has a score of -0.0769 and 56.818 % accuraccy.\n",
    "\n",
    "- The logistic regression model 0.55  and 57.955% accuracy.\n",
    "\n",
    "- The SVM model has a score of 0.525 and 81.818 % accuracy.\n",
    "\n",
    "- The KNN model a score of 0.475 and 76.136 % accuracy.\n",
    "\n",
    "- The decision tree model 0.55 and 70.455 % accuracy\n",
    "\n",
    " It is important to say that the selection of data for testing and for training influences the results, depending on the choice of quantity the results change, in general for the dummy indicator of the confusion matrix it is much better to use a logistic regression or a decision tree, while for a measure of precision the best model is SVM followed by KNN and decision trees, what is noticed in general is that a linear regression model is not appropriate in any measure. \n",
    "\n",
    "#### It can be concluded that under the two measures taken the best model is SVM as it is the one that has an excellent performance comparing both measures.\n",
    "\n",
    "\n",
    "\n",
    "\n"
   ]
  }
 ],
 "metadata": {
  "kernelspec": {
   "display_name": "Julia 1.7.2",
   "language": "julia",
   "name": "julia-1.7"
  },
  "language_info": {
   "file_extension": ".jl",
   "mimetype": "application/julia",
   "name": "julia",
   "version": "1.7.2"
  }
 },
 "nbformat": 4,
 "nbformat_minor": 5
}
